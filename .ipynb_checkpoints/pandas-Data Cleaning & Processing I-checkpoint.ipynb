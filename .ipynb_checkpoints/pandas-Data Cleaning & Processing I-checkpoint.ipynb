{
 "cells": [
  {
   "cell_type": "markdown",
   "metadata": {},
   "source": [
    "### Data Cleaning and Processing"
   ]
  },
  {
   "cell_type": "markdown",
   "metadata": {},
   "source": [
    "We will first load a  csv file using pandas.After that we will proceed to data cleaning/prepartion and few functions that are frequently used in Data Processing."
   ]
  },
  {
   "cell_type": "code",
   "execution_count": 2,
   "metadata": {},
   "outputs": [
    {
     "name": "stdout",
     "output_type": "stream",
     "text": [
      "1.19.1\n",
      "1.1.1\n"
     ]
    }
   ],
   "source": [
    "import numpy as np\n",
    "import pandas as pd\n",
    "import matplotlib.pyplot as plt\n",
    "print(np.__version__)\n",
    "print(pd.__version__)\n",
    "# Author @ Ramendra Kumar"
   ]
  },
  {
   "cell_type": "code",
   "execution_count": 3,
   "metadata": {},
   "outputs": [],
   "source": [
    "pd.set_option(\"display.max_rows\", 10)  # This is the setting so that pandas shows only 10 rows in result."
   ]
  },
  {
   "attachments": {
    "BTU%20Data%20Snippet.PNG": {
     "image/png": "[encoded data removed]"
    }
   },
   "cell_type": "markdown",
   "metadata": {},
   "source": [
    "#####  EXPLANATION OF DATA\n",
    "* Below is the snippet of the data set showing only a few rows.\n",
    "![BTU%20Data%20Snippet.PNG](attachment:BTU%20Data%20Snippet.PNG)\n",
    "* This is data of a cooling system used in a Data Centre.' BTU-1' and 'BTU-2' (in 'Device Name' column) are two devices that are taking chilled water return temperature(CHWR), chilled water supply temperature(CHWS)( both in 'Temperature (DegC)and in a blank ' column), the Flow rate of water(in 'Flow Rate (USGPM)' column) and cooling carried out in Tons of refrigeration(in 'TR' columns) at an interval of 5 minutes on a particular day ( in 'Date' column). Data is being recorded for 24 hours every day and this is just a data of one day. We are going to use it to understand Data cleaning and processing through it. This is data from my Research on Data Center at IITD. \n",
    "* I have deliberately colored blank cells. While we import this file using pd.read_csv (as below), the first row automatically is taken as a column header, and any blank cell in the first row will appear as the default column name -'Unnamed:' followed by default column integer index( in this case 3, see below). Similarly, any blank cell on any row after that will be automatically filled with 'NaN'(see below)."
   ]
  },
  {
   "cell_type": "markdown",
   "metadata": {},
   "source": [
    "### 1. Loading Data and getting information about the data"
   ]
  },
  {
   "cell_type": "code",
   "execution_count": 3,
   "metadata": {},
   "outputs": [
    {
     "data": {
      "text/html": [
       "<div>\n",
       "<style scoped>\n",
       "    .dataframe tbody tr th:only-of-type {\n",
       "        vertical-align: middle;\n",
       "    }\n",
       "\n",
       "    .dataframe tbody tr th {\n",
       "        vertical-align: top;\n",
       "    }\n",
       "\n",
       "    .dataframe thead th {\n",
       "        text-align: right;\n",
       "    }\n",
       "</style>\n",
       "<table border=\"1\" class=\"dataframe\">\n",
       "  <thead>\n",
       "    <tr style=\"text-align: right;\">\n",
       "      <th></th>\n",
       "      <th>Device Name</th>\n",
       "      <th>Date</th>\n",
       "      <th>Temperature (DegC)</th>\n",
       "      <th>Unnamed: 3</th>\n",
       "      <th>Flow Rate (USGPM)</th>\n",
       "      <th>TR</th>\n",
       "    </tr>\n",
       "  </thead>\n",
       "  <tbody>\n",
       "    <tr>\n",
       "      <th>0</th>\n",
       "      <td>NaN</td>\n",
       "      <td>NaN</td>\n",
       "      <td>CHWR</td>\n",
       "      <td>CHWS</td>\n",
       "      <td>Flow</td>\n",
       "      <td>Load</td>\n",
       "    </tr>\n",
       "    <tr>\n",
       "      <th>1</th>\n",
       "      <td>BTU-1</td>\n",
       "      <td>2/17/2017 23:55</td>\n",
       "      <td>21.8</td>\n",
       "      <td>18.69</td>\n",
       "      <td>96</td>\n",
       "      <td>22</td>\n",
       "    </tr>\n",
       "    <tr>\n",
       "      <th>2</th>\n",
       "      <td>BTU-2</td>\n",
       "      <td>2/17/2017 23:55</td>\n",
       "      <td>23.35</td>\n",
       "      <td>18.79</td>\n",
       "      <td>86.1</td>\n",
       "      <td>29</td>\n",
       "    </tr>\n",
       "    <tr>\n",
       "      <th>3</th>\n",
       "      <td>BTU-1</td>\n",
       "      <td>2/17/2017 23:50</td>\n",
       "      <td>22.83</td>\n",
       "      <td>19.57</td>\n",
       "      <td>93.5</td>\n",
       "      <td>22.5</td>\n",
       "    </tr>\n",
       "    <tr>\n",
       "      <th>4</th>\n",
       "      <td>BTU-2</td>\n",
       "      <td>2/17/2017 23:50</td>\n",
       "      <td>23.32</td>\n",
       "      <td>19.45</td>\n",
       "      <td>81.5</td>\n",
       "      <td>23.2</td>\n",
       "    </tr>\n",
       "  </tbody>\n",
       "</table>\n",
       "</div>"
      ],
      "text/plain": [
       "  Device Name             Date Temperature (DegC) Unnamed: 3  \\\n",
       "0         NaN              NaN               CHWR       CHWS   \n",
       "1       BTU-1  2/17/2017 23:55               21.8      18.69   \n",
       "2       BTU-2  2/17/2017 23:55              23.35      18.79   \n",
       "3       BTU-1  2/17/2017 23:50              22.83      19.57   \n",
       "4       BTU-2  2/17/2017 23:50              23.32      19.45   \n",
       "\n",
       "  Flow Rate (USGPM)    TR  \n",
       "0              Flow  Load  \n",
       "1                96    22  \n",
       "2              86.1    29  \n",
       "3              93.5  22.5  \n",
       "4              81.5  23.2  "
      ]
     },
     "execution_count": 3,
     "metadata": {},
     "output_type": "execute_result"
    }
   ],
   "source": [
    "data=pd.read_csv('BTU.csv') # Data loading.\n",
    "data.head()\n",
    "# Path should be given if file is in another directory like : pd.read_csv(r'C:\\Users\\hP\\Desktop\\Python_Starter\\BTU.csv')"
   ]
  },
  {
   "cell_type": "code",
   "execution_count": 4,
   "metadata": {},
   "outputs": [
    {
     "data": {
      "text/html": [
       "<div>\n",
       "<style scoped>\n",
       "    .dataframe tbody tr th:only-of-type {\n",
       "        vertical-align: middle;\n",
       "    }\n",
       "\n",
       "    .dataframe tbody tr th {\n",
       "        vertical-align: top;\n",
       "    }\n",
       "\n",
       "    .dataframe thead th {\n",
       "        text-align: right;\n",
       "    }\n",
       "</style>\n",
       "<table border=\"1\" class=\"dataframe\">\n",
       "  <thead>\n",
       "    <tr style=\"text-align: right;\">\n",
       "      <th></th>\n",
       "      <th>Device Name</th>\n",
       "      <th>Date</th>\n",
       "      <th>Temperature (DegC)</th>\n",
       "      <th>Unnamed: 3</th>\n",
       "      <th>Flow Rate (USGPM)</th>\n",
       "      <th>TR</th>\n",
       "    </tr>\n",
       "  </thead>\n",
       "  <tbody>\n",
       "    <tr>\n",
       "      <th>570</th>\n",
       "      <td>BTU-2</td>\n",
       "      <td>2/17/2017 0:10</td>\n",
       "      <td>22.64</td>\n",
       "      <td>18.75</td>\n",
       "      <td>94.9</td>\n",
       "      <td>27.2</td>\n",
       "    </tr>\n",
       "    <tr>\n",
       "      <th>571</th>\n",
       "      <td>BTU-1</td>\n",
       "      <td>2/17/2017 0:05</td>\n",
       "      <td>22.1</td>\n",
       "      <td>18.79</td>\n",
       "      <td>112.4</td>\n",
       "      <td>27.4</td>\n",
       "    </tr>\n",
       "    <tr>\n",
       "      <th>572</th>\n",
       "      <td>BTU-2</td>\n",
       "      <td>2/17/2017 0:05</td>\n",
       "      <td>22.62</td>\n",
       "      <td>18.79</td>\n",
       "      <td>95.7</td>\n",
       "      <td>27</td>\n",
       "    </tr>\n",
       "    <tr>\n",
       "      <th>573</th>\n",
       "      <td>BTU-1</td>\n",
       "      <td>2/17/2017 0:00</td>\n",
       "      <td>21.97</td>\n",
       "      <td>18.79</td>\n",
       "      <td>111.2</td>\n",
       "      <td>26</td>\n",
       "    </tr>\n",
       "    <tr>\n",
       "      <th>574</th>\n",
       "      <td>BTU-2</td>\n",
       "      <td>2/17/2017 0:00</td>\n",
       "      <td>22.7</td>\n",
       "      <td>18.73</td>\n",
       "      <td>94.9</td>\n",
       "      <td>27.8</td>\n",
       "    </tr>\n",
       "  </tbody>\n",
       "</table>\n",
       "</div>"
      ],
      "text/plain": [
       "    Device Name            Date Temperature (DegC) Unnamed: 3  \\\n",
       "570       BTU-2  2/17/2017 0:10              22.64      18.75   \n",
       "571       BTU-1  2/17/2017 0:05               22.1      18.79   \n",
       "572       BTU-2  2/17/2017 0:05              22.62      18.79   \n",
       "573       BTU-1  2/17/2017 0:00              21.97      18.79   \n",
       "574       BTU-2  2/17/2017 0:00               22.7      18.73   \n",
       "\n",
       "    Flow Rate (USGPM)    TR  \n",
       "570              94.9  27.2  \n",
       "571             112.4  27.4  \n",
       "572              95.7    27  \n",
       "573             111.2    26  \n",
       "574              94.9  27.8  "
      ]
     },
     "execution_count": 4,
     "metadata": {},
     "output_type": "execute_result"
    }
   ],
   "source": [
    "data.tail()"
   ]
  },
  {
   "cell_type": "markdown",
   "metadata": {},
   "source": [
    "###### .head() and .tail() gives only first and last 5 rows entries value,for viewing."
   ]
  },
  {
   "cell_type": "code",
   "execution_count": 5,
   "metadata": {},
   "outputs": [
    {
     "name": "stdout",
     "output_type": "stream",
     "text": [
      "<class 'pandas.core.frame.DataFrame'>\n",
      "RangeIndex: 575 entries, 0 to 574\n",
      "Data columns (total 6 columns):\n",
      " #   Column              Non-Null Count  Dtype \n",
      "---  ------              --------------  ----- \n",
      " 0   Device Name         574 non-null    object\n",
      " 1   Date                574 non-null    object\n",
      " 2   Temperature (DegC)  575 non-null    object\n",
      " 3   Unnamed: 3          573 non-null    object\n",
      " 4   Flow Rate (USGPM)   575 non-null    object\n",
      " 5   TR                  574 non-null    object\n",
      "dtypes: object(6)\n",
      "memory usage: 27.1+ KB\n"
     ]
    }
   ],
   "source": [
    "data.info()\n",
    "# Using this, we can get number rows ,number of columns with its name, number of non null entries in each column \n",
    "# and their data types."
   ]
  },
  {
   "cell_type": "markdown",
   "metadata": {},
   "source": [
    "* Result shows that all the columns values are stored as 'object'  data types.\n",
    "* Here object data type means--> data are stored as 'string'.\n",
    "* In some cases, in any column, each cell may contain list,dictionary or any other python data structure.In such cases also the column data type will be 'object'."
   ]
  },
  {
   "cell_type": "code",
   "execution_count": 6,
   "metadata": {},
   "outputs": [
    {
     "data": {
      "text/plain": [
       "Device Name           object\n",
       "Date                  object\n",
       "Temperature (DegC)    object\n",
       "Unnamed: 3            object\n",
       "Flow Rate (USGPM)     object\n",
       "TR                    object\n",
       "dtype: object"
      ]
     },
     "execution_count": 6,
     "metadata": {},
     "output_type": "execute_result"
    }
   ],
   "source": [
    "data.dtypes # This gives only the data types of each columns. "
   ]
  },
  {
   "cell_type": "markdown",
   "metadata": {},
   "source": [
    "### 2. Renaming the column Name"
   ]
  },
  {
   "cell_type": "code",
   "execution_count": 7,
   "metadata": {},
   "outputs": [
    {
     "data": {
      "text/html": [
       "<div>\n",
       "<style scoped>\n",
       "    .dataframe tbody tr th:only-of-type {\n",
       "        vertical-align: middle;\n",
       "    }\n",
       "\n",
       "    .dataframe tbody tr th {\n",
       "        vertical-align: top;\n",
       "    }\n",
       "\n",
       "    .dataframe thead th {\n",
       "        text-align: right;\n",
       "    }\n",
       "</style>\n",
       "<table border=\"1\" class=\"dataframe\">\n",
       "  <thead>\n",
       "    <tr style=\"text-align: right;\">\n",
       "      <th></th>\n",
       "      <th>Device Name</th>\n",
       "      <th>Date</th>\n",
       "      <th>CHWR</th>\n",
       "      <th>CHWS</th>\n",
       "      <th>Flow</th>\n",
       "      <th>Load</th>\n",
       "    </tr>\n",
       "  </thead>\n",
       "  <tbody>\n",
       "    <tr>\n",
       "      <th>0</th>\n",
       "      <td>NaN</td>\n",
       "      <td>NaN</td>\n",
       "      <td>CHWR</td>\n",
       "      <td>CHWS</td>\n",
       "      <td>Flow</td>\n",
       "      <td>Load</td>\n",
       "    </tr>\n",
       "    <tr>\n",
       "      <th>1</th>\n",
       "      <td>BTU-1</td>\n",
       "      <td>2/17/2017 23:55</td>\n",
       "      <td>21.8</td>\n",
       "      <td>18.69</td>\n",
       "      <td>96</td>\n",
       "      <td>22</td>\n",
       "    </tr>\n",
       "    <tr>\n",
       "      <th>2</th>\n",
       "      <td>BTU-2</td>\n",
       "      <td>2/17/2017 23:55</td>\n",
       "      <td>23.35</td>\n",
       "      <td>18.79</td>\n",
       "      <td>86.1</td>\n",
       "      <td>29</td>\n",
       "    </tr>\n",
       "    <tr>\n",
       "      <th>3</th>\n",
       "      <td>BTU-1</td>\n",
       "      <td>2/17/2017 23:50</td>\n",
       "      <td>22.83</td>\n",
       "      <td>19.57</td>\n",
       "      <td>93.5</td>\n",
       "      <td>22.5</td>\n",
       "    </tr>\n",
       "    <tr>\n",
       "      <th>4</th>\n",
       "      <td>BTU-2</td>\n",
       "      <td>2/17/2017 23:50</td>\n",
       "      <td>23.32</td>\n",
       "      <td>19.45</td>\n",
       "      <td>81.5</td>\n",
       "      <td>23.2</td>\n",
       "    </tr>\n",
       "  </tbody>\n",
       "</table>\n",
       "</div>"
      ],
      "text/plain": [
       "  Device Name             Date   CHWR   CHWS  Flow  Load\n",
       "0         NaN              NaN   CHWR   CHWS  Flow  Load\n",
       "1       BTU-1  2/17/2017 23:55   21.8  18.69    96    22\n",
       "2       BTU-2  2/17/2017 23:55  23.35  18.79  86.1    29\n",
       "3       BTU-1  2/17/2017 23:50  22.83  19.57  93.5  22.5\n",
       "4       BTU-2  2/17/2017 23:50  23.32  19.45  81.5  23.2"
      ]
     },
     "execution_count": 7,
     "metadata": {},
     "output_type": "execute_result"
    }
   ],
   "source": [
    "data.rename({'Temperature (DegC)':'CHWR','Unnamed: 3':'CHWS','Flow Rate (USGPM)':'Flow','TR':'Load'},\n",
    "            axis='columns',inplace=True)\n",
    "# can use in any number of columns\n",
    "# Inside '.rename' pass the dictionary,where previous column name is given as 'key' and new column name is given as 'value'.Simpe!!!\n",
    "data.head()"
   ]
  },
  {
   "cell_type": "markdown",
   "metadata": {},
   "source": [
    "### 3.  Dropping the  first row"
   ]
  },
  {
   "cell_type": "code",
   "execution_count": 8,
   "metadata": {},
   "outputs": [
    {
     "data": {
      "text/html": [
       "<div>\n",
       "<style scoped>\n",
       "    .dataframe tbody tr th:only-of-type {\n",
       "        vertical-align: middle;\n",
       "    }\n",
       "\n",
       "    .dataframe tbody tr th {\n",
       "        vertical-align: top;\n",
       "    }\n",
       "\n",
       "    .dataframe thead th {\n",
       "        text-align: right;\n",
       "    }\n",
       "</style>\n",
       "<table border=\"1\" class=\"dataframe\">\n",
       "  <thead>\n",
       "    <tr style=\"text-align: right;\">\n",
       "      <th></th>\n",
       "      <th>Device Name</th>\n",
       "      <th>Date</th>\n",
       "      <th>CHWR</th>\n",
       "      <th>CHWS</th>\n",
       "      <th>Flow</th>\n",
       "      <th>Load</th>\n",
       "    </tr>\n",
       "  </thead>\n",
       "  <tbody>\n",
       "    <tr>\n",
       "      <th>1</th>\n",
       "      <td>BTU-1</td>\n",
       "      <td>2/17/2017 23:55</td>\n",
       "      <td>21.8</td>\n",
       "      <td>18.69</td>\n",
       "      <td>96</td>\n",
       "      <td>22</td>\n",
       "    </tr>\n",
       "    <tr>\n",
       "      <th>2</th>\n",
       "      <td>BTU-2</td>\n",
       "      <td>2/17/2017 23:55</td>\n",
       "      <td>23.35</td>\n",
       "      <td>18.79</td>\n",
       "      <td>86.1</td>\n",
       "      <td>29</td>\n",
       "    </tr>\n",
       "    <tr>\n",
       "      <th>3</th>\n",
       "      <td>BTU-1</td>\n",
       "      <td>2/17/2017 23:50</td>\n",
       "      <td>22.83</td>\n",
       "      <td>19.57</td>\n",
       "      <td>93.5</td>\n",
       "      <td>22.5</td>\n",
       "    </tr>\n",
       "    <tr>\n",
       "      <th>4</th>\n",
       "      <td>BTU-2</td>\n",
       "      <td>2/17/2017 23:50</td>\n",
       "      <td>23.32</td>\n",
       "      <td>19.45</td>\n",
       "      <td>81.5</td>\n",
       "      <td>23.2</td>\n",
       "    </tr>\n",
       "    <tr>\n",
       "      <th>5</th>\n",
       "      <td>BTU-1</td>\n",
       "      <td>2/17/2017 23:45</td>\n",
       "      <td>22.79</td>\n",
       "      <td>19.4</td>\n",
       "      <td>98</td>\n",
       "      <td>24.5</td>\n",
       "    </tr>\n",
       "  </tbody>\n",
       "</table>\n",
       "</div>"
      ],
      "text/plain": [
       "  Device Name             Date   CHWR   CHWS  Flow  Load\n",
       "1       BTU-1  2/17/2017 23:55   21.8  18.69    96    22\n",
       "2       BTU-2  2/17/2017 23:55  23.35  18.79  86.1    29\n",
       "3       BTU-1  2/17/2017 23:50  22.83  19.57  93.5  22.5\n",
       "4       BTU-2  2/17/2017 23:50  23.32  19.45  81.5  23.2\n",
       "5       BTU-1  2/17/2017 23:45  22.79   19.4    98  24.5"
      ]
     },
     "execution_count": 8,
     "metadata": {},
     "output_type": "execute_result"
    }
   ],
   "source": [
    "data.drop(0,axis=0,inplace=True)\n",
    "# If you want to delete multiple rows pass list of rows to be deleted.\n",
    "# If you want to delete columns  pass colum name (or list of columns for multiple) and use axis=1\n",
    "# Note: You have to pass Index or column labels, Default integer based index will not work here.\n",
    "# Note: In case of rows index, integer based default index and label may be same.\n",
    "data.head()"
   ]
  },
  {
   "cell_type": "markdown",
   "metadata": {},
   "source": [
    "* https://pandas.pydata.org/pandas-docs/stable/reference/api/pandas.DataFrame.drop.html"
   ]
  },
  {
   "cell_type": "markdown",
   "metadata": {},
   "source": [
    "### 4.Checking for nulll entries"
   ]
  },
  {
   "cell_type": "code",
   "execution_count": 9,
   "metadata": {
    "scrolled": true
   },
   "outputs": [
    {
     "data": {
      "text/html": [
       "<div>\n",
       "<style scoped>\n",
       "    .dataframe tbody tr th:only-of-type {\n",
       "        vertical-align: middle;\n",
       "    }\n",
       "\n",
       "    .dataframe tbody tr th {\n",
       "        vertical-align: top;\n",
       "    }\n",
       "\n",
       "    .dataframe thead th {\n",
       "        text-align: right;\n",
       "    }\n",
       "</style>\n",
       "<table border=\"1\" class=\"dataframe\">\n",
       "  <thead>\n",
       "    <tr style=\"text-align: right;\">\n",
       "      <th></th>\n",
       "      <th>Device Name</th>\n",
       "      <th>Date</th>\n",
       "      <th>CHWR</th>\n",
       "      <th>CHWS</th>\n",
       "      <th>Flow</th>\n",
       "      <th>Load</th>\n",
       "    </tr>\n",
       "  </thead>\n",
       "  <tbody>\n",
       "    <tr>\n",
       "      <th>1</th>\n",
       "      <td>False</td>\n",
       "      <td>False</td>\n",
       "      <td>False</td>\n",
       "      <td>False</td>\n",
       "      <td>False</td>\n",
       "      <td>False</td>\n",
       "    </tr>\n",
       "    <tr>\n",
       "      <th>2</th>\n",
       "      <td>False</td>\n",
       "      <td>False</td>\n",
       "      <td>False</td>\n",
       "      <td>False</td>\n",
       "      <td>False</td>\n",
       "      <td>False</td>\n",
       "    </tr>\n",
       "    <tr>\n",
       "      <th>3</th>\n",
       "      <td>False</td>\n",
       "      <td>False</td>\n",
       "      <td>False</td>\n",
       "      <td>False</td>\n",
       "      <td>False</td>\n",
       "      <td>False</td>\n",
       "    </tr>\n",
       "    <tr>\n",
       "      <th>4</th>\n",
       "      <td>False</td>\n",
       "      <td>False</td>\n",
       "      <td>False</td>\n",
       "      <td>False</td>\n",
       "      <td>False</td>\n",
       "      <td>False</td>\n",
       "    </tr>\n",
       "    <tr>\n",
       "      <th>5</th>\n",
       "      <td>False</td>\n",
       "      <td>False</td>\n",
       "      <td>False</td>\n",
       "      <td>False</td>\n",
       "      <td>False</td>\n",
       "      <td>False</td>\n",
       "    </tr>\n",
       "    <tr>\n",
       "      <th>...</th>\n",
       "      <td>...</td>\n",
       "      <td>...</td>\n",
       "      <td>...</td>\n",
       "      <td>...</td>\n",
       "      <td>...</td>\n",
       "      <td>...</td>\n",
       "    </tr>\n",
       "    <tr>\n",
       "      <th>570</th>\n",
       "      <td>False</td>\n",
       "      <td>False</td>\n",
       "      <td>False</td>\n",
       "      <td>False</td>\n",
       "      <td>False</td>\n",
       "      <td>False</td>\n",
       "    </tr>\n",
       "    <tr>\n",
       "      <th>571</th>\n",
       "      <td>False</td>\n",
       "      <td>False</td>\n",
       "      <td>False</td>\n",
       "      <td>False</td>\n",
       "      <td>False</td>\n",
       "      <td>False</td>\n",
       "    </tr>\n",
       "    <tr>\n",
       "      <th>572</th>\n",
       "      <td>False</td>\n",
       "      <td>False</td>\n",
       "      <td>False</td>\n",
       "      <td>False</td>\n",
       "      <td>False</td>\n",
       "      <td>False</td>\n",
       "    </tr>\n",
       "    <tr>\n",
       "      <th>573</th>\n",
       "      <td>False</td>\n",
       "      <td>False</td>\n",
       "      <td>False</td>\n",
       "      <td>False</td>\n",
       "      <td>False</td>\n",
       "      <td>False</td>\n",
       "    </tr>\n",
       "    <tr>\n",
       "      <th>574</th>\n",
       "      <td>False</td>\n",
       "      <td>False</td>\n",
       "      <td>False</td>\n",
       "      <td>False</td>\n",
       "      <td>False</td>\n",
       "      <td>False</td>\n",
       "    </tr>\n",
       "  </tbody>\n",
       "</table>\n",
       "<p>574 rows × 6 columns</p>\n",
       "</div>"
      ],
      "text/plain": [
       "     Device Name   Date   CHWR   CHWS   Flow   Load\n",
       "1          False  False  False  False  False  False\n",
       "2          False  False  False  False  False  False\n",
       "3          False  False  False  False  False  False\n",
       "4          False  False  False  False  False  False\n",
       "5          False  False  False  False  False  False\n",
       "..           ...    ...    ...    ...    ...    ...\n",
       "570        False  False  False  False  False  False\n",
       "571        False  False  False  False  False  False\n",
       "572        False  False  False  False  False  False\n",
       "573        False  False  False  False  False  False\n",
       "574        False  False  False  False  False  False\n",
       "\n",
       "[574 rows x 6 columns]"
      ]
     },
     "execution_count": 9,
     "metadata": {},
     "output_type": "execute_result"
    }
   ],
   "source": [
    "data.isnull()\n",
    "# Actually, this is comparison statement.\n",
    "# This function compares each cell of each column with NaN.\n",
    "# If any cell contain NaN, then it returns True otherwise False.See the result.\n"
   ]
  },
  {
   "cell_type": "code",
   "execution_count": 10,
   "metadata": {},
   "outputs": [
    {
     "data": {
      "text/plain": [
       "Device Name    0\n",
       "Date           0\n",
       "CHWR           0\n",
       "CHWS           2\n",
       "Flow           0\n",
       "Load           1\n",
       "dtype: int64"
      ]
     },
     "execution_count": 10,
     "metadata": {},
     "output_type": "execute_result"
    }
   ],
   "source": [
    "data.isnull().sum() # Here axis=0 by default\n",
    "# Equivalent integer value of 'False' is 0 and equivalent integer of 'True' is 1.\n",
    "# This is the summation of each cell of all column.\n",
    "# All 'True' will be added as 1 and indirectly we are counting number of NaN entries in all columns.\n",
    "# See the result, there are only two NaN in 'CHWS' column and only  one 'NaN' in Load column."
   ]
  },
  {
   "cell_type": "code",
   "execution_count": 11,
   "metadata": {},
   "outputs": [
    {
     "data": {
      "text/plain": [
       "Device Name    574\n",
       "Date           574\n",
       "CHWR           574\n",
       "CHWS           572\n",
       "Flow           574\n",
       "Load           573\n",
       "dtype: int64"
      ]
     },
     "execution_count": 11,
     "metadata": {},
     "output_type": "execute_result"
    }
   ],
   "source": [
    "data.notnull().sum() # Opposite of .isnull()"
   ]
  },
  {
   "cell_type": "markdown",
   "metadata": {},
   "source": [
    "### 5.Checking Non-Numerical Entries (which can not be conveted into numeric type)\n",
    "* Having Non-Numerical entries (which can not be conveted into numeric type) in Columns except of 'Device Name' and 'Date' are not valid and we have to remove them or replace them with logical values.\n",
    "* Fisrt we have to find non-numerical entries in each column. \n",
    "* We are going to make our own function for that."
   ]
  },
  {
   "cell_type": "code",
   "execution_count": 12,
   "metadata": {},
   "outputs": [],
   "source": [
    "def NonNumEntry(df,col_s,col_e):  ## df> dataframe to be passed, col_s>starting column ; col_e> ending column\n",
    "    D={}\n",
    "    n=len(df)\n",
    "    for i in range(col_s,col_e+1):\n",
    "        lis=[]\n",
    "        for j in range(n):\n",
    "            try:\n",
    "                if type(float(df.iloc[j,i]))==float:\n",
    "                    pass \n",
    "            except:\n",
    "                v=df.iloc[j,i]\n",
    "                if v not in lis:\n",
    "                    lis.append(v)\n",
    "        D[i]=lis\n",
    "    return D"
   ]
  },
  {
   "cell_type": "code",
   "execution_count": 13,
   "metadata": {},
   "outputs": [
    {
     "data": {
      "text/plain": [
       "{2: ['--'], 3: ['hjkhk', '--'], 4: ['&', '##', '--'], 5: ['--']}"
      ]
     },
     "execution_count": 13,
     "metadata": {},
     "output_type": "execute_result"
    }
   ],
   "source": [
    "NonNumEntry(data,2,5)"
   ]
  },
  {
   "cell_type": "markdown",
   "metadata": {},
   "source": [
    "* In above result keys of the dictionary are column index and values are the list showing unique entris in each column which cannot be converted into numeric data type. "
   ]
  },
  {
   "cell_type": "markdown",
   "metadata": {},
   "source": [
    "##### We can see all the entries of different columns where non-numeric entries are there, as given below:"
   ]
  },
  {
   "cell_type": "code",
   "execution_count": 14,
   "metadata": {},
   "outputs": [
    {
     "data": {
      "text/html": [
       "<div>\n",
       "<style scoped>\n",
       "    .dataframe tbody tr th:only-of-type {\n",
       "        vertical-align: middle;\n",
       "    }\n",
       "\n",
       "    .dataframe tbody tr th {\n",
       "        vertical-align: top;\n",
       "    }\n",
       "\n",
       "    .dataframe thead th {\n",
       "        text-align: right;\n",
       "    }\n",
       "</style>\n",
       "<table border=\"1\" class=\"dataframe\">\n",
       "  <thead>\n",
       "    <tr style=\"text-align: right;\">\n",
       "      <th></th>\n",
       "      <th>Device Name</th>\n",
       "      <th>Date</th>\n",
       "      <th>CHWR</th>\n",
       "      <th>CHWS</th>\n",
       "      <th>Flow</th>\n",
       "      <th>Load</th>\n",
       "    </tr>\n",
       "  </thead>\n",
       "  <tbody>\n",
       "    <tr>\n",
       "      <th>120</th>\n",
       "      <td>BTU-1</td>\n",
       "      <td>2/17/2017 18:55</td>\n",
       "      <td>--</td>\n",
       "      <td>--</td>\n",
       "      <td>--</td>\n",
       "      <td>--</td>\n",
       "    </tr>\n",
       "    <tr>\n",
       "      <th>121</th>\n",
       "      <td>BTU-2</td>\n",
       "      <td>2/17/2017 18:55</td>\n",
       "      <td>--</td>\n",
       "      <td>--</td>\n",
       "      <td>--</td>\n",
       "      <td>--</td>\n",
       "    </tr>\n",
       "    <tr>\n",
       "      <th>157</th>\n",
       "      <td>BTU-1</td>\n",
       "      <td>2/17/2017 17:20</td>\n",
       "      <td>--</td>\n",
       "      <td>--</td>\n",
       "      <td>--</td>\n",
       "      <td>--</td>\n",
       "    </tr>\n",
       "    <tr>\n",
       "      <th>158</th>\n",
       "      <td>BTU-2</td>\n",
       "      <td>2/17/2017 17:20</td>\n",
       "      <td>--</td>\n",
       "      <td>--</td>\n",
       "      <td>--</td>\n",
       "      <td>--</td>\n",
       "    </tr>\n",
       "    <tr>\n",
       "      <th>183</th>\n",
       "      <td>BTU-1</td>\n",
       "      <td>2/17/2017 16:15</td>\n",
       "      <td>--</td>\n",
       "      <td>--</td>\n",
       "      <td>--</td>\n",
       "      <td>--</td>\n",
       "    </tr>\n",
       "    <tr>\n",
       "      <th>184</th>\n",
       "      <td>BTU-2</td>\n",
       "      <td>2/17/2017 16:15</td>\n",
       "      <td>--</td>\n",
       "      <td>--</td>\n",
       "      <td>--</td>\n",
       "      <td>--</td>\n",
       "    </tr>\n",
       "    <tr>\n",
       "      <th>197</th>\n",
       "      <td>BTU-1</td>\n",
       "      <td>2/17/2017 15:40</td>\n",
       "      <td>--</td>\n",
       "      <td>--</td>\n",
       "      <td>--</td>\n",
       "      <td>--</td>\n",
       "    </tr>\n",
       "    <tr>\n",
       "      <th>198</th>\n",
       "      <td>BTU-2</td>\n",
       "      <td>2/17/2017 15:40</td>\n",
       "      <td>--</td>\n",
       "      <td>--</td>\n",
       "      <td>--</td>\n",
       "      <td>--</td>\n",
       "    </tr>\n",
       "  </tbody>\n",
       "</table>\n",
       "</div>"
      ],
      "text/plain": [
       "    Device Name             Date CHWR CHWS Flow Load\n",
       "120       BTU-1  2/17/2017 18:55   --   --   --   --\n",
       "121       BTU-2  2/17/2017 18:55   --   --   --   --\n",
       "157       BTU-1  2/17/2017 17:20   --   --   --   --\n",
       "158       BTU-2  2/17/2017 17:20   --   --   --   --\n",
       "183       BTU-1  2/17/2017 16:15   --   --   --   --\n",
       "184       BTU-2  2/17/2017 16:15   --   --   --   --\n",
       "197       BTU-1  2/17/2017 15:40   --   --   --   --\n",
       "198       BTU-2  2/17/2017 15:40   --   --   --   --"
      ]
     },
     "execution_count": 14,
     "metadata": {},
     "output_type": "execute_result"
    }
   ],
   "source": [
    "data[data['CHWR']=='--'] #Checking in the 'CHWR' column for '--'( in second columns)\n",
    "# OR :> \n",
    "#data[data.iloc[:,2]=='--']"
   ]
  },
  {
   "cell_type": "code",
   "execution_count": 15,
   "metadata": {},
   "outputs": [
    {
     "data": {
      "text/html": [
       "<div>\n",
       "<style scoped>\n",
       "    .dataframe tbody tr th:only-of-type {\n",
       "        vertical-align: middle;\n",
       "    }\n",
       "\n",
       "    .dataframe tbody tr th {\n",
       "        vertical-align: top;\n",
       "    }\n",
       "\n",
       "    .dataframe thead th {\n",
       "        text-align: right;\n",
       "    }\n",
       "</style>\n",
       "<table border=\"1\" class=\"dataframe\">\n",
       "  <thead>\n",
       "    <tr style=\"text-align: right;\">\n",
       "      <th></th>\n",
       "      <th>Device Name</th>\n",
       "      <th>Date</th>\n",
       "      <th>CHWR</th>\n",
       "      <th>CHWS</th>\n",
       "      <th>Flow</th>\n",
       "      <th>Load</th>\n",
       "    </tr>\n",
       "  </thead>\n",
       "  <tbody>\n",
       "    <tr>\n",
       "      <th>19</th>\n",
       "      <td>BTU-1</td>\n",
       "      <td>2/17/2017 23:10</td>\n",
       "      <td>22.81</td>\n",
       "      <td>hjkhk</td>\n",
       "      <td>95.5</td>\n",
       "      <td>28.3</td>\n",
       "    </tr>\n",
       "  </tbody>\n",
       "</table>\n",
       "</div>"
      ],
      "text/plain": [
       "   Device Name             Date   CHWR   CHWS  Flow  Load\n",
       "19       BTU-1  2/17/2017 23:10  22.81  hjkhk  95.5  28.3"
      ]
     },
     "execution_count": 15,
     "metadata": {},
     "output_type": "execute_result"
    }
   ],
   "source": [
    "#data[data['CHWS']=='hjkhk'] #Checking in the 'CHWs' column for 'hjkhk'\n",
    "# OR :> \n",
    "data[data.iloc[:,3]=='hjkhk']"
   ]
  },
  {
   "cell_type": "markdown",
   "metadata": {},
   "source": [
    "##### * In if statement inside try you can use flowing two function as well. Try yourself!!"
   ]
  },
  {
   "cell_type": "code",
   "execution_count": 16,
   "metadata": {},
   "outputs": [
    {
     "data": {
      "text/plain": [
       "True"
      ]
     },
     "execution_count": 16,
     "metadata": {},
     "output_type": "execute_result"
    }
   ],
   "source": [
    "isinstance(7.89, (int, float))  ## Bonus check it "
   ]
  },
  {
   "cell_type": "code",
   "execution_count": 17,
   "metadata": {},
   "outputs": [
    {
     "data": {
      "text/plain": [
       "False"
      ]
     },
     "execution_count": 17,
     "metadata": {},
     "output_type": "execute_result"
    }
   ],
   "source": [
    "np.isreal('Ram')  ## Bonus check it "
   ]
  },
  {
   "cell_type": "markdown",
   "metadata": {},
   "source": [
    "### 6. Replacing all non numeric value (which can not be converted into Numeric ) with np.nan and displaying all row having NaN.\n",
    "* I am going to illustrate this by  two method (with their differences) for that I am copying the 'data' and making two dataframe named 'df1' and 'df2', so that original data remain intact.\n",
    "* First Method is .replace()\n",
    "* Second Method is .to_numeric()"
   ]
  },
  {
   "cell_type": "markdown",
   "metadata": {},
   "source": [
    "##### 6.1 Using .replace()"
   ]
  },
  {
   "cell_type": "code",
   "execution_count": 18,
   "metadata": {},
   "outputs": [],
   "source": [
    "df1=data.copy()"
   ]
  },
  {
   "cell_type": "markdown",
   "metadata": {},
   "source": [
    "###### From operation number 5, we know all the entries which can not be converted into numeric. Now we are going to replace all those entries with NaN.\n",
    "###### NaN is treated as float and we have available methods  in numpy and pandas to handle it. Thus it is standard practice to replace all entries which are not convertible into numeric with NaN.  "
   ]
  },
  {
   "cell_type": "code",
   "execution_count": 19,
   "metadata": {},
   "outputs": [],
   "source": [
    "df1.replace(['--','hjkhk','&','##'],np.nan,inplace=True) # all Non Numeric entry are replaced by np.nan "
   ]
  },
  {
   "cell_type": "code",
   "execution_count": 20,
   "metadata": {},
   "outputs": [
    {
     "data": {
      "text/plain": [
       "Device Name     0\n",
       "Date            0\n",
       "CHWR            8\n",
       "CHWS           11\n",
       "Flow           10\n",
       "Load            9\n",
       "dtype: int64"
      ]
     },
     "execution_count": 20,
     "metadata": {},
     "output_type": "execute_result"
    }
   ],
   "source": [
    "df1.isnull().sum()"
   ]
  },
  {
   "cell_type": "code",
   "execution_count": 21,
   "metadata": {},
   "outputs": [
    {
     "data": {
      "text/plain": [
       "Device Name    object\n",
       "Date           object\n",
       "CHWR           object\n",
       "CHWS           object\n",
       "Flow           object\n",
       "Load           object\n",
       "dtype: object"
      ]
     },
     "execution_count": 21,
     "metadata": {},
     "output_type": "execute_result"
    }
   ],
   "source": [
    "df1.dtypes"
   ]
  },
  {
   "cell_type": "markdown",
   "metadata": {},
   "source": [
    "* Now we can see all the entries having NaN values"
   ]
  },
  {
   "cell_type": "code",
   "execution_count": 22,
   "metadata": {},
   "outputs": [
    {
     "data": {
      "text/html": [
       "<div>\n",
       "<style scoped>\n",
       "    .dataframe tbody tr th:only-of-type {\n",
       "        vertical-align: middle;\n",
       "    }\n",
       "\n",
       "    .dataframe tbody tr th {\n",
       "        vertical-align: top;\n",
       "    }\n",
       "\n",
       "    .dataframe thead th {\n",
       "        text-align: right;\n",
       "    }\n",
       "</style>\n",
       "<table border=\"1\" class=\"dataframe\">\n",
       "  <thead>\n",
       "    <tr style=\"text-align: right;\">\n",
       "      <th></th>\n",
       "      <th>Device Name</th>\n",
       "      <th>Date</th>\n",
       "      <th>CHWR</th>\n",
       "      <th>CHWS</th>\n",
       "      <th>Flow</th>\n",
       "      <th>Load</th>\n",
       "    </tr>\n",
       "  </thead>\n",
       "  <tbody>\n",
       "    <tr>\n",
       "      <th>10</th>\n",
       "      <td>BTU-2</td>\n",
       "      <td>2/17/2017 23:35</td>\n",
       "      <td>23.43</td>\n",
       "      <td>NaN</td>\n",
       "      <td>115.7</td>\n",
       "      <td>40.4</td>\n",
       "    </tr>\n",
       "    <tr>\n",
       "      <th>19</th>\n",
       "      <td>BTU-1</td>\n",
       "      <td>2/17/2017 23:10</td>\n",
       "      <td>22.81</td>\n",
       "      <td>NaN</td>\n",
       "      <td>95.5</td>\n",
       "      <td>28.3</td>\n",
       "    </tr>\n",
       "    <tr>\n",
       "      <th>26</th>\n",
       "      <td>BTU-2</td>\n",
       "      <td>2/17/2017 22:55</td>\n",
       "      <td>23.11</td>\n",
       "      <td>19.07</td>\n",
       "      <td>NaN</td>\n",
       "      <td>25.2</td>\n",
       "    </tr>\n",
       "    <tr>\n",
       "      <th>32</th>\n",
       "      <td>BTU-2</td>\n",
       "      <td>2/17/2017 22:40</td>\n",
       "      <td>23.02</td>\n",
       "      <td>20.24</td>\n",
       "      <td>NaN</td>\n",
       "      <td>17.6</td>\n",
       "    </tr>\n",
       "    <tr>\n",
       "      <th>40</th>\n",
       "      <td>BTU-2</td>\n",
       "      <td>2/17/2017 22:20</td>\n",
       "      <td>23.11</td>\n",
       "      <td>NaN</td>\n",
       "      <td>83.1</td>\n",
       "      <td>19.7</td>\n",
       "    </tr>\n",
       "    <tr>\n",
       "      <th>...</th>\n",
       "      <td>...</td>\n",
       "      <td>...</td>\n",
       "      <td>...</td>\n",
       "      <td>...</td>\n",
       "      <td>...</td>\n",
       "      <td>...</td>\n",
       "    </tr>\n",
       "    <tr>\n",
       "      <th>158</th>\n",
       "      <td>BTU-2</td>\n",
       "      <td>2/17/2017 17:20</td>\n",
       "      <td>NaN</td>\n",
       "      <td>NaN</td>\n",
       "      <td>NaN</td>\n",
       "      <td>NaN</td>\n",
       "    </tr>\n",
       "    <tr>\n",
       "      <th>183</th>\n",
       "      <td>BTU-1</td>\n",
       "      <td>2/17/2017 16:15</td>\n",
       "      <td>NaN</td>\n",
       "      <td>NaN</td>\n",
       "      <td>NaN</td>\n",
       "      <td>NaN</td>\n",
       "    </tr>\n",
       "    <tr>\n",
       "      <th>184</th>\n",
       "      <td>BTU-2</td>\n",
       "      <td>2/17/2017 16:15</td>\n",
       "      <td>NaN</td>\n",
       "      <td>NaN</td>\n",
       "      <td>NaN</td>\n",
       "      <td>NaN</td>\n",
       "    </tr>\n",
       "    <tr>\n",
       "      <th>197</th>\n",
       "      <td>BTU-1</td>\n",
       "      <td>2/17/2017 15:40</td>\n",
       "      <td>NaN</td>\n",
       "      <td>NaN</td>\n",
       "      <td>NaN</td>\n",
       "      <td>NaN</td>\n",
       "    </tr>\n",
       "    <tr>\n",
       "      <th>198</th>\n",
       "      <td>BTU-2</td>\n",
       "      <td>2/17/2017 15:40</td>\n",
       "      <td>NaN</td>\n",
       "      <td>NaN</td>\n",
       "      <td>NaN</td>\n",
       "      <td>NaN</td>\n",
       "    </tr>\n",
       "  </tbody>\n",
       "</table>\n",
       "<p>14 rows × 6 columns</p>\n",
       "</div>"
      ],
      "text/plain": [
       "    Device Name             Date   CHWR   CHWS   Flow  Load\n",
       "10        BTU-2  2/17/2017 23:35  23.43    NaN  115.7  40.4\n",
       "19        BTU-1  2/17/2017 23:10  22.81    NaN   95.5  28.3\n",
       "26        BTU-2  2/17/2017 22:55  23.11  19.07    NaN  25.2\n",
       "32        BTU-2  2/17/2017 22:40  23.02  20.24    NaN  17.6\n",
       "40        BTU-2  2/17/2017 22:20  23.11    NaN   83.1  19.7\n",
       "..          ...              ...    ...    ...    ...   ...\n",
       "158       BTU-2  2/17/2017 17:20    NaN    NaN    NaN   NaN\n",
       "183       BTU-1  2/17/2017 16:15    NaN    NaN    NaN   NaN\n",
       "184       BTU-2  2/17/2017 16:15    NaN    NaN    NaN   NaN\n",
       "197       BTU-1  2/17/2017 15:40    NaN    NaN    NaN   NaN\n",
       "198       BTU-2  2/17/2017 15:40    NaN    NaN    NaN   NaN\n",
       "\n",
       "[14 rows x 6 columns]"
      ]
     },
     "execution_count": 22,
     "metadata": {},
     "output_type": "execute_result"
    }
   ],
   "source": [
    "df1[df1.CHWR.isnull()|df1.CHWS.isnull()|df1.Flow.isnull()|df1.Load.isnull()]"
   ]
  },
  {
   "cell_type": "code",
   "execution_count": 23,
   "metadata": {},
   "outputs": [
    {
     "data": {
      "text/plain": [
       "8"
      ]
     },
     "execution_count": 23,
     "metadata": {},
     "output_type": "execute_result"
    }
   ],
   "source": [
    "##Examine the subset of a data set\n",
    "#df.iloc[:,2].isnull().sum() \n",
    "df1.CHWR.isnull().sum()\n",
    "#df['CHWR'].isnull().sum()"
   ]
  },
  {
   "cell_type": "markdown",
   "metadata": {},
   "source": [
    "#### Explanation:\n",
    "###### In above operations non numerical entries (that can't be converted to numeric) which we have passed in 'replace' function are replced with NaN value.But data type of each column remained as it was before.\n",
    "###### Notice that, even numerical entries in columns from 2nd to last, are stored as string thus the data type is showing as object.\n",
    "###### No mathematical or statistical operation can be done on string data type. So we have to convert data type into numeric of each column which should be in numeric."
   ]
  },
  {
   "cell_type": "code",
   "execution_count": 24,
   "metadata": {},
   "outputs": [],
   "source": [
    "#df1.iloc[:,2].mean()# error, as all the data are string types and Mathematical opertaion is not valid for str.\n",
    "# We have to convert the colums to numeric type( from third to last column)"
   ]
  },
  {
   "cell_type": "markdown",
   "metadata": {},
   "source": [
    "##### 6.1.1 type casting\n",
    "* 'Device Name' and 'Date' columns are stored as string data type, which is fine but remaining columns( from 2nd to 5th) should be in numeric data type only.Converting data type using .astype() method."
   ]
  },
  {
   "cell_type": "code",
   "execution_count": 25,
   "metadata": {},
   "outputs": [],
   "source": [
    "for i in range(2,6):\n",
    "    df1.iloc[:,i]= df1.iloc[:,i].astype(float)  ##  all columns value converted to float"
   ]
  },
  {
   "cell_type": "code",
   "execution_count": 26,
   "metadata": {},
   "outputs": [
    {
     "data": {
      "text/plain": [
       "Device Name     object\n",
       "Date            object\n",
       "CHWR           float64\n",
       "CHWS           float64\n",
       "Flow           float64\n",
       "Load           float64\n",
       "dtype: object"
      ]
     },
     "execution_count": 26,
     "metadata": {},
     "output_type": "execute_result"
    }
   ],
   "source": [
    "# Now checking the data type of each columns\n",
    "df1.dtypes"
   ]
  },
  {
   "cell_type": "code",
   "execution_count": 27,
   "metadata": {},
   "outputs": [
    {
     "data": {
      "text/plain": [
       "22.34886925795051"
      ]
     },
     "execution_count": 27,
     "metadata": {},
     "output_type": "execute_result"
    }
   ],
   "source": [
    "## Now Mathematical operation is valid.\n",
    "df1.iloc[:,2].mean()# By default it has an argument skipna=True, thus it calculate mean of all entries by excluding NaN entries\n",
    "# https://pandas.pydata.org/pandas-docs/stable/reference/api/pandas.DataFrame.mean.html"
   ]
  },
  {
   "cell_type": "markdown",
   "metadata": {},
   "source": [
    "###### 6.2 Using .to_numeric()"
   ]
  },
  {
   "cell_type": "code",
   "execution_count": 28,
   "metadata": {},
   "outputs": [],
   "source": [
    "df2=data.copy()"
   ]
  },
  {
   "cell_type": "code",
   "execution_count": 29,
   "metadata": {},
   "outputs": [
    {
     "data": {
      "text/plain": [
       "Device Name     0\n",
       "Date            0\n",
       "CHWR            8\n",
       "CHWS           11\n",
       "Flow           10\n",
       "Load            9\n",
       "dtype: int64"
      ]
     },
     "execution_count": 29,
     "metadata": {},
     "output_type": "execute_result"
    }
   ],
   "source": [
    "for i in range(2,6):\n",
    "    df2.iloc[:,i]=pd.to_numeric(df2.iloc[:,i],errors='coerce')\n",
    "df2.isnull().sum()\n",
    "    "
   ]
  },
  {
   "cell_type": "code",
   "execution_count": 30,
   "metadata": {},
   "outputs": [
    {
     "data": {
      "text/plain": [
       "Device Name     object\n",
       "Date            object\n",
       "CHWR           float64\n",
       "CHWS           float64\n",
       "Flow           float64\n",
       "Load           float64\n",
       "dtype: object"
      ]
     },
     "execution_count": 30,
     "metadata": {},
     "output_type": "execute_result"
    }
   ],
   "source": [
    "df2.dtypes"
   ]
  },
  {
   "cell_type": "markdown",
   "metadata": {},
   "source": [
    "##### This is entirely different operation. 'pd.to_nemeric()' function tries to convert all the entries of any column to numeric if possible and put NaN for those entries which can not be conveted into numeric.\n",
    "##### Thus we can see that that type of columns from 2nd to last has been converted to float.\n",
    "##### Note: for applying this, we don't have to check for those entries that are not convetible into numeric as before.\n",
    "##### This operation may be more convenient in some situations and saves from many steps that we followed in 6.1. and 6.1.1."
   ]
  },
  {
   "cell_type": "code",
   "execution_count": 31,
   "metadata": {},
   "outputs": [
    {
     "data": {
      "text/plain": [
       "22.34886925795051"
      ]
     },
     "execution_count": 31,
     "metadata": {},
     "output_type": "execute_result"
    }
   ],
   "source": [
    "df2.iloc[:,2].mean()"
   ]
  },
  {
   "cell_type": "code",
   "execution_count": 32,
   "metadata": {},
   "outputs": [
    {
     "data": {
      "text/html": [
       "<div>\n",
       "<style scoped>\n",
       "    .dataframe tbody tr th:only-of-type {\n",
       "        vertical-align: middle;\n",
       "    }\n",
       "\n",
       "    .dataframe tbody tr th {\n",
       "        vertical-align: top;\n",
       "    }\n",
       "\n",
       "    .dataframe thead th {\n",
       "        text-align: right;\n",
       "    }\n",
       "</style>\n",
       "<table border=\"1\" class=\"dataframe\">\n",
       "  <thead>\n",
       "    <tr style=\"text-align: right;\">\n",
       "      <th></th>\n",
       "      <th>CHWR</th>\n",
       "      <th>CHWS</th>\n",
       "      <th>Flow</th>\n",
       "      <th>Load</th>\n",
       "    </tr>\n",
       "  </thead>\n",
       "  <tbody>\n",
       "    <tr>\n",
       "      <th>count</th>\n",
       "      <td>566.000000</td>\n",
       "      <td>563.000000</td>\n",
       "      <td>564.000000</td>\n",
       "      <td>565.000000</td>\n",
       "    </tr>\n",
       "    <tr>\n",
       "      <th>mean</th>\n",
       "      <td>22.348869</td>\n",
       "      <td>18.931616</td>\n",
       "      <td>101.867376</td>\n",
       "      <td>25.323540</td>\n",
       "    </tr>\n",
       "    <tr>\n",
       "      <th>std</th>\n",
       "      <td>0.648024</td>\n",
       "      <td>0.493507</td>\n",
       "      <td>12.414120</td>\n",
       "      <td>3.157243</td>\n",
       "    </tr>\n",
       "    <tr>\n",
       "      <th>min</th>\n",
       "      <td>21.000000</td>\n",
       "      <td>17.270000</td>\n",
       "      <td>81.500000</td>\n",
       "      <td>8.100000</td>\n",
       "    </tr>\n",
       "    <tr>\n",
       "      <th>25%</th>\n",
       "      <td>21.810000</td>\n",
       "      <td>18.490000</td>\n",
       "      <td>94.300000</td>\n",
       "      <td>24.000000</td>\n",
       "    </tr>\n",
       "    <tr>\n",
       "      <th>50%</th>\n",
       "      <td>22.310000</td>\n",
       "      <td>18.910000</td>\n",
       "      <td>99.300000</td>\n",
       "      <td>25.500000</td>\n",
       "    </tr>\n",
       "    <tr>\n",
       "      <th>75%</th>\n",
       "      <td>22.817500</td>\n",
       "      <td>19.240000</td>\n",
       "      <td>111.725000</td>\n",
       "      <td>27.000000</td>\n",
       "    </tr>\n",
       "    <tr>\n",
       "      <th>max</th>\n",
       "      <td>23.940000</td>\n",
       "      <td>21.010000</td>\n",
       "      <td>136.000000</td>\n",
       "      <td>40.400000</td>\n",
       "    </tr>\n",
       "  </tbody>\n",
       "</table>\n",
       "</div>"
      ],
      "text/plain": [
       "             CHWR        CHWS        Flow        Load\n",
       "count  566.000000  563.000000  564.000000  565.000000\n",
       "mean    22.348869   18.931616  101.867376   25.323540\n",
       "std      0.648024    0.493507   12.414120    3.157243\n",
       "min     21.000000   17.270000   81.500000    8.100000\n",
       "25%     21.810000   18.490000   94.300000   24.000000\n",
       "50%     22.310000   18.910000   99.300000   25.500000\n",
       "75%     22.817500   19.240000  111.725000   27.000000\n",
       "max     23.940000   21.010000  136.000000   40.400000"
      ]
     },
     "execution_count": 32,
     "metadata": {},
     "output_type": "execute_result"
    }
   ],
   "source": [
    "df2.describe()# Takes only numerical columns\n",
    "# Descriptive statistics include those that summarize the central tendency, dispersion \n",
    "# and shape of a dataset’s distribution, excluding NaN values.\n",
    "# https://pandas.pydata.org/pandas-docs/stable/reference/api/pandas.DataFrame.describe.html"
   ]
  },
  {
   "cell_type": "code",
   "execution_count": 33,
   "metadata": {},
   "outputs": [
    {
     "data": {
      "text/html": [
       "<div>\n",
       "<style scoped>\n",
       "    .dataframe tbody tr th:only-of-type {\n",
       "        vertical-align: middle;\n",
       "    }\n",
       "\n",
       "    .dataframe tbody tr th {\n",
       "        vertical-align: top;\n",
       "    }\n",
       "\n",
       "    .dataframe thead th {\n",
       "        text-align: right;\n",
       "    }\n",
       "</style>\n",
       "<table border=\"1\" class=\"dataframe\">\n",
       "  <thead>\n",
       "    <tr style=\"text-align: right;\">\n",
       "      <th></th>\n",
       "      <th>Device Name</th>\n",
       "      <th>Date</th>\n",
       "      <th>CHWR</th>\n",
       "      <th>CHWS</th>\n",
       "      <th>Flow</th>\n",
       "      <th>Load</th>\n",
       "    </tr>\n",
       "  </thead>\n",
       "  <tbody>\n",
       "    <tr>\n",
       "      <th>count</th>\n",
       "      <td>574</td>\n",
       "      <td>574</td>\n",
       "      <td>566.000000</td>\n",
       "      <td>563.000000</td>\n",
       "      <td>564.000000</td>\n",
       "      <td>565.00000</td>\n",
       "    </tr>\n",
       "    <tr>\n",
       "      <th>unique</th>\n",
       "      <td>2</td>\n",
       "      <td>288</td>\n",
       "      <td>NaN</td>\n",
       "      <td>NaN</td>\n",
       "      <td>NaN</td>\n",
       "      <td>NaN</td>\n",
       "    </tr>\n",
       "    <tr>\n",
       "      <th>top</th>\n",
       "      <td>BTU-1</td>\n",
       "      <td>2/17/2017 5:35</td>\n",
       "      <td>NaN</td>\n",
       "      <td>NaN</td>\n",
       "      <td>NaN</td>\n",
       "      <td>NaN</td>\n",
       "    </tr>\n",
       "    <tr>\n",
       "      <th>freq</th>\n",
       "      <td>288</td>\n",
       "      <td>2</td>\n",
       "      <td>NaN</td>\n",
       "      <td>NaN</td>\n",
       "      <td>NaN</td>\n",
       "      <td>NaN</td>\n",
       "    </tr>\n",
       "    <tr>\n",
       "      <th>mean</th>\n",
       "      <td>NaN</td>\n",
       "      <td>NaN</td>\n",
       "      <td>22.348869</td>\n",
       "      <td>18.931616</td>\n",
       "      <td>101.867376</td>\n",
       "      <td>25.32354</td>\n",
       "    </tr>\n",
       "    <tr>\n",
       "      <th>...</th>\n",
       "      <td>...</td>\n",
       "      <td>...</td>\n",
       "      <td>...</td>\n",
       "      <td>...</td>\n",
       "      <td>...</td>\n",
       "      <td>...</td>\n",
       "    </tr>\n",
       "    <tr>\n",
       "      <th>min</th>\n",
       "      <td>NaN</td>\n",
       "      <td>NaN</td>\n",
       "      <td>21.000000</td>\n",
       "      <td>17.270000</td>\n",
       "      <td>81.500000</td>\n",
       "      <td>8.10000</td>\n",
       "    </tr>\n",
       "    <tr>\n",
       "      <th>25%</th>\n",
       "      <td>NaN</td>\n",
       "      <td>NaN</td>\n",
       "      <td>21.810000</td>\n",
       "      <td>18.490000</td>\n",
       "      <td>94.300000</td>\n",
       "      <td>24.00000</td>\n",
       "    </tr>\n",
       "    <tr>\n",
       "      <th>50%</th>\n",
       "      <td>NaN</td>\n",
       "      <td>NaN</td>\n",
       "      <td>22.310000</td>\n",
       "      <td>18.910000</td>\n",
       "      <td>99.300000</td>\n",
       "      <td>25.50000</td>\n",
       "    </tr>\n",
       "    <tr>\n",
       "      <th>75%</th>\n",
       "      <td>NaN</td>\n",
       "      <td>NaN</td>\n",
       "      <td>22.817500</td>\n",
       "      <td>19.240000</td>\n",
       "      <td>111.725000</td>\n",
       "      <td>27.00000</td>\n",
       "    </tr>\n",
       "    <tr>\n",
       "      <th>max</th>\n",
       "      <td>NaN</td>\n",
       "      <td>NaN</td>\n",
       "      <td>23.940000</td>\n",
       "      <td>21.010000</td>\n",
       "      <td>136.000000</td>\n",
       "      <td>40.40000</td>\n",
       "    </tr>\n",
       "  </tbody>\n",
       "</table>\n",
       "<p>11 rows × 6 columns</p>\n",
       "</div>"
      ],
      "text/plain": [
       "       Device Name            Date        CHWR        CHWS        Flow  \\\n",
       "count          574             574  566.000000  563.000000  564.000000   \n",
       "unique           2             288         NaN         NaN         NaN   \n",
       "top          BTU-1  2/17/2017 5:35         NaN         NaN         NaN   \n",
       "freq           288               2         NaN         NaN         NaN   \n",
       "mean           NaN             NaN   22.348869   18.931616  101.867376   \n",
       "...            ...             ...         ...         ...         ...   \n",
       "min            NaN             NaN   21.000000   17.270000   81.500000   \n",
       "25%            NaN             NaN   21.810000   18.490000   94.300000   \n",
       "50%            NaN             NaN   22.310000   18.910000   99.300000   \n",
       "75%            NaN             NaN   22.817500   19.240000  111.725000   \n",
       "max            NaN             NaN   23.940000   21.010000  136.000000   \n",
       "\n",
       "             Load  \n",
       "count   565.00000  \n",
       "unique        NaN  \n",
       "top           NaN  \n",
       "freq          NaN  \n",
       "mean     25.32354  \n",
       "...           ...  \n",
       "min       8.10000  \n",
       "25%      24.00000  \n",
       "50%      25.50000  \n",
       "75%      27.00000  \n",
       "max      40.40000  \n",
       "\n",
       "[11 rows x 6 columns]"
      ]
     },
     "execution_count": 33,
     "metadata": {},
     "output_type": "execute_result"
    }
   ],
   "source": [
    "df2.describe(include='all')"
   ]
  },
  {
   "cell_type": "markdown",
   "metadata": {},
   "source": [
    "### 7. Some frequently used functions\n",
    "* For these operation we can now use any DataFrame df1 or df2 that we  made earlier.\n"
   ]
  },
  {
   "cell_type": "code",
   "execution_count": 34,
   "metadata": {},
   "outputs": [
    {
     "data": {
      "text/html": [
       "<div>\n",
       "<style scoped>\n",
       "    .dataframe tbody tr th:only-of-type {\n",
       "        vertical-align: middle;\n",
       "    }\n",
       "\n",
       "    .dataframe tbody tr th {\n",
       "        vertical-align: top;\n",
       "    }\n",
       "\n",
       "    .dataframe thead th {\n",
       "        text-align: right;\n",
       "    }\n",
       "</style>\n",
       "<table border=\"1\" class=\"dataframe\">\n",
       "  <thead>\n",
       "    <tr style=\"text-align: right;\">\n",
       "      <th></th>\n",
       "      <th>Device Name</th>\n",
       "      <th>Date</th>\n",
       "      <th>CHWR</th>\n",
       "      <th>CHWS</th>\n",
       "      <th>Flow</th>\n",
       "      <th>Load</th>\n",
       "    </tr>\n",
       "  </thead>\n",
       "  <tbody>\n",
       "    <tr>\n",
       "      <th>10</th>\n",
       "      <td>BTU-2</td>\n",
       "      <td>2/17/2017 23:35</td>\n",
       "      <td>23.43</td>\n",
       "      <td>NaN</td>\n",
       "      <td>115.7</td>\n",
       "      <td>40.4</td>\n",
       "    </tr>\n",
       "    <tr>\n",
       "      <th>19</th>\n",
       "      <td>BTU-1</td>\n",
       "      <td>2/17/2017 23:10</td>\n",
       "      <td>22.81</td>\n",
       "      <td>NaN</td>\n",
       "      <td>95.5</td>\n",
       "      <td>28.3</td>\n",
       "    </tr>\n",
       "    <tr>\n",
       "      <th>26</th>\n",
       "      <td>BTU-2</td>\n",
       "      <td>2/17/2017 22:55</td>\n",
       "      <td>23.11</td>\n",
       "      <td>19.07</td>\n",
       "      <td>NaN</td>\n",
       "      <td>25.2</td>\n",
       "    </tr>\n",
       "    <tr>\n",
       "      <th>32</th>\n",
       "      <td>BTU-2</td>\n",
       "      <td>2/17/2017 22:40</td>\n",
       "      <td>23.02</td>\n",
       "      <td>20.24</td>\n",
       "      <td>NaN</td>\n",
       "      <td>17.6</td>\n",
       "    </tr>\n",
       "    <tr>\n",
       "      <th>40</th>\n",
       "      <td>BTU-2</td>\n",
       "      <td>2/17/2017 22:20</td>\n",
       "      <td>23.11</td>\n",
       "      <td>NaN</td>\n",
       "      <td>83.1</td>\n",
       "      <td>19.7</td>\n",
       "    </tr>\n",
       "    <tr>\n",
       "      <th>...</th>\n",
       "      <td>...</td>\n",
       "      <td>...</td>\n",
       "      <td>...</td>\n",
       "      <td>...</td>\n",
       "      <td>...</td>\n",
       "      <td>...</td>\n",
       "    </tr>\n",
       "    <tr>\n",
       "      <th>158</th>\n",
       "      <td>BTU-2</td>\n",
       "      <td>2/17/2017 17:20</td>\n",
       "      <td>NaN</td>\n",
       "      <td>NaN</td>\n",
       "      <td>NaN</td>\n",
       "      <td>NaN</td>\n",
       "    </tr>\n",
       "    <tr>\n",
       "      <th>183</th>\n",
       "      <td>BTU-1</td>\n",
       "      <td>2/17/2017 16:15</td>\n",
       "      <td>NaN</td>\n",
       "      <td>NaN</td>\n",
       "      <td>NaN</td>\n",
       "      <td>NaN</td>\n",
       "    </tr>\n",
       "    <tr>\n",
       "      <th>184</th>\n",
       "      <td>BTU-2</td>\n",
       "      <td>2/17/2017 16:15</td>\n",
       "      <td>NaN</td>\n",
       "      <td>NaN</td>\n",
       "      <td>NaN</td>\n",
       "      <td>NaN</td>\n",
       "    </tr>\n",
       "    <tr>\n",
       "      <th>197</th>\n",
       "      <td>BTU-1</td>\n",
       "      <td>2/17/2017 15:40</td>\n",
       "      <td>NaN</td>\n",
       "      <td>NaN</td>\n",
       "      <td>NaN</td>\n",
       "      <td>NaN</td>\n",
       "    </tr>\n",
       "    <tr>\n",
       "      <th>198</th>\n",
       "      <td>BTU-2</td>\n",
       "      <td>2/17/2017 15:40</td>\n",
       "      <td>NaN</td>\n",
       "      <td>NaN</td>\n",
       "      <td>NaN</td>\n",
       "      <td>NaN</td>\n",
       "    </tr>\n",
       "  </tbody>\n",
       "</table>\n",
       "<p>14 rows × 6 columns</p>\n",
       "</div>"
      ],
      "text/plain": [
       "    Device Name             Date   CHWR   CHWS   Flow  Load\n",
       "10        BTU-2  2/17/2017 23:35  23.43    NaN  115.7  40.4\n",
       "19        BTU-1  2/17/2017 23:10  22.81    NaN   95.5  28.3\n",
       "26        BTU-2  2/17/2017 22:55  23.11  19.07    NaN  25.2\n",
       "32        BTU-2  2/17/2017 22:40  23.02  20.24    NaN  17.6\n",
       "40        BTU-2  2/17/2017 22:20  23.11    NaN   83.1  19.7\n",
       "..          ...              ...    ...    ...    ...   ...\n",
       "158       BTU-2  2/17/2017 17:20    NaN    NaN    NaN   NaN\n",
       "183       BTU-1  2/17/2017 16:15    NaN    NaN    NaN   NaN\n",
       "184       BTU-2  2/17/2017 16:15    NaN    NaN    NaN   NaN\n",
       "197       BTU-1  2/17/2017 15:40    NaN    NaN    NaN   NaN\n",
       "198       BTU-2  2/17/2017 15:40    NaN    NaN    NaN   NaN\n",
       "\n",
       "[14 rows x 6 columns]"
      ]
     },
     "execution_count": 34,
     "metadata": {},
     "output_type": "execute_result"
    }
   ],
   "source": [
    "# As before we can get all the rows which contain at least a NaN in any one columns\n",
    "df1[df1.CHWR.isnull()|df1.CHWS.isnull()|df1.Flow.isnull()|df1.Load.isnull()]"
   ]
  },
  {
   "cell_type": "code",
   "execution_count": 35,
   "metadata": {},
   "outputs": [
    {
     "name": "stdout",
     "output_type": "stream",
     "text": [
      "Int64Index([10, 19, 26, 32, 40, 73, 120, 121, 157, 158, 183, 184, 197, 198], dtype='int64')\n"
     ]
    },
    {
     "data": {
      "text/plain": [
       "14"
      ]
     },
     "execution_count": 35,
     "metadata": {},
     "output_type": "execute_result"
    }
   ],
   "source": [
    "# Applying '.index' we can store those index in any variable  \n",
    "a=df1[df1.CHWR.isnull()|df1.CHWS.isnull()|df1.Flow.isnull()|df1.Load.isnull()].index\n",
    "print(a)\n",
    "len(a)"
   ]
  },
  {
   "cell_type": "markdown",
   "metadata": {},
   "source": [
    "This gives the index of all the rows which contains at least a NaN value in any column as selectd above"
   ]
  },
  {
   "cell_type": "code",
   "execution_count": 36,
   "metadata": {},
   "outputs": [
    {
     "data": {
      "text/html": [
       "<div>\n",
       "<style scoped>\n",
       "    .dataframe tbody tr th:only-of-type {\n",
       "        vertical-align: middle;\n",
       "    }\n",
       "\n",
       "    .dataframe tbody tr th {\n",
       "        vertical-align: top;\n",
       "    }\n",
       "\n",
       "    .dataframe thead th {\n",
       "        text-align: right;\n",
       "    }\n",
       "</style>\n",
       "<table border=\"1\" class=\"dataframe\">\n",
       "  <thead>\n",
       "    <tr style=\"text-align: right;\">\n",
       "      <th></th>\n",
       "      <th>Device Name</th>\n",
       "      <th>Date</th>\n",
       "      <th>CHWR</th>\n",
       "      <th>CHWS</th>\n",
       "      <th>Flow</th>\n",
       "      <th>Load</th>\n",
       "    </tr>\n",
       "  </thead>\n",
       "  <tbody>\n",
       "    <tr>\n",
       "      <th>10</th>\n",
       "      <td>BTU-2</td>\n",
       "      <td>2/17/2017 23:35</td>\n",
       "      <td>23.43</td>\n",
       "      <td>NaN</td>\n",
       "      <td>115.7</td>\n",
       "      <td>40.4</td>\n",
       "    </tr>\n",
       "    <tr>\n",
       "      <th>19</th>\n",
       "      <td>BTU-1</td>\n",
       "      <td>2/17/2017 23:10</td>\n",
       "      <td>22.81</td>\n",
       "      <td>NaN</td>\n",
       "      <td>95.5</td>\n",
       "      <td>28.3</td>\n",
       "    </tr>\n",
       "    <tr>\n",
       "      <th>26</th>\n",
       "      <td>BTU-2</td>\n",
       "      <td>2/17/2017 22:55</td>\n",
       "      <td>23.11</td>\n",
       "      <td>19.07</td>\n",
       "      <td>NaN</td>\n",
       "      <td>25.2</td>\n",
       "    </tr>\n",
       "    <tr>\n",
       "      <th>32</th>\n",
       "      <td>BTU-2</td>\n",
       "      <td>2/17/2017 22:40</td>\n",
       "      <td>23.02</td>\n",
       "      <td>20.24</td>\n",
       "      <td>NaN</td>\n",
       "      <td>17.6</td>\n",
       "    </tr>\n",
       "    <tr>\n",
       "      <th>40</th>\n",
       "      <td>BTU-2</td>\n",
       "      <td>2/17/2017 22:20</td>\n",
       "      <td>23.11</td>\n",
       "      <td>NaN</td>\n",
       "      <td>83.1</td>\n",
       "      <td>19.7</td>\n",
       "    </tr>\n",
       "    <tr>\n",
       "      <th>...</th>\n",
       "      <td>...</td>\n",
       "      <td>...</td>\n",
       "      <td>...</td>\n",
       "      <td>...</td>\n",
       "      <td>...</td>\n",
       "      <td>...</td>\n",
       "    </tr>\n",
       "    <tr>\n",
       "      <th>158</th>\n",
       "      <td>BTU-2</td>\n",
       "      <td>2/17/2017 17:20</td>\n",
       "      <td>NaN</td>\n",
       "      <td>NaN</td>\n",
       "      <td>NaN</td>\n",
       "      <td>NaN</td>\n",
       "    </tr>\n",
       "    <tr>\n",
       "      <th>183</th>\n",
       "      <td>BTU-1</td>\n",
       "      <td>2/17/2017 16:15</td>\n",
       "      <td>NaN</td>\n",
       "      <td>NaN</td>\n",
       "      <td>NaN</td>\n",
       "      <td>NaN</td>\n",
       "    </tr>\n",
       "    <tr>\n",
       "      <th>184</th>\n",
       "      <td>BTU-2</td>\n",
       "      <td>2/17/2017 16:15</td>\n",
       "      <td>NaN</td>\n",
       "      <td>NaN</td>\n",
       "      <td>NaN</td>\n",
       "      <td>NaN</td>\n",
       "    </tr>\n",
       "    <tr>\n",
       "      <th>197</th>\n",
       "      <td>BTU-1</td>\n",
       "      <td>2/17/2017 15:40</td>\n",
       "      <td>NaN</td>\n",
       "      <td>NaN</td>\n",
       "      <td>NaN</td>\n",
       "      <td>NaN</td>\n",
       "    </tr>\n",
       "    <tr>\n",
       "      <th>198</th>\n",
       "      <td>BTU-2</td>\n",
       "      <td>2/17/2017 15:40</td>\n",
       "      <td>NaN</td>\n",
       "      <td>NaN</td>\n",
       "      <td>NaN</td>\n",
       "      <td>NaN</td>\n",
       "    </tr>\n",
       "  </tbody>\n",
       "</table>\n",
       "<p>14 rows × 6 columns</p>\n",
       "</div>"
      ],
      "text/plain": [
       "    Device Name             Date   CHWR   CHWS   Flow  Load\n",
       "10        BTU-2  2/17/2017 23:35  23.43    NaN  115.7  40.4\n",
       "19        BTU-1  2/17/2017 23:10  22.81    NaN   95.5  28.3\n",
       "26        BTU-2  2/17/2017 22:55  23.11  19.07    NaN  25.2\n",
       "32        BTU-2  2/17/2017 22:40  23.02  20.24    NaN  17.6\n",
       "40        BTU-2  2/17/2017 22:20  23.11    NaN   83.1  19.7\n",
       "..          ...              ...    ...    ...    ...   ...\n",
       "158       BTU-2  2/17/2017 17:20    NaN    NaN    NaN   NaN\n",
       "183       BTU-1  2/17/2017 16:15    NaN    NaN    NaN   NaN\n",
       "184       BTU-2  2/17/2017 16:15    NaN    NaN    NaN   NaN\n",
       "197       BTU-1  2/17/2017 15:40    NaN    NaN    NaN   NaN\n",
       "198       BTU-2  2/17/2017 15:40    NaN    NaN    NaN   NaN\n",
       "\n",
       "[14 rows x 6 columns]"
      ]
     },
     "execution_count": 36,
     "metadata": {},
     "output_type": "execute_result"
    }
   ],
   "source": [
    "df1.loc[a,:] ## Slicing operation, here .iloc will give erroneous result. \n",
    "# For .iloc , the first row is taken as 0th row.\n",
    "# We had deleted the 0th row.After that Data row index starts from 1.\n",
    "# Available row index is now label based index and we have to use .loc"
   ]
  },
  {
   "cell_type": "code",
   "execution_count": 37,
   "metadata": {},
   "outputs": [
    {
     "data": {
      "text/html": [
       "<div>\n",
       "<style scoped>\n",
       "    .dataframe tbody tr th:only-of-type {\n",
       "        vertical-align: middle;\n",
       "    }\n",
       "\n",
       "    .dataframe tbody tr th {\n",
       "        vertical-align: top;\n",
       "    }\n",
       "\n",
       "    .dataframe thead th {\n",
       "        text-align: right;\n",
       "    }\n",
       "</style>\n",
       "<table border=\"1\" class=\"dataframe\">\n",
       "  <thead>\n",
       "    <tr style=\"text-align: right;\">\n",
       "      <th></th>\n",
       "      <th>Device Name</th>\n",
       "      <th>Date</th>\n",
       "      <th>CHWR</th>\n",
       "      <th>CHWS</th>\n",
       "      <th>Flow</th>\n",
       "      <th>Load</th>\n",
       "    </tr>\n",
       "  </thead>\n",
       "  <tbody>\n",
       "    <tr>\n",
       "      <th>11</th>\n",
       "      <td>BTU-1</td>\n",
       "      <td>2/17/2017 23:30</td>\n",
       "      <td>22.74</td>\n",
       "      <td>19.45</td>\n",
       "      <td>94.3</td>\n",
       "      <td>22.9</td>\n",
       "    </tr>\n",
       "    <tr>\n",
       "      <th>20</th>\n",
       "      <td>BTU-2</td>\n",
       "      <td>2/17/2017 23:10</td>\n",
       "      <td>23.51</td>\n",
       "      <td>18.79</td>\n",
       "      <td>82.0</td>\n",
       "      <td>28.5</td>\n",
       "    </tr>\n",
       "    <tr>\n",
       "      <th>27</th>\n",
       "      <td>BTU-1</td>\n",
       "      <td>2/17/2017 22:50</td>\n",
       "      <td>22.43</td>\n",
       "      <td>18.86</td>\n",
       "      <td>95.4</td>\n",
       "      <td>25.1</td>\n",
       "    </tr>\n",
       "    <tr>\n",
       "      <th>33</th>\n",
       "      <td>BTU-1</td>\n",
       "      <td>2/17/2017 22:35</td>\n",
       "      <td>22.44</td>\n",
       "      <td>19.50</td>\n",
       "      <td>96.3</td>\n",
       "      <td>20.8</td>\n",
       "    </tr>\n",
       "    <tr>\n",
       "      <th>41</th>\n",
       "      <td>BTU-1</td>\n",
       "      <td>2/17/2017 22:15</td>\n",
       "      <td>22.28</td>\n",
       "      <td>18.91</td>\n",
       "      <td>96.1</td>\n",
       "      <td>23.9</td>\n",
       "    </tr>\n",
       "    <tr>\n",
       "      <th>...</th>\n",
       "      <td>...</td>\n",
       "      <td>...</td>\n",
       "      <td>...</td>\n",
       "      <td>...</td>\n",
       "      <td>...</td>\n",
       "      <td>...</td>\n",
       "    </tr>\n",
       "    <tr>\n",
       "      <th>159</th>\n",
       "      <td>BTU-1</td>\n",
       "      <td>2/17/2017 17:15</td>\n",
       "      <td>22.52</td>\n",
       "      <td>19.04</td>\n",
       "      <td>95.7</td>\n",
       "      <td>24.5</td>\n",
       "    </tr>\n",
       "    <tr>\n",
       "      <th>184</th>\n",
       "      <td>BTU-2</td>\n",
       "      <td>2/17/2017 16:15</td>\n",
       "      <td>NaN</td>\n",
       "      <td>NaN</td>\n",
       "      <td>NaN</td>\n",
       "      <td>NaN</td>\n",
       "    </tr>\n",
       "    <tr>\n",
       "      <th>185</th>\n",
       "      <td>BTU-1</td>\n",
       "      <td>2/17/2017 16:10</td>\n",
       "      <td>22.65</td>\n",
       "      <td>19.58</td>\n",
       "      <td>95.0</td>\n",
       "      <td>21.5</td>\n",
       "    </tr>\n",
       "    <tr>\n",
       "      <th>198</th>\n",
       "      <td>BTU-2</td>\n",
       "      <td>2/17/2017 15:40</td>\n",
       "      <td>NaN</td>\n",
       "      <td>NaN</td>\n",
       "      <td>NaN</td>\n",
       "      <td>NaN</td>\n",
       "    </tr>\n",
       "    <tr>\n",
       "      <th>199</th>\n",
       "      <td>BTU-1</td>\n",
       "      <td>2/17/2017 15:35</td>\n",
       "      <td>22.28</td>\n",
       "      <td>21.01</td>\n",
       "      <td>99.5</td>\n",
       "      <td>9.3</td>\n",
       "    </tr>\n",
       "  </tbody>\n",
       "</table>\n",
       "<p>14 rows × 6 columns</p>\n",
       "</div>"
      ],
      "text/plain": [
       "    Device Name             Date   CHWR   CHWS  Flow  Load\n",
       "11        BTU-1  2/17/2017 23:30  22.74  19.45  94.3  22.9\n",
       "20        BTU-2  2/17/2017 23:10  23.51  18.79  82.0  28.5\n",
       "27        BTU-1  2/17/2017 22:50  22.43  18.86  95.4  25.1\n",
       "33        BTU-1  2/17/2017 22:35  22.44  19.50  96.3  20.8\n",
       "41        BTU-1  2/17/2017 22:15  22.28  18.91  96.1  23.9\n",
       "..          ...              ...    ...    ...   ...   ...\n",
       "159       BTU-1  2/17/2017 17:15  22.52  19.04  95.7  24.5\n",
       "184       BTU-2  2/17/2017 16:15    NaN    NaN   NaN   NaN\n",
       "185       BTU-1  2/17/2017 16:10  22.65  19.58  95.0  21.5\n",
       "198       BTU-2  2/17/2017 15:40    NaN    NaN   NaN   NaN\n",
       "199       BTU-1  2/17/2017 15:35  22.28  21.01  99.5   9.3\n",
       "\n",
       "[14 rows x 6 columns]"
      ]
     },
     "execution_count": 37,
     "metadata": {},
     "output_type": "execute_result"
    }
   ],
   "source": [
    "# Chekcing using .iloc. Now compare with above result.Think again and read the explanation above.\n",
    "df1.iloc[a,:]"
   ]
  },
  {
   "cell_type": "code",
   "execution_count": 38,
   "metadata": {},
   "outputs": [
    {
     "data": {
      "text/plain": [
       "22.64    12\n",
       "22.16     9\n",
       "22.21     9\n",
       "NaN       8\n",
       "22.15     8\n",
       "         ..\n",
       "22.87     1\n",
       "22.05     1\n",
       "22.09     1\n",
       "21.67     1\n",
       "21.71     1\n",
       "Name: CHWR, Length: 212, dtype: int64"
      ]
     },
     "execution_count": 38,
     "metadata": {},
     "output_type": "execute_result"
    }
   ],
   "source": [
    "df1['CHWR'].value_counts(dropna=False)\n",
    "# This gives all the unique entries in 'CHWR' column and their repetitions.It also counts NaN."
   ]
  },
  {
   "cell_type": "code",
   "execution_count": 39,
   "metadata": {},
   "outputs": [
    {
     "data": {
      "text/plain": [
       "22.64    12\n",
       "22.21     9\n",
       "22.16     9\n",
       "22.15     8\n",
       "22.13     7\n",
       "         ..\n",
       "23.36     1\n",
       "22.70     1\n",
       "21.90     1\n",
       "21.49     1\n",
       "21.71     1\n",
       "Name: CHWR, Length: 211, dtype: int64"
      ]
     },
     "execution_count": 39,
     "metadata": {},
     "output_type": "execute_result"
    }
   ],
   "source": [
    "df1['CHWR'].value_counts()# By default --> dropna=False. Now It doesn't include NaN."
   ]
  },
  {
   "cell_type": "code",
   "execution_count": 40,
   "metadata": {},
   "outputs": [
    {
     "data": {
      "text/plain": [
       "False    566\n",
       "True       8\n",
       "Name: CHWR, dtype: int64"
      ]
     },
     "execution_count": 40,
     "metadata": {},
     "output_type": "execute_result"
    }
   ],
   "source": [
    "df1.CHWR.isnull().value_counts()# It is counting Unique value of result given by :df1.CHWR.isnull()\n",
    "# Which result in only True and False with their counting i.e. how many times they are repeted."
   ]
  },
  {
   "cell_type": "code",
   "execution_count": 41,
   "metadata": {},
   "outputs": [
    {
     "data": {
      "text/plain": [
       "201    21.00\n",
       "81     21.11\n",
       "235    21.16\n",
       "108    21.24\n",
       "493    21.24\n",
       "       ...  \n",
       "158      NaN\n",
       "183      NaN\n",
       "184      NaN\n",
       "197      NaN\n",
       "198      NaN\n",
       "Name: CHWR, Length: 574, dtype: float64"
      ]
     },
     "execution_count": 41,
     "metadata": {},
     "output_type": "execute_result"
    }
   ],
   "source": [
    "df1['CHWR'].sort_values() # sort the column in ascending order"
   ]
  },
  {
   "cell_type": "code",
   "execution_count": 42,
   "metadata": {},
   "outputs": [
    {
     "data": {
      "text/plain": [
       "BTU-1    288\n",
       "BTU-2    286\n",
       "Name: Device Name, dtype: int64"
      ]
     },
     "execution_count": 42,
     "metadata": {},
     "output_type": "execute_result"
    }
   ],
   "source": [
    "df1['Device Name'].value_counts()"
   ]
  },
  {
   "cell_type": "code",
   "execution_count": 43,
   "metadata": {},
   "outputs": [
    {
     "data": {
      "text/plain": [
       "array(['BTU-1', 'BTU-2'], dtype=object)"
      ]
     },
     "execution_count": 43,
     "metadata": {},
     "output_type": "execute_result"
    }
   ],
   "source": [
    "df1['Device Name'].unique()  # This gives all the unique entries available in 'Device Colums' as an array."
   ]
  },
  {
   "cell_type": "code",
   "execution_count": 44,
   "metadata": {},
   "outputs": [
    {
     "data": {
      "text/plain": [
       "2"
      ]
     },
     "execution_count": 44,
     "metadata": {},
     "output_type": "execute_result"
    }
   ],
   "source": [
    "df1['Device Name'].nunique() # This gives counting of unique entries."
   ]
  },
  {
   "cell_type": "code",
   "execution_count": 45,
   "metadata": {},
   "outputs": [
    {
     "data": {
      "text/plain": [
       "(array(['BTU-1', 'BTU-2'], dtype=object), array([288, 286], dtype=int64))"
      ]
     },
     "execution_count": 45,
     "metadata": {},
     "output_type": "execute_result"
    }
   ],
   "source": [
    "np.unique(df1['Device Name'],return_counts=True) ## Numpy function for same above operation, tuple of array\n",
    "# First array is showing all the unique items.\n",
    "# Second array is showing corresponding counting of each items in first array."
   ]
  },
  {
   "cell_type": "markdown",
   "metadata": {},
   "source": [
    "### 8.  Dropping the rows with NaN values"
   ]
  },
  {
   "cell_type": "code",
   "execution_count": 46,
   "metadata": {},
   "outputs": [
    {
     "data": {
      "text/plain": [
       "(574, 6)"
      ]
     },
     "execution_count": 46,
     "metadata": {},
     "output_type": "execute_result"
    }
   ],
   "source": [
    "df1.shape"
   ]
  },
  {
   "cell_type": "code",
   "execution_count": 47,
   "metadata": {},
   "outputs": [],
   "source": [
    "df1.dropna(how='any',inplace=True)## Deletes all the rows having NaN in any column\n",
    "# inplace=True --> This permanently change the DataFrame"
   ]
  },
  {
   "cell_type": "code",
   "execution_count": 48,
   "metadata": {},
   "outputs": [
    {
     "data": {
      "text/plain": [
       "(560, 6)"
      ]
     },
     "execution_count": 48,
     "metadata": {},
     "output_type": "execute_result"
    }
   ],
   "source": [
    "df1.shape"
   ]
  },
  {
   "cell_type": "markdown",
   "metadata": {},
   "source": [
    "* We can see 14 rows have been deleted as they contain at least one NaN in any one column."
   ]
  },
  {
   "cell_type": "markdown",
   "metadata": {},
   "source": [
    "* There are many arguments to pass in  dropna commnads to control the way we want to delete the row having NaN. Check yourslef.Given below syntax for trial.\n",
    "* https://pandas.pydata.org/pandas-docs/stable/reference/api/pandas.DataFrame.dropna.html"
   ]
  },
  {
   "cell_type": "code",
   "execution_count": 49,
   "metadata": {},
   "outputs": [],
   "source": [
    "# df2.dropna(how='all').shape ## it drops only those row in which  all column value is nan\n",
    "# df2.dropna(subset=['colName','colName'],how='any').shape\n",
    "# df2.dropna(subset=['colName','colName'],how='all').shape"
   ]
  },
  {
   "cell_type": "markdown",
   "metadata": {},
   "source": [
    "### 9. Filling  NaN entries with some numerical values"
   ]
  },
  {
   "cell_type": "code",
   "execution_count": 50,
   "metadata": {},
   "outputs": [
    {
     "data": {
      "text/html": [
       "<div>\n",
       "<style scoped>\n",
       "    .dataframe tbody tr th:only-of-type {\n",
       "        vertical-align: middle;\n",
       "    }\n",
       "\n",
       "    .dataframe tbody tr th {\n",
       "        vertical-align: top;\n",
       "    }\n",
       "\n",
       "    .dataframe thead th {\n",
       "        text-align: right;\n",
       "    }\n",
       "</style>\n",
       "<table border=\"1\" class=\"dataframe\">\n",
       "  <thead>\n",
       "    <tr style=\"text-align: right;\">\n",
       "      <th></th>\n",
       "      <th>Device Name</th>\n",
       "      <th>Date</th>\n",
       "      <th>CHWR</th>\n",
       "      <th>CHWS</th>\n",
       "      <th>Flow</th>\n",
       "      <th>Load</th>\n",
       "    </tr>\n",
       "  </thead>\n",
       "  <tbody>\n",
       "    <tr>\n",
       "      <th>10</th>\n",
       "      <td>BTU-2</td>\n",
       "      <td>2/17/2017 23:35</td>\n",
       "      <td>23.43</td>\n",
       "      <td>NaN</td>\n",
       "      <td>115.7</td>\n",
       "      <td>40.4</td>\n",
       "    </tr>\n",
       "    <tr>\n",
       "      <th>19</th>\n",
       "      <td>BTU-1</td>\n",
       "      <td>2/17/2017 23:10</td>\n",
       "      <td>22.81</td>\n",
       "      <td>NaN</td>\n",
       "      <td>95.5</td>\n",
       "      <td>28.3</td>\n",
       "    </tr>\n",
       "    <tr>\n",
       "      <th>26</th>\n",
       "      <td>BTU-2</td>\n",
       "      <td>2/17/2017 22:55</td>\n",
       "      <td>23.11</td>\n",
       "      <td>19.07</td>\n",
       "      <td>NaN</td>\n",
       "      <td>25.2</td>\n",
       "    </tr>\n",
       "    <tr>\n",
       "      <th>32</th>\n",
       "      <td>BTU-2</td>\n",
       "      <td>2/17/2017 22:40</td>\n",
       "      <td>23.02</td>\n",
       "      <td>20.24</td>\n",
       "      <td>NaN</td>\n",
       "      <td>17.6</td>\n",
       "    </tr>\n",
       "    <tr>\n",
       "      <th>40</th>\n",
       "      <td>BTU-2</td>\n",
       "      <td>2/17/2017 22:20</td>\n",
       "      <td>23.11</td>\n",
       "      <td>NaN</td>\n",
       "      <td>83.1</td>\n",
       "      <td>19.7</td>\n",
       "    </tr>\n",
       "    <tr>\n",
       "      <th>...</th>\n",
       "      <td>...</td>\n",
       "      <td>...</td>\n",
       "      <td>...</td>\n",
       "      <td>...</td>\n",
       "      <td>...</td>\n",
       "      <td>...</td>\n",
       "    </tr>\n",
       "    <tr>\n",
       "      <th>158</th>\n",
       "      <td>BTU-2</td>\n",
       "      <td>2/17/2017 17:20</td>\n",
       "      <td>NaN</td>\n",
       "      <td>NaN</td>\n",
       "      <td>NaN</td>\n",
       "      <td>NaN</td>\n",
       "    </tr>\n",
       "    <tr>\n",
       "      <th>183</th>\n",
       "      <td>BTU-1</td>\n",
       "      <td>2/17/2017 16:15</td>\n",
       "      <td>NaN</td>\n",
       "      <td>NaN</td>\n",
       "      <td>NaN</td>\n",
       "      <td>NaN</td>\n",
       "    </tr>\n",
       "    <tr>\n",
       "      <th>184</th>\n",
       "      <td>BTU-2</td>\n",
       "      <td>2/17/2017 16:15</td>\n",
       "      <td>NaN</td>\n",
       "      <td>NaN</td>\n",
       "      <td>NaN</td>\n",
       "      <td>NaN</td>\n",
       "    </tr>\n",
       "    <tr>\n",
       "      <th>197</th>\n",
       "      <td>BTU-1</td>\n",
       "      <td>2/17/2017 15:40</td>\n",
       "      <td>NaN</td>\n",
       "      <td>NaN</td>\n",
       "      <td>NaN</td>\n",
       "      <td>NaN</td>\n",
       "    </tr>\n",
       "    <tr>\n",
       "      <th>198</th>\n",
       "      <td>BTU-2</td>\n",
       "      <td>2/17/2017 15:40</td>\n",
       "      <td>NaN</td>\n",
       "      <td>NaN</td>\n",
       "      <td>NaN</td>\n",
       "      <td>NaN</td>\n",
       "    </tr>\n",
       "  </tbody>\n",
       "</table>\n",
       "<p>14 rows × 6 columns</p>\n",
       "</div>"
      ],
      "text/plain": [
       "    Device Name             Date   CHWR   CHWS   Flow  Load\n",
       "10        BTU-2  2/17/2017 23:35  23.43    NaN  115.7  40.4\n",
       "19        BTU-1  2/17/2017 23:10  22.81    NaN   95.5  28.3\n",
       "26        BTU-2  2/17/2017 22:55  23.11  19.07    NaN  25.2\n",
       "32        BTU-2  2/17/2017 22:40  23.02  20.24    NaN  17.6\n",
       "40        BTU-2  2/17/2017 22:20  23.11    NaN   83.1  19.7\n",
       "..          ...              ...    ...    ...    ...   ...\n",
       "158       BTU-2  2/17/2017 17:20    NaN    NaN    NaN   NaN\n",
       "183       BTU-1  2/17/2017 16:15    NaN    NaN    NaN   NaN\n",
       "184       BTU-2  2/17/2017 16:15    NaN    NaN    NaN   NaN\n",
       "197       BTU-1  2/17/2017 15:40    NaN    NaN    NaN   NaN\n",
       "198       BTU-2  2/17/2017 15:40    NaN    NaN    NaN   NaN\n",
       "\n",
       "[14 rows x 6 columns]"
      ]
     },
     "execution_count": 50,
     "metadata": {},
     "output_type": "execute_result"
    }
   ],
   "source": [
    "df2.loc[a,:] # Variable - 'a' stores the rows index containing NaN entries in any column."
   ]
  },
  {
   "cell_type": "markdown",
   "metadata": {},
   "source": [
    "* filling NaN with zero : > "
   ]
  },
  {
   "cell_type": "code",
   "execution_count": 51,
   "metadata": {},
   "outputs": [
    {
     "data": {
      "text/html": [
       "<div>\n",
       "<style scoped>\n",
       "    .dataframe tbody tr th:only-of-type {\n",
       "        vertical-align: middle;\n",
       "    }\n",
       "\n",
       "    .dataframe tbody tr th {\n",
       "        vertical-align: top;\n",
       "    }\n",
       "\n",
       "    .dataframe thead th {\n",
       "        text-align: right;\n",
       "    }\n",
       "</style>\n",
       "<table border=\"1\" class=\"dataframe\">\n",
       "  <thead>\n",
       "    <tr style=\"text-align: right;\">\n",
       "      <th></th>\n",
       "      <th>Device Name</th>\n",
       "      <th>Date</th>\n",
       "      <th>CHWR</th>\n",
       "      <th>CHWS</th>\n",
       "      <th>Flow</th>\n",
       "      <th>Load</th>\n",
       "    </tr>\n",
       "  </thead>\n",
       "  <tbody>\n",
       "    <tr>\n",
       "      <th>10</th>\n",
       "      <td>BTU-2</td>\n",
       "      <td>2/17/2017 23:35</td>\n",
       "      <td>23.43</td>\n",
       "      <td>0.00</td>\n",
       "      <td>115.7</td>\n",
       "      <td>40.4</td>\n",
       "    </tr>\n",
       "    <tr>\n",
       "      <th>19</th>\n",
       "      <td>BTU-1</td>\n",
       "      <td>2/17/2017 23:10</td>\n",
       "      <td>22.81</td>\n",
       "      <td>0.00</td>\n",
       "      <td>95.5</td>\n",
       "      <td>28.3</td>\n",
       "    </tr>\n",
       "    <tr>\n",
       "      <th>26</th>\n",
       "      <td>BTU-2</td>\n",
       "      <td>2/17/2017 22:55</td>\n",
       "      <td>23.11</td>\n",
       "      <td>19.07</td>\n",
       "      <td>0.0</td>\n",
       "      <td>25.2</td>\n",
       "    </tr>\n",
       "    <tr>\n",
       "      <th>32</th>\n",
       "      <td>BTU-2</td>\n",
       "      <td>2/17/2017 22:40</td>\n",
       "      <td>23.02</td>\n",
       "      <td>20.24</td>\n",
       "      <td>0.0</td>\n",
       "      <td>17.6</td>\n",
       "    </tr>\n",
       "    <tr>\n",
       "      <th>40</th>\n",
       "      <td>BTU-2</td>\n",
       "      <td>2/17/2017 22:20</td>\n",
       "      <td>23.11</td>\n",
       "      <td>0.00</td>\n",
       "      <td>83.1</td>\n",
       "      <td>19.7</td>\n",
       "    </tr>\n",
       "    <tr>\n",
       "      <th>...</th>\n",
       "      <td>...</td>\n",
       "      <td>...</td>\n",
       "      <td>...</td>\n",
       "      <td>...</td>\n",
       "      <td>...</td>\n",
       "      <td>...</td>\n",
       "    </tr>\n",
       "    <tr>\n",
       "      <th>158</th>\n",
       "      <td>BTU-2</td>\n",
       "      <td>2/17/2017 17:20</td>\n",
       "      <td>0.00</td>\n",
       "      <td>0.00</td>\n",
       "      <td>0.0</td>\n",
       "      <td>0.0</td>\n",
       "    </tr>\n",
       "    <tr>\n",
       "      <th>183</th>\n",
       "      <td>BTU-1</td>\n",
       "      <td>2/17/2017 16:15</td>\n",
       "      <td>0.00</td>\n",
       "      <td>0.00</td>\n",
       "      <td>0.0</td>\n",
       "      <td>0.0</td>\n",
       "    </tr>\n",
       "    <tr>\n",
       "      <th>184</th>\n",
       "      <td>BTU-2</td>\n",
       "      <td>2/17/2017 16:15</td>\n",
       "      <td>0.00</td>\n",
       "      <td>0.00</td>\n",
       "      <td>0.0</td>\n",
       "      <td>0.0</td>\n",
       "    </tr>\n",
       "    <tr>\n",
       "      <th>197</th>\n",
       "      <td>BTU-1</td>\n",
       "      <td>2/17/2017 15:40</td>\n",
       "      <td>0.00</td>\n",
       "      <td>0.00</td>\n",
       "      <td>0.0</td>\n",
       "      <td>0.0</td>\n",
       "    </tr>\n",
       "    <tr>\n",
       "      <th>198</th>\n",
       "      <td>BTU-2</td>\n",
       "      <td>2/17/2017 15:40</td>\n",
       "      <td>0.00</td>\n",
       "      <td>0.00</td>\n",
       "      <td>0.0</td>\n",
       "      <td>0.0</td>\n",
       "    </tr>\n",
       "  </tbody>\n",
       "</table>\n",
       "<p>14 rows × 6 columns</p>\n",
       "</div>"
      ],
      "text/plain": [
       "    Device Name             Date   CHWR   CHWS   Flow  Load\n",
       "10        BTU-2  2/17/2017 23:35  23.43   0.00  115.7  40.4\n",
       "19        BTU-1  2/17/2017 23:10  22.81   0.00   95.5  28.3\n",
       "26        BTU-2  2/17/2017 22:55  23.11  19.07    0.0  25.2\n",
       "32        BTU-2  2/17/2017 22:40  23.02  20.24    0.0  17.6\n",
       "40        BTU-2  2/17/2017 22:20  23.11   0.00   83.1  19.7\n",
       "..          ...              ...    ...    ...    ...   ...\n",
       "158       BTU-2  2/17/2017 17:20   0.00   0.00    0.0   0.0\n",
       "183       BTU-1  2/17/2017 16:15   0.00   0.00    0.0   0.0\n",
       "184       BTU-2  2/17/2017 16:15   0.00   0.00    0.0   0.0\n",
       "197       BTU-1  2/17/2017 15:40   0.00   0.00    0.0   0.0\n",
       "198       BTU-2  2/17/2017 15:40   0.00   0.00    0.0   0.0\n",
       "\n",
       "[14 rows x 6 columns]"
      ]
     },
     "execution_count": 51,
     "metadata": {},
     "output_type": "execute_result"
    }
   ],
   "source": [
    "df_temp=df2.fillna(0) \n",
    "# we hav not passed inplace=True, thus this is just a display (df2 remains unchanged).\n",
    "# we are storing it in another variable df_temp\n",
    "df_temp.loc[a,:]"
   ]
  },
  {
   "cell_type": "markdown",
   "metadata": {},
   "source": [
    "* All the NaN entries have been filled with 0.\n",
    "##### Diffrent columns can be filled with different values, as given below:"
   ]
  },
  {
   "cell_type": "code",
   "execution_count": 52,
   "metadata": {},
   "outputs": [
    {
     "data": {
      "text/plain": [
       "CHWR     22.348869\n",
       "CHWS     18.931616\n",
       "Flow    101.867376\n",
       "Load     25.323540\n",
       "dtype: float64"
      ]
     },
     "execution_count": 52,
     "metadata": {},
     "output_type": "execute_result"
    }
   ],
   "source": [
    "df2.mean() # calculating mean of each Numerical Column"
   ]
  },
  {
   "cell_type": "code",
   "execution_count": 53,
   "metadata": {},
   "outputs": [
    {
     "data": {
      "text/html": [
       "<div>\n",
       "<style scoped>\n",
       "    .dataframe tbody tr th:only-of-type {\n",
       "        vertical-align: middle;\n",
       "    }\n",
       "\n",
       "    .dataframe tbody tr th {\n",
       "        vertical-align: top;\n",
       "    }\n",
       "\n",
       "    .dataframe thead th {\n",
       "        text-align: right;\n",
       "    }\n",
       "</style>\n",
       "<table border=\"1\" class=\"dataframe\">\n",
       "  <thead>\n",
       "    <tr style=\"text-align: right;\">\n",
       "      <th></th>\n",
       "      <th>Device Name</th>\n",
       "      <th>Date</th>\n",
       "      <th>CHWR</th>\n",
       "      <th>CHWS</th>\n",
       "      <th>Flow</th>\n",
       "      <th>Load</th>\n",
       "    </tr>\n",
       "  </thead>\n",
       "  <tbody>\n",
       "    <tr>\n",
       "      <th>10</th>\n",
       "      <td>BTU-2</td>\n",
       "      <td>2/17/2017 23:35</td>\n",
       "      <td>23.430000</td>\n",
       "      <td>11.00</td>\n",
       "      <td>115.700000</td>\n",
       "      <td>40.4</td>\n",
       "    </tr>\n",
       "    <tr>\n",
       "      <th>19</th>\n",
       "      <td>BTU-1</td>\n",
       "      <td>2/17/2017 23:10</td>\n",
       "      <td>22.810000</td>\n",
       "      <td>11.00</td>\n",
       "      <td>95.500000</td>\n",
       "      <td>28.3</td>\n",
       "    </tr>\n",
       "    <tr>\n",
       "      <th>26</th>\n",
       "      <td>BTU-2</td>\n",
       "      <td>2/17/2017 22:55</td>\n",
       "      <td>23.110000</td>\n",
       "      <td>19.07</td>\n",
       "      <td>101.867376</td>\n",
       "      <td>25.2</td>\n",
       "    </tr>\n",
       "    <tr>\n",
       "      <th>32</th>\n",
       "      <td>BTU-2</td>\n",
       "      <td>2/17/2017 22:40</td>\n",
       "      <td>23.020000</td>\n",
       "      <td>20.24</td>\n",
       "      <td>101.867376</td>\n",
       "      <td>17.6</td>\n",
       "    </tr>\n",
       "    <tr>\n",
       "      <th>40</th>\n",
       "      <td>BTU-2</td>\n",
       "      <td>2/17/2017 22:20</td>\n",
       "      <td>23.110000</td>\n",
       "      <td>11.00</td>\n",
       "      <td>83.100000</td>\n",
       "      <td>19.7</td>\n",
       "    </tr>\n",
       "    <tr>\n",
       "      <th>...</th>\n",
       "      <td>...</td>\n",
       "      <td>...</td>\n",
       "      <td>...</td>\n",
       "      <td>...</td>\n",
       "      <td>...</td>\n",
       "      <td>...</td>\n",
       "    </tr>\n",
       "    <tr>\n",
       "      <th>158</th>\n",
       "      <td>BTU-2</td>\n",
       "      <td>2/17/2017 17:20</td>\n",
       "      <td>22.348869</td>\n",
       "      <td>11.00</td>\n",
       "      <td>101.867376</td>\n",
       "      <td>13.0</td>\n",
       "    </tr>\n",
       "    <tr>\n",
       "      <th>183</th>\n",
       "      <td>BTU-1</td>\n",
       "      <td>2/17/2017 16:15</td>\n",
       "      <td>22.348869</td>\n",
       "      <td>11.00</td>\n",
       "      <td>101.867376</td>\n",
       "      <td>13.0</td>\n",
       "    </tr>\n",
       "    <tr>\n",
       "      <th>184</th>\n",
       "      <td>BTU-2</td>\n",
       "      <td>2/17/2017 16:15</td>\n",
       "      <td>22.348869</td>\n",
       "      <td>11.00</td>\n",
       "      <td>101.867376</td>\n",
       "      <td>13.0</td>\n",
       "    </tr>\n",
       "    <tr>\n",
       "      <th>197</th>\n",
       "      <td>BTU-1</td>\n",
       "      <td>2/17/2017 15:40</td>\n",
       "      <td>22.348869</td>\n",
       "      <td>11.00</td>\n",
       "      <td>101.867376</td>\n",
       "      <td>13.0</td>\n",
       "    </tr>\n",
       "    <tr>\n",
       "      <th>198</th>\n",
       "      <td>BTU-2</td>\n",
       "      <td>2/17/2017 15:40</td>\n",
       "      <td>22.348869</td>\n",
       "      <td>11.00</td>\n",
       "      <td>101.867376</td>\n",
       "      <td>13.0</td>\n",
       "    </tr>\n",
       "  </tbody>\n",
       "</table>\n",
       "<p>14 rows × 6 columns</p>\n",
       "</div>"
      ],
      "text/plain": [
       "    Device Name             Date       CHWR   CHWS        Flow  Load\n",
       "10        BTU-2  2/17/2017 23:35  23.430000  11.00  115.700000  40.4\n",
       "19        BTU-1  2/17/2017 23:10  22.810000  11.00   95.500000  28.3\n",
       "26        BTU-2  2/17/2017 22:55  23.110000  19.07  101.867376  25.2\n",
       "32        BTU-2  2/17/2017 22:40  23.020000  20.24  101.867376  17.6\n",
       "40        BTU-2  2/17/2017 22:20  23.110000  11.00   83.100000  19.7\n",
       "..          ...              ...        ...    ...         ...   ...\n",
       "158       BTU-2  2/17/2017 17:20  22.348869  11.00  101.867376  13.0\n",
       "183       BTU-1  2/17/2017 16:15  22.348869  11.00  101.867376  13.0\n",
       "184       BTU-2  2/17/2017 16:15  22.348869  11.00  101.867376  13.0\n",
       "197       BTU-1  2/17/2017 15:40  22.348869  11.00  101.867376  13.0\n",
       "198       BTU-2  2/17/2017 15:40  22.348869  11.00  101.867376  13.0\n",
       "\n",
       "[14 rows x 6 columns]"
      ]
     },
     "execution_count": 53,
     "metadata": {},
     "output_type": "execute_result"
    }
   ],
   "source": [
    "df_temp=df2.fillna({'CHWR':df2['CHWR'].mean(),'CHWS':11,'Flow':df2['Flow'].mean(),'Load':13})\n",
    "# Diffrent columns can be filled with different value. Note:fillna creates a differet object.\n",
    "#To make change in same object pass argument :>data1.fillna({'CHWR':10,'CHWS':11,'Flow':12,'Load':13},inplace=True)\n",
    "df_temp.loc[a,:]"
   ]
  },
  {
   "cell_type": "markdown",
   "metadata": {},
   "source": [
    "###### Try yourself :>\n",
    "###### Arguments for fillna functions:> value , method, axis, inplace, limit\n",
    "###### for method--> 'backfill’, ‘bfill’, ‘pad’, ‘ffill’\n",
    "https://pandas.pydata.org/pandas-docs/stable/reference/api/pandas.DataFrame.fillna.html"
   ]
  },
  {
   "cell_type": "markdown",
   "metadata": {},
   "source": [
    "### 10. Handling DateTime Column in Pandas\n",
    "* We are going to use 'df1',in which we have dropped all the row which contain at least one NaN in any column for sake of simplicity."
   ]
  },
  {
   "cell_type": "code",
   "execution_count": 54,
   "metadata": {},
   "outputs": [
    {
     "data": {
      "text/html": [
       "<div>\n",
       "<style scoped>\n",
       "    .dataframe tbody tr th:only-of-type {\n",
       "        vertical-align: middle;\n",
       "    }\n",
       "\n",
       "    .dataframe tbody tr th {\n",
       "        vertical-align: top;\n",
       "    }\n",
       "\n",
       "    .dataframe thead th {\n",
       "        text-align: right;\n",
       "    }\n",
       "</style>\n",
       "<table border=\"1\" class=\"dataframe\">\n",
       "  <thead>\n",
       "    <tr style=\"text-align: right;\">\n",
       "      <th></th>\n",
       "      <th>Device Name</th>\n",
       "      <th>Date</th>\n",
       "      <th>CHWR</th>\n",
       "      <th>CHWS</th>\n",
       "      <th>Flow</th>\n",
       "      <th>Load</th>\n",
       "    </tr>\n",
       "  </thead>\n",
       "  <tbody>\n",
       "    <tr>\n",
       "      <th>1</th>\n",
       "      <td>BTU-1</td>\n",
       "      <td>2/17/2017 23:55</td>\n",
       "      <td>21.80</td>\n",
       "      <td>18.69</td>\n",
       "      <td>96.0</td>\n",
       "      <td>22.0</td>\n",
       "    </tr>\n",
       "    <tr>\n",
       "      <th>2</th>\n",
       "      <td>BTU-2</td>\n",
       "      <td>2/17/2017 23:55</td>\n",
       "      <td>23.35</td>\n",
       "      <td>18.79</td>\n",
       "      <td>86.1</td>\n",
       "      <td>29.0</td>\n",
       "    </tr>\n",
       "    <tr>\n",
       "      <th>3</th>\n",
       "      <td>BTU-1</td>\n",
       "      <td>2/17/2017 23:50</td>\n",
       "      <td>22.83</td>\n",
       "      <td>19.57</td>\n",
       "      <td>93.5</td>\n",
       "      <td>22.5</td>\n",
       "    </tr>\n",
       "    <tr>\n",
       "      <th>4</th>\n",
       "      <td>BTU-2</td>\n",
       "      <td>2/17/2017 23:50</td>\n",
       "      <td>23.32</td>\n",
       "      <td>19.45</td>\n",
       "      <td>81.5</td>\n",
       "      <td>23.2</td>\n",
       "    </tr>\n",
       "    <tr>\n",
       "      <th>5</th>\n",
       "      <td>BTU-1</td>\n",
       "      <td>2/17/2017 23:45</td>\n",
       "      <td>22.79</td>\n",
       "      <td>19.40</td>\n",
       "      <td>98.0</td>\n",
       "      <td>24.5</td>\n",
       "    </tr>\n",
       "  </tbody>\n",
       "</table>\n",
       "</div>"
      ],
      "text/plain": [
       "  Device Name             Date   CHWR   CHWS  Flow  Load\n",
       "1       BTU-1  2/17/2017 23:55  21.80  18.69  96.0  22.0\n",
       "2       BTU-2  2/17/2017 23:55  23.35  18.79  86.1  29.0\n",
       "3       BTU-1  2/17/2017 23:50  22.83  19.57  93.5  22.5\n",
       "4       BTU-2  2/17/2017 23:50  23.32  19.45  81.5  23.2\n",
       "5       BTU-1  2/17/2017 23:45  22.79  19.40  98.0  24.5"
      ]
     },
     "execution_count": 54,
     "metadata": {},
     "output_type": "execute_result"
    }
   ],
   "source": [
    "df1.head()"
   ]
  },
  {
   "cell_type": "code",
   "execution_count": 55,
   "metadata": {},
   "outputs": [
    {
     "data": {
      "text/plain": [
       "dtype('O')"
      ]
     },
     "execution_count": 55,
     "metadata": {},
     "output_type": "execute_result"
    }
   ],
   "source": [
    "df1['Date'].dtypes \n",
    "# checking the data type of  Data columns, it is stored as object i.e. string data in this case."
   ]
  },
  {
   "cell_type": "markdown",
   "metadata": {},
   "source": [
    "* We can apply string operation by  accessing  each cell of this column.\n",
    "* For this, we have to use .str  as given below.\n",
    "* say we want to slice hour and minute from Date :>"
   ]
  },
  {
   "cell_type": "code",
   "execution_count": 56,
   "metadata": {},
   "outputs": [
    {
     "data": {
      "text/plain": [
       "1      23:55\n",
       "2      23:55\n",
       "3      23:50\n",
       "4      23:50\n",
       "5      23:45\n",
       "       ...  \n",
       "570     0:10\n",
       "571     0:05\n",
       "572     0:05\n",
       "573     0:00\n",
       "574     0:00\n",
       "Name: Date, Length: 560, dtype: object"
      ]
     },
     "execution_count": 56,
     "metadata": {},
     "output_type": "execute_result"
    }
   ],
   "source": [
    "df1.Date.str.slice(10,15)\n",
    "# Here, .str -->acts as accessor which enables to apply string opearion on entire column\n",
    "# We are slicing 10th to 15th character, which contain hour and minute data"
   ]
  },
  {
   "cell_type": "code",
   "execution_count": 57,
   "metadata": {},
   "outputs": [
    {
     "data": {
      "text/html": [
       "<div>\n",
       "<style scoped>\n",
       "    .dataframe tbody tr th:only-of-type {\n",
       "        vertical-align: middle;\n",
       "    }\n",
       "\n",
       "    .dataframe tbody tr th {\n",
       "        vertical-align: top;\n",
       "    }\n",
       "\n",
       "    .dataframe thead th {\n",
       "        text-align: right;\n",
       "    }\n",
       "</style>\n",
       "<table border=\"1\" class=\"dataframe\">\n",
       "  <thead>\n",
       "    <tr style=\"text-align: right;\">\n",
       "      <th></th>\n",
       "      <th>Device Name</th>\n",
       "      <th>Date</th>\n",
       "      <th>CHWR</th>\n",
       "      <th>CHWS</th>\n",
       "      <th>Flow</th>\n",
       "      <th>Load</th>\n",
       "      <th>Time</th>\n",
       "    </tr>\n",
       "  </thead>\n",
       "  <tbody>\n",
       "    <tr>\n",
       "      <th>1</th>\n",
       "      <td>BTU-1</td>\n",
       "      <td>2/17/2017 23:55</td>\n",
       "      <td>21.80</td>\n",
       "      <td>18.69</td>\n",
       "      <td>96.0</td>\n",
       "      <td>22.0</td>\n",
       "      <td>23:55</td>\n",
       "    </tr>\n",
       "    <tr>\n",
       "      <th>2</th>\n",
       "      <td>BTU-2</td>\n",
       "      <td>2/17/2017 23:55</td>\n",
       "      <td>23.35</td>\n",
       "      <td>18.79</td>\n",
       "      <td>86.1</td>\n",
       "      <td>29.0</td>\n",
       "      <td>23:55</td>\n",
       "    </tr>\n",
       "    <tr>\n",
       "      <th>3</th>\n",
       "      <td>BTU-1</td>\n",
       "      <td>2/17/2017 23:50</td>\n",
       "      <td>22.83</td>\n",
       "      <td>19.57</td>\n",
       "      <td>93.5</td>\n",
       "      <td>22.5</td>\n",
       "      <td>23:50</td>\n",
       "    </tr>\n",
       "    <tr>\n",
       "      <th>4</th>\n",
       "      <td>BTU-2</td>\n",
       "      <td>2/17/2017 23:50</td>\n",
       "      <td>23.32</td>\n",
       "      <td>19.45</td>\n",
       "      <td>81.5</td>\n",
       "      <td>23.2</td>\n",
       "      <td>23:50</td>\n",
       "    </tr>\n",
       "    <tr>\n",
       "      <th>5</th>\n",
       "      <td>BTU-1</td>\n",
       "      <td>2/17/2017 23:45</td>\n",
       "      <td>22.79</td>\n",
       "      <td>19.40</td>\n",
       "      <td>98.0</td>\n",
       "      <td>24.5</td>\n",
       "      <td>23:45</td>\n",
       "    </tr>\n",
       "  </tbody>\n",
       "</table>\n",
       "</div>"
      ],
      "text/plain": [
       "  Device Name             Date   CHWR   CHWS  Flow  Load   Time\n",
       "1       BTU-1  2/17/2017 23:55  21.80  18.69  96.0  22.0  23:55\n",
       "2       BTU-2  2/17/2017 23:55  23.35  18.79  86.1  29.0  23:55\n",
       "3       BTU-1  2/17/2017 23:50  22.83  19.57  93.5  22.5  23:50\n",
       "4       BTU-2  2/17/2017 23:50  23.32  19.45  81.5  23.2  23:50\n",
       "5       BTU-1  2/17/2017 23:45  22.79  19.40  98.0  24.5  23:45"
      ]
     },
     "execution_count": 57,
     "metadata": {},
     "output_type": "execute_result"
    }
   ],
   "source": [
    "# Making another column which contain only time using result of above operationa\n",
    "df1['Time']=df1.Date.str.slice(10,15)\n",
    "df1.head()"
   ]
  },
  {
   "cell_type": "markdown",
   "metadata": {},
   "source": [
    "##### Note:This is not the proper way of handling DateTime. Pandas (python has also) has seperate data and time format for this. ' pd.to_datetime' function converts DateTime column into date time format."
   ]
  },
  {
   "cell_type": "code",
   "execution_count": 58,
   "metadata": {},
   "outputs": [
    {
     "data": {
      "text/plain": [
       "Device Name            object\n",
       "Date           datetime64[ns]\n",
       "CHWR                  float64\n",
       "CHWS                  float64\n",
       "Flow                  float64\n",
       "Load                  float64\n",
       "Time                   object\n",
       "dtype: object"
      ]
     },
     "execution_count": 58,
     "metadata": {},
     "output_type": "execute_result"
    }
   ],
   "source": [
    "df1['Date']=pd.to_datetime(df1.Date)\n",
    "# First conveting  data type of Date colume from string to datatime.\n",
    "# and then assigning  it to the same column name.\n",
    "df1.dtypes"
   ]
  },
  {
   "cell_type": "markdown",
   "metadata": {},
   "source": [
    "* We can see --> Date column has been conveted to datetime data type."
   ]
  },
  {
   "cell_type": "code",
   "execution_count": 59,
   "metadata": {},
   "outputs": [],
   "source": [
    "# Deleting Time column\n",
    "del df1['Time']"
   ]
  },
  {
   "cell_type": "markdown",
   "metadata": {},
   "source": [
    "###### Now in datatime column we can apply standard methods of datetime data type as given below:"
   ]
  },
  {
   "cell_type": "code",
   "execution_count": 60,
   "metadata": {},
   "outputs": [
    {
     "data": {
      "text/plain": [
       "1      55\n",
       "2      55\n",
       "3      50\n",
       "4      50\n",
       "5      45\n",
       "       ..\n",
       "570    10\n",
       "571     5\n",
       "572     5\n",
       "573     0\n",
       "574     0\n",
       "Name: Date, Length: 560, dtype: int64"
      ]
     },
     "execution_count": 60,
     "metadata": {},
     "output_type": "execute_result"
    }
   ],
   "source": [
    "df1.Date.dt.minute # In place of minute we can use --> hour, dayofyear, weekday as required"
   ]
  },
  {
   "cell_type": "code",
   "execution_count": 61,
   "metadata": {},
   "outputs": [
    {
     "data": {
      "text/plain": [
       "1      23:55:00\n",
       "2      23:55:00\n",
       "3      23:50:00\n",
       "4      23:50:00\n",
       "5      23:45:00\n",
       "         ...   \n",
       "570    00:10:00\n",
       "571    00:05:00\n",
       "572    00:05:00\n",
       "573    00:00:00\n",
       "574    00:00:00\n",
       "Name: Date, Length: 560, dtype: object"
      ]
     },
     "execution_count": 61,
     "metadata": {},
     "output_type": "execute_result"
    }
   ],
   "source": [
    "df1.Date.dt.time # It slices all the time component from data and time"
   ]
  },
  {
   "cell_type": "code",
   "execution_count": 62,
   "metadata": {},
   "outputs": [
    {
     "data": {
      "text/plain": [
       "Timestamp('2017-02-17 23:55:00')"
      ]
     },
     "execution_count": 62,
     "metadata": {},
     "output_type": "execute_result"
    }
   ],
   "source": [
    "df1.Date.max()"
   ]
  },
  {
   "cell_type": "code",
   "execution_count": 63,
   "metadata": {},
   "outputs": [
    {
     "data": {
      "text/plain": [
       "Timestamp('2017-02-17 00:00:00')"
      ]
     },
     "execution_count": 63,
     "metadata": {},
     "output_type": "execute_result"
    }
   ],
   "source": [
    "df1.Date.min()"
   ]
  },
  {
   "cell_type": "code",
   "execution_count": 64,
   "metadata": {},
   "outputs": [
    {
     "data": {
      "text/plain": [
       "Timedelta('0 days 23:55:00')"
      ]
     },
     "execution_count": 64,
     "metadata": {},
     "output_type": "execute_result"
    }
   ],
   "source": [
    "Delta_T=df1.Date.max()-df1.Date.min()\n",
    "Delta_T"
   ]
  },
  {
   "cell_type": "markdown",
   "metadata": {},
   "source": [
    "* Now againg making a column named 'Time' which contain hour and minute."
   ]
  },
  {
   "cell_type": "code",
   "execution_count": 65,
   "metadata": {
    "scrolled": false
   },
   "outputs": [
    {
     "data": {
      "text/html": [
       "<div>\n",
       "<style scoped>\n",
       "    .dataframe tbody tr th:only-of-type {\n",
       "        vertical-align: middle;\n",
       "    }\n",
       "\n",
       "    .dataframe tbody tr th {\n",
       "        vertical-align: top;\n",
       "    }\n",
       "\n",
       "    .dataframe thead th {\n",
       "        text-align: right;\n",
       "    }\n",
       "</style>\n",
       "<table border=\"1\" class=\"dataframe\">\n",
       "  <thead>\n",
       "    <tr style=\"text-align: right;\">\n",
       "      <th></th>\n",
       "      <th>Device Name</th>\n",
       "      <th>Date</th>\n",
       "      <th>CHWR</th>\n",
       "      <th>CHWS</th>\n",
       "      <th>Flow</th>\n",
       "      <th>Load</th>\n",
       "      <th>Time</th>\n",
       "    </tr>\n",
       "  </thead>\n",
       "  <tbody>\n",
       "    <tr>\n",
       "      <th>1</th>\n",
       "      <td>BTU-1</td>\n",
       "      <td>2017-02-17 23:55:00</td>\n",
       "      <td>21.80</td>\n",
       "      <td>18.69</td>\n",
       "      <td>96.0</td>\n",
       "      <td>22.0</td>\n",
       "      <td>23:55</td>\n",
       "    </tr>\n",
       "    <tr>\n",
       "      <th>2</th>\n",
       "      <td>BTU-2</td>\n",
       "      <td>2017-02-17 23:55:00</td>\n",
       "      <td>23.35</td>\n",
       "      <td>18.79</td>\n",
       "      <td>86.1</td>\n",
       "      <td>29.0</td>\n",
       "      <td>23:55</td>\n",
       "    </tr>\n",
       "    <tr>\n",
       "      <th>3</th>\n",
       "      <td>BTU-1</td>\n",
       "      <td>2017-02-17 23:50:00</td>\n",
       "      <td>22.83</td>\n",
       "      <td>19.57</td>\n",
       "      <td>93.5</td>\n",
       "      <td>22.5</td>\n",
       "      <td>23:50</td>\n",
       "    </tr>\n",
       "    <tr>\n",
       "      <th>4</th>\n",
       "      <td>BTU-2</td>\n",
       "      <td>2017-02-17 23:50:00</td>\n",
       "      <td>23.32</td>\n",
       "      <td>19.45</td>\n",
       "      <td>81.5</td>\n",
       "      <td>23.2</td>\n",
       "      <td>23:50</td>\n",
       "    </tr>\n",
       "    <tr>\n",
       "      <th>5</th>\n",
       "      <td>BTU-1</td>\n",
       "      <td>2017-02-17 23:45:00</td>\n",
       "      <td>22.79</td>\n",
       "      <td>19.40</td>\n",
       "      <td>98.0</td>\n",
       "      <td>24.5</td>\n",
       "      <td>23:45</td>\n",
       "    </tr>\n",
       "  </tbody>\n",
       "</table>\n",
       "</div>"
      ],
      "text/plain": [
       "  Device Name                Date   CHWR   CHWS  Flow  Load    Time\n",
       "1       BTU-1 2017-02-17 23:55:00  21.80  18.69  96.0  22.0   23:55\n",
       "2       BTU-2 2017-02-17 23:55:00  23.35  18.79  86.1  29.0   23:55\n",
       "3       BTU-1 2017-02-17 23:50:00  22.83  19.57  93.5  22.5   23:50\n",
       "4       BTU-2 2017-02-17 23:50:00  23.32  19.45  81.5  23.2   23:50\n",
       "5       BTU-1 2017-02-17 23:45:00  22.79  19.40  98.0  24.5   23:45"
      ]
     },
     "execution_count": 65,
     "metadata": {},
     "output_type": "execute_result"
    }
   ],
   "source": [
    "df1['Time']=df1.Date.dt.strftime(' %H:%M')\n",
    "df1.head()"
   ]
  },
  {
   "cell_type": "markdown",
   "metadata": {},
   "source": [
    "### 11. Plotting with pandas"
   ]
  },
  {
   "cell_type": "code",
   "execution_count": 66,
   "metadata": {},
   "outputs": [
    {
     "data": {
      "text/html": [
       "<div>\n",
       "<style scoped>\n",
       "    .dataframe tbody tr th:only-of-type {\n",
       "        vertical-align: middle;\n",
       "    }\n",
       "\n",
       "    .dataframe tbody tr th {\n",
       "        vertical-align: top;\n",
       "    }\n",
       "\n",
       "    .dataframe thead th {\n",
       "        text-align: right;\n",
       "    }\n",
       "</style>\n",
       "<table border=\"1\" class=\"dataframe\">\n",
       "  <thead>\n",
       "    <tr style=\"text-align: right;\">\n",
       "      <th></th>\n",
       "      <th>Device Name</th>\n",
       "      <th>Date</th>\n",
       "      <th>CHWR</th>\n",
       "      <th>CHWS</th>\n",
       "      <th>Flow</th>\n",
       "      <th>Load</th>\n",
       "      <th>Time</th>\n",
       "    </tr>\n",
       "  </thead>\n",
       "  <tbody>\n",
       "    <tr>\n",
       "      <th>1</th>\n",
       "      <td>BTU-1</td>\n",
       "      <td>2017-02-17 23:55:00</td>\n",
       "      <td>21.80</td>\n",
       "      <td>18.69</td>\n",
       "      <td>96.0</td>\n",
       "      <td>22.0</td>\n",
       "      <td>23:55</td>\n",
       "    </tr>\n",
       "    <tr>\n",
       "      <th>3</th>\n",
       "      <td>BTU-1</td>\n",
       "      <td>2017-02-17 23:50:00</td>\n",
       "      <td>22.83</td>\n",
       "      <td>19.57</td>\n",
       "      <td>93.5</td>\n",
       "      <td>22.5</td>\n",
       "      <td>23:50</td>\n",
       "    </tr>\n",
       "    <tr>\n",
       "      <th>5</th>\n",
       "      <td>BTU-1</td>\n",
       "      <td>2017-02-17 23:45:00</td>\n",
       "      <td>22.79</td>\n",
       "      <td>19.40</td>\n",
       "      <td>98.0</td>\n",
       "      <td>24.5</td>\n",
       "      <td>23:45</td>\n",
       "    </tr>\n",
       "    <tr>\n",
       "      <th>7</th>\n",
       "      <td>BTU-1</td>\n",
       "      <td>2017-02-17 23:40:00</td>\n",
       "      <td>21.51</td>\n",
       "      <td>19.45</td>\n",
       "      <td>100.8</td>\n",
       "      <td>15.3</td>\n",
       "      <td>23:40</td>\n",
       "    </tr>\n",
       "    <tr>\n",
       "      <th>9</th>\n",
       "      <td>BTU-1</td>\n",
       "      <td>2017-02-17 23:35:00</td>\n",
       "      <td>22.54</td>\n",
       "      <td>19.04</td>\n",
       "      <td>134.5</td>\n",
       "      <td>34.7</td>\n",
       "      <td>23:35</td>\n",
       "    </tr>\n",
       "  </tbody>\n",
       "</table>\n",
       "</div>"
      ],
      "text/plain": [
       "  Device Name                Date   CHWR   CHWS   Flow  Load    Time\n",
       "1       BTU-1 2017-02-17 23:55:00  21.80  18.69   96.0  22.0   23:55\n",
       "3       BTU-1 2017-02-17 23:50:00  22.83  19.57   93.5  22.5   23:50\n",
       "5       BTU-1 2017-02-17 23:45:00  22.79  19.40   98.0  24.5   23:45\n",
       "7       BTU-1 2017-02-17 23:40:00  21.51  19.45  100.8  15.3   23:40\n",
       "9       BTU-1 2017-02-17 23:35:00  22.54  19.04  134.5  34.7   23:35"
      ]
     },
     "execution_count": 66,
     "metadata": {},
     "output_type": "execute_result"
    }
   ],
   "source": [
    "BTU1_Data=df1.loc[df1['Device Name']==\"BTU-1\"] # Slicing BTU-1 Data only\n",
    "BTU1_Data.head()"
   ]
  },
  {
   "cell_type": "markdown",
   "metadata": {},
   "source": [
    "* Plotting BTU-1 Data"
   ]
  },
  {
   "cell_type": "code",
   "execution_count": 67,
   "metadata": {
    "scrolled": false
   },
   "outputs": [
    {
     "data": {
      "image/png": "[encoded data removed]",
      "text/plain": [
       "<Figure size 1080x576 with 1 Axes>"
      ]
     },
     "metadata": {
      "needs_background": "light"
     },
     "output_type": "display_data"
    }
   ],
   "source": [
    "BTU1_Data.plot(x='Date',rot=10,y=['CHWR','CHWS'],fontsize=12,figsize=(15,8),grid=True,title='BTU-1 PLOT',)\n",
    "plt.ylabel('Temperature (C)',fontsize=12)\n",
    "\n",
    "#plt.savefig(r'C:\\Users\\Ramendra\\Desktop\\Data\\BTU-1_Plot.png', dpi=300) \n",
    "# For saving image pass path \n",
    "plt.show()"
   ]
  },
  {
   "cell_type": "markdown",
   "metadata": {},
   "source": [
    "* https://pandas.pydata.org/pandas-docs/version/0.23.4/generated/pandas.DataFrame.plot.html\n",
    "* Plotting BTU-2 Data"
   ]
  },
  {
   "cell_type": "code",
   "execution_count": 68,
   "metadata": {},
   "outputs": [
    {
     "data": {
      "image/png": "[encoded data removed]",
      "text/plain": [
       "<Figure size 1080x432 with 1 Axes>"
      ]
     },
     "metadata": {
      "needs_background": "light"
     },
     "output_type": "display_data"
    }
   ],
   "source": [
    "df1.loc[df1['Device Name']==\"BTU-2\"].plot(x='Date',rot=45,y=['CHWR','CHWS'],figsize=(15,6),grid=False)\n",
    "plt.ylabel('Temperature (C)')\n",
    "plt.title('BTU-2 PLOT')\n",
    "plt.show()"
   ]
  },
  {
   "cell_type": "markdown",
   "metadata": {},
   "source": [
    "### 12. Discretization and Binning"
   ]
  },
  {
   "cell_type": "code",
   "execution_count": 69,
   "metadata": {},
   "outputs": [
    {
     "data": {
      "text/html": [
       "<div>\n",
       "<style scoped>\n",
       "    .dataframe tbody tr th:only-of-type {\n",
       "        vertical-align: middle;\n",
       "    }\n",
       "\n",
       "    .dataframe tbody tr th {\n",
       "        vertical-align: top;\n",
       "    }\n",
       "\n",
       "    .dataframe thead th {\n",
       "        text-align: right;\n",
       "    }\n",
       "</style>\n",
       "<table border=\"1\" class=\"dataframe\">\n",
       "  <thead>\n",
       "    <tr style=\"text-align: right;\">\n",
       "      <th></th>\n",
       "      <th>Device Name</th>\n",
       "      <th>Date</th>\n",
       "      <th>CHWR</th>\n",
       "      <th>CHWS</th>\n",
       "      <th>Flow</th>\n",
       "      <th>Load</th>\n",
       "      <th>Time</th>\n",
       "    </tr>\n",
       "  </thead>\n",
       "  <tbody>\n",
       "    <tr>\n",
       "      <th>1</th>\n",
       "      <td>BTU-1</td>\n",
       "      <td>2017-02-17 23:55:00</td>\n",
       "      <td>21.80</td>\n",
       "      <td>18.69</td>\n",
       "      <td>96.0</td>\n",
       "      <td>22.0</td>\n",
       "      <td>23:55</td>\n",
       "    </tr>\n",
       "    <tr>\n",
       "      <th>2</th>\n",
       "      <td>BTU-2</td>\n",
       "      <td>2017-02-17 23:55:00</td>\n",
       "      <td>23.35</td>\n",
       "      <td>18.79</td>\n",
       "      <td>86.1</td>\n",
       "      <td>29.0</td>\n",
       "      <td>23:55</td>\n",
       "    </tr>\n",
       "    <tr>\n",
       "      <th>3</th>\n",
       "      <td>BTU-1</td>\n",
       "      <td>2017-02-17 23:50:00</td>\n",
       "      <td>22.83</td>\n",
       "      <td>19.57</td>\n",
       "      <td>93.5</td>\n",
       "      <td>22.5</td>\n",
       "      <td>23:50</td>\n",
       "    </tr>\n",
       "    <tr>\n",
       "      <th>4</th>\n",
       "      <td>BTU-2</td>\n",
       "      <td>2017-02-17 23:50:00</td>\n",
       "      <td>23.32</td>\n",
       "      <td>19.45</td>\n",
       "      <td>81.5</td>\n",
       "      <td>23.2</td>\n",
       "      <td>23:50</td>\n",
       "    </tr>\n",
       "    <tr>\n",
       "      <th>5</th>\n",
       "      <td>BTU-1</td>\n",
       "      <td>2017-02-17 23:45:00</td>\n",
       "      <td>22.79</td>\n",
       "      <td>19.40</td>\n",
       "      <td>98.0</td>\n",
       "      <td>24.5</td>\n",
       "      <td>23:45</td>\n",
       "    </tr>\n",
       "  </tbody>\n",
       "</table>\n",
       "</div>"
      ],
      "text/plain": [
       "  Device Name                Date   CHWR   CHWS  Flow  Load    Time\n",
       "1       BTU-1 2017-02-17 23:55:00  21.80  18.69  96.0  22.0   23:55\n",
       "2       BTU-2 2017-02-17 23:55:00  23.35  18.79  86.1  29.0   23:55\n",
       "3       BTU-1 2017-02-17 23:50:00  22.83  19.57  93.5  22.5   23:50\n",
       "4       BTU-2 2017-02-17 23:50:00  23.32  19.45  81.5  23.2   23:50\n",
       "5       BTU-1 2017-02-17 23:45:00  22.79  19.40  98.0  24.5   23:45"
      ]
     },
     "execution_count": 69,
     "metadata": {},
     "output_type": "execute_result"
    }
   ],
   "source": [
    "# Revisiting df1\n",
    "df1.head()"
   ]
  },
  {
   "cell_type": "code",
   "execution_count": 70,
   "metadata": {},
   "outputs": [],
   "source": [
    " cats=pd.cut(df1['Load'],3)# here first argument the data ,second is the number of bins\n",
    "    # It first sort the data then calculate--> Result=(maximum-minimum)/3.\n",
    "    # Result of above operation is added in minimum value --> this is the first bin \n",
    "    # Similary all 3 equal spaced bins are calculated by adding above result in last value of previous bin.\n",
    "    "
   ]
  },
  {
   "cell_type": "markdown",
   "metadata": {},
   "source": [
    "https://pandas.pydata.org/pandas-docs/stable/reference/api/pandas.cut.html"
   ]
  },
  {
   "cell_type": "code",
   "execution_count": 71,
   "metadata": {},
   "outputs": [
    {
     "data": {
      "text/plain": [
       "1      (18.8, 29.5]\n",
       "2      (18.8, 29.5]\n",
       "3      (18.8, 29.5]\n",
       "4      (18.8, 29.5]\n",
       "5      (18.8, 29.5]\n",
       "           ...     \n",
       "570    (18.8, 29.5]\n",
       "571    (18.8, 29.5]\n",
       "572    (18.8, 29.5]\n",
       "573    (18.8, 29.5]\n",
       "574    (18.8, 29.5]\n",
       "Name: Load, Length: 560, dtype: category\n",
       "Categories (3, interval[float64]): [(8.068, 18.8] < (18.8, 29.5] < (29.5, 40.2]]"
      ]
     },
     "execution_count": 71,
     "metadata": {},
     "output_type": "execute_result"
    }
   ],
   "source": [
    "cats # The result is showing index of each value and bin in which it lie"
   ]
  },
  {
   "cell_type": "code",
   "execution_count": 72,
   "metadata": {},
   "outputs": [
    {
     "data": {
      "text/plain": [
       "(18.8, 29.5]     519\n",
       "(29.5, 40.2]      26\n",
       "(8.068, 18.8]     15\n",
       "Name: Load, dtype: int64"
      ]
     },
     "execution_count": 72,
     "metadata": {},
     "output_type": "execute_result"
    }
   ],
   "source": [
    "pd.value_counts(cats)\n",
    "#The output is showing there are 519 entries in bin (18.8, 29.5] and 26 entries in bin (29.5, 40.2] and so on"
   ]
  },
  {
   "cell_type": "code",
   "execution_count": 73,
   "metadata": {},
   "outputs": [
    {
     "data": {
      "text/plain": [
       "(19, 30]    521\n",
       "(30, 41]     21\n",
       "(8, 19]      18\n",
       "Name: Load, dtype: int64"
      ]
     },
     "execution_count": 73,
     "metadata": {},
     "output_type": "execute_result"
    }
   ],
   "source": [
    "# we can specify our on bins as list  as given below:\n",
    "cats1=pd.cut(df1['Load'],[8,19,30,41])\n",
    "pd.value_counts(cats1)"
   ]
  },
  {
   "cell_type": "code",
   "execution_count": 74,
   "metadata": {},
   "outputs": [
    {
     "data": {
      "text/plain": [
       "Medium Load    521\n",
       "High Load       21\n",
       "Low load        18\n",
       "Name: Load, dtype: int64"
      ]
     },
     "execution_count": 74,
     "metadata": {},
     "output_type": "execute_result"
    }
   ],
   "source": [
    "# We can also name individual group\n",
    "bins=[8,19,30,41]\n",
    "group_name=['Low load','Medium Load','High Load']\n",
    "cats1=pd.cut(df1['Load'],bins,labels=group_name)\n",
    "pd.value_counts(cats1)"
   ]
  },
  {
   "cell_type": "code",
   "execution_count": 75,
   "metadata": {},
   "outputs": [
    {
     "data": {
      "text/plain": [
       "(24.0, 25.5]     144\n",
       "(8.099, 24.0]    141\n",
       "(25.5, 27.0]     139\n",
       "(27.0, 40.2]     136\n",
       "Name: Load, dtype: int64"
      ]
     },
     "execution_count": 75,
     "metadata": {},
     "output_type": "execute_result"
    }
   ],
   "source": [
    "cat_q=pd.qcut(df1['Load'],4) # This qcut bins the data based on Sample quantiles \n",
    "pd.value_counts(cat_q)"
   ]
  },
  {
   "cell_type": "markdown",
   "metadata": {},
   "source": [
    "### 13. Removing duplicates"
   ]
  },
  {
   "cell_type": "code",
   "execution_count": 76,
   "metadata": {},
   "outputs": [
    {
     "data": {
      "text/html": [
       "<div>\n",
       "<style scoped>\n",
       "    .dataframe tbody tr th:only-of-type {\n",
       "        vertical-align: middle;\n",
       "    }\n",
       "\n",
       "    .dataframe tbody tr th {\n",
       "        vertical-align: top;\n",
       "    }\n",
       "\n",
       "    .dataframe thead th {\n",
       "        text-align: right;\n",
       "    }\n",
       "</style>\n",
       "<table border=\"1\" class=\"dataframe\">\n",
       "  <thead>\n",
       "    <tr style=\"text-align: right;\">\n",
       "      <th></th>\n",
       "      <th>days</th>\n",
       "      <th>apple</th>\n",
       "      <th>mango</th>\n",
       "    </tr>\n",
       "  </thead>\n",
       "  <tbody>\n",
       "    <tr>\n",
       "      <th>0</th>\n",
       "      <td>Mon</td>\n",
       "      <td>3</td>\n",
       "      <td>2</td>\n",
       "    </tr>\n",
       "    <tr>\n",
       "      <th>1</th>\n",
       "      <td>Tue</td>\n",
       "      <td>5</td>\n",
       "      <td>7</td>\n",
       "    </tr>\n",
       "    <tr>\n",
       "      <th>2</th>\n",
       "      <td>Wed</td>\n",
       "      <td>1</td>\n",
       "      <td>4</td>\n",
       "    </tr>\n",
       "    <tr>\n",
       "      <th>3</th>\n",
       "      <td>Thu</td>\n",
       "      <td>2</td>\n",
       "      <td>5</td>\n",
       "    </tr>\n",
       "    <tr>\n",
       "      <th>4</th>\n",
       "      <td>Thu</td>\n",
       "      <td>2</td>\n",
       "      <td>5</td>\n",
       "    </tr>\n",
       "  </tbody>\n",
       "</table>\n",
       "</div>"
      ],
      "text/plain": [
       "  days  apple  mango\n",
       "0  Mon      3      2\n",
       "1  Tue      5      7\n",
       "2  Wed      1      4\n",
       "3  Thu      2      5\n",
       "4  Thu      2      5"
      ]
     },
     "execution_count": 76,
     "metadata": {},
     "output_type": "execute_result"
    }
   ],
   "source": [
    "dup_data=pd.DataFrame({'apple':[3,5,1,2,2],'mango':[2,7,4,5,5],'days':['Mon','Tue','Wed','Thu','Thu'] })\n",
    "dup_data=dup_data.reindex(columns=['days','apple','mango']) # rearranging the columns \n",
    "dup_data"
   ]
  },
  {
   "cell_type": "markdown",
   "metadata": {},
   "source": [
    "* We can see 3rd row is duplicated in 4rth row"
   ]
  },
  {
   "cell_type": "code",
   "execution_count": 77,
   "metadata": {},
   "outputs": [
    {
     "data": {
      "text/plain": [
       "0    False\n",
       "1    False\n",
       "2    False\n",
       "3    False\n",
       "4     True\n",
       "dtype: bool"
      ]
     },
     "execution_count": 77,
     "metadata": {},
     "output_type": "execute_result"
    }
   ],
   "source": [
    "dup_data.duplicated() # shows whether there is duplicate data or not.4rth row is considered as duplicated."
   ]
  },
  {
   "cell_type": "code",
   "execution_count": 78,
   "metadata": {},
   "outputs": [
    {
     "data": {
      "text/html": [
       "<div>\n",
       "<style scoped>\n",
       "    .dataframe tbody tr th:only-of-type {\n",
       "        vertical-align: middle;\n",
       "    }\n",
       "\n",
       "    .dataframe tbody tr th {\n",
       "        vertical-align: top;\n",
       "    }\n",
       "\n",
       "    .dataframe thead th {\n",
       "        text-align: right;\n",
       "    }\n",
       "</style>\n",
       "<table border=\"1\" class=\"dataframe\">\n",
       "  <thead>\n",
       "    <tr style=\"text-align: right;\">\n",
       "      <th></th>\n",
       "      <th>days</th>\n",
       "      <th>apple</th>\n",
       "      <th>mango</th>\n",
       "    </tr>\n",
       "  </thead>\n",
       "  <tbody>\n",
       "    <tr>\n",
       "      <th>0</th>\n",
       "      <td>Mon</td>\n",
       "      <td>3</td>\n",
       "      <td>2</td>\n",
       "    </tr>\n",
       "    <tr>\n",
       "      <th>1</th>\n",
       "      <td>Tue</td>\n",
       "      <td>5</td>\n",
       "      <td>7</td>\n",
       "    </tr>\n",
       "    <tr>\n",
       "      <th>2</th>\n",
       "      <td>Wed</td>\n",
       "      <td>1</td>\n",
       "      <td>4</td>\n",
       "    </tr>\n",
       "    <tr>\n",
       "      <th>3</th>\n",
       "      <td>Thu</td>\n",
       "      <td>2</td>\n",
       "      <td>5</td>\n",
       "    </tr>\n",
       "  </tbody>\n",
       "</table>\n",
       "</div>"
      ],
      "text/plain": [
       "  days  apple  mango\n",
       "0  Mon      3      2\n",
       "1  Tue      5      7\n",
       "2  Wed      1      4\n",
       "3  Thu      2      5"
      ]
     },
     "execution_count": 78,
     "metadata": {},
     "output_type": "execute_result"
    }
   ],
   "source": [
    "undup_data=dup_data.drop_duplicates()\n",
    "undup_data"
   ]
  },
  {
   "cell_type": "markdown",
   "metadata": {},
   "source": [
    "* Making Another data where only few columns has duplicated data."
   ]
  },
  {
   "cell_type": "code",
   "execution_count": 79,
   "metadata": {},
   "outputs": [
    {
     "data": {
      "text/html": [
       "<div>\n",
       "<style scoped>\n",
       "    .dataframe tbody tr th:only-of-type {\n",
       "        vertical-align: middle;\n",
       "    }\n",
       "\n",
       "    .dataframe tbody tr th {\n",
       "        vertical-align: top;\n",
       "    }\n",
       "\n",
       "    .dataframe thead th {\n",
       "        text-align: right;\n",
       "    }\n",
       "</style>\n",
       "<table border=\"1\" class=\"dataframe\">\n",
       "  <thead>\n",
       "    <tr style=\"text-align: right;\">\n",
       "      <th></th>\n",
       "      <th>days</th>\n",
       "      <th>apple</th>\n",
       "      <th>mango</th>\n",
       "    </tr>\n",
       "  </thead>\n",
       "  <tbody>\n",
       "    <tr>\n",
       "      <th>0</th>\n",
       "      <td>Mon</td>\n",
       "      <td>3</td>\n",
       "      <td>2</td>\n",
       "    </tr>\n",
       "    <tr>\n",
       "      <th>1</th>\n",
       "      <td>Tue</td>\n",
       "      <td>5</td>\n",
       "      <td>7</td>\n",
       "    </tr>\n",
       "    <tr>\n",
       "      <th>2</th>\n",
       "      <td>Wed</td>\n",
       "      <td>1</td>\n",
       "      <td>4</td>\n",
       "    </tr>\n",
       "    <tr>\n",
       "      <th>3</th>\n",
       "      <td>Thu</td>\n",
       "      <td>2</td>\n",
       "      <td>10</td>\n",
       "    </tr>\n",
       "    <tr>\n",
       "      <th>4</th>\n",
       "      <td>Thu</td>\n",
       "      <td>2</td>\n",
       "      <td>5</td>\n",
       "    </tr>\n",
       "  </tbody>\n",
       "</table>\n",
       "</div>"
      ],
      "text/plain": [
       "  days  apple  mango\n",
       "0  Mon      3      2\n",
       "1  Tue      5      7\n",
       "2  Wed      1      4\n",
       "3  Thu      2     10\n",
       "4  Thu      2      5"
      ]
     },
     "execution_count": 79,
     "metadata": {},
     "output_type": "execute_result"
    }
   ],
   "source": [
    "dup_data_1=pd.DataFrame({'apple':[3,5,1,2,2],'mango':[2,7,4,10,5],'days':['Mon','Tue','Wed','Thu','Thu'] })\n",
    "dup_data_1=dup_data_1.reindex(columns=['days','apple','mango']) # rearranging the columns \n",
    "dup_data_1"
   ]
  },
  {
   "cell_type": "code",
   "execution_count": 80,
   "metadata": {},
   "outputs": [
    {
     "data": {
      "text/html": [
       "<div>\n",
       "<style scoped>\n",
       "    .dataframe tbody tr th:only-of-type {\n",
       "        vertical-align: middle;\n",
       "    }\n",
       "\n",
       "    .dataframe tbody tr th {\n",
       "        vertical-align: top;\n",
       "    }\n",
       "\n",
       "    .dataframe thead th {\n",
       "        text-align: right;\n",
       "    }\n",
       "</style>\n",
       "<table border=\"1\" class=\"dataframe\">\n",
       "  <thead>\n",
       "    <tr style=\"text-align: right;\">\n",
       "      <th></th>\n",
       "      <th>days</th>\n",
       "      <th>apple</th>\n",
       "      <th>mango</th>\n",
       "    </tr>\n",
       "  </thead>\n",
       "  <tbody>\n",
       "    <tr>\n",
       "      <th>0</th>\n",
       "      <td>Mon</td>\n",
       "      <td>3</td>\n",
       "      <td>2</td>\n",
       "    </tr>\n",
       "    <tr>\n",
       "      <th>1</th>\n",
       "      <td>Tue</td>\n",
       "      <td>5</td>\n",
       "      <td>7</td>\n",
       "    </tr>\n",
       "    <tr>\n",
       "      <th>2</th>\n",
       "      <td>Wed</td>\n",
       "      <td>1</td>\n",
       "      <td>4</td>\n",
       "    </tr>\n",
       "    <tr>\n",
       "      <th>3</th>\n",
       "      <td>Thu</td>\n",
       "      <td>2</td>\n",
       "      <td>10</td>\n",
       "    </tr>\n",
       "  </tbody>\n",
       "</table>\n",
       "</div>"
      ],
      "text/plain": [
       "  days  apple  mango\n",
       "0  Mon      3      2\n",
       "1  Tue      5      7\n",
       "2  Wed      1      4\n",
       "3  Thu      2     10"
      ]
     },
     "execution_count": 80,
     "metadata": {},
     "output_type": "execute_result"
    }
   ],
   "source": [
    "und_data_1=dup_data_1.drop_duplicates(['days'])# If we want to filter duplicates based on only certain column.\n",
    "und_data_1 # "
   ]
  },
  {
   "cell_type": "code",
   "execution_count": 81,
   "metadata": {},
   "outputs": [
    {
     "data": {
      "text/html": [
       "<div>\n",
       "<style scoped>\n",
       "    .dataframe tbody tr th:only-of-type {\n",
       "        vertical-align: middle;\n",
       "    }\n",
       "\n",
       "    .dataframe tbody tr th {\n",
       "        vertical-align: top;\n",
       "    }\n",
       "\n",
       "    .dataframe thead th {\n",
       "        text-align: right;\n",
       "    }\n",
       "</style>\n",
       "<table border=\"1\" class=\"dataframe\">\n",
       "  <thead>\n",
       "    <tr style=\"text-align: right;\">\n",
       "      <th></th>\n",
       "      <th>days</th>\n",
       "      <th>apple</th>\n",
       "      <th>mango</th>\n",
       "    </tr>\n",
       "  </thead>\n",
       "  <tbody>\n",
       "    <tr>\n",
       "      <th>0</th>\n",
       "      <td>Mon</td>\n",
       "      <td>3</td>\n",
       "      <td>2</td>\n",
       "    </tr>\n",
       "    <tr>\n",
       "      <th>1</th>\n",
       "      <td>Tue</td>\n",
       "      <td>5</td>\n",
       "      <td>7</td>\n",
       "    </tr>\n",
       "    <tr>\n",
       "      <th>2</th>\n",
       "      <td>Wed</td>\n",
       "      <td>1</td>\n",
       "      <td>4</td>\n",
       "    </tr>\n",
       "    <tr>\n",
       "      <th>4</th>\n",
       "      <td>Thu</td>\n",
       "      <td>2</td>\n",
       "      <td>5</td>\n",
       "    </tr>\n",
       "  </tbody>\n",
       "</table>\n",
       "</div>"
      ],
      "text/plain": [
       "  days  apple  mango\n",
       "0  Mon      3      2\n",
       "1  Tue      5      7\n",
       "2  Wed      1      4\n",
       "4  Thu      2      5"
      ]
     },
     "execution_count": 81,
     "metadata": {},
     "output_type": "execute_result"
    }
   ],
   "source": [
    "# drop_duplicates by default keep the first and removes the duplicatd data after that.\n",
    "# Passing keep='last' will preserve the last one\n",
    "und_daata=dup_data.drop_duplicates(keep='last')\n",
    "und_daata\n"
   ]
  },
  {
   "cell_type": "markdown",
   "metadata": {},
   "source": [
    "### 14. More on  -->.replace "
   ]
  },
  {
   "cell_type": "code",
   "execution_count": 82,
   "metadata": {},
   "outputs": [
    {
     "data": {
      "text/html": [
       "<div>\n",
       "<style scoped>\n",
       "    .dataframe tbody tr th:only-of-type {\n",
       "        vertical-align: middle;\n",
       "    }\n",
       "\n",
       "    .dataframe tbody tr th {\n",
       "        vertical-align: top;\n",
       "    }\n",
       "\n",
       "    .dataframe thead th {\n",
       "        text-align: right;\n",
       "    }\n",
       "</style>\n",
       "<table border=\"1\" class=\"dataframe\">\n",
       "  <thead>\n",
       "    <tr style=\"text-align: right;\">\n",
       "      <th></th>\n",
       "      <th>days</th>\n",
       "      <th>apple</th>\n",
       "      <th>mango</th>\n",
       "    </tr>\n",
       "  </thead>\n",
       "  <tbody>\n",
       "    <tr>\n",
       "      <th>0</th>\n",
       "      <td>Mon</td>\n",
       "      <td>3</td>\n",
       "      <td>10</td>\n",
       "    </tr>\n",
       "    <tr>\n",
       "      <th>1</th>\n",
       "      <td>Tue</td>\n",
       "      <td>5</td>\n",
       "      <td>7</td>\n",
       "    </tr>\n",
       "    <tr>\n",
       "      <th>2</th>\n",
       "      <td>Wed</td>\n",
       "      <td>10</td>\n",
       "      <td>4</td>\n",
       "    </tr>\n",
       "    <tr>\n",
       "      <th>4</th>\n",
       "      <td>Thu</td>\n",
       "      <td>10</td>\n",
       "      <td>5</td>\n",
       "    </tr>\n",
       "  </tbody>\n",
       "</table>\n",
       "</div>"
      ],
      "text/plain": [
       "  days  apple  mango\n",
       "0  Mon      3     10\n",
       "1  Tue      5      7\n",
       "2  Wed     10      4\n",
       "4  Thu     10      5"
      ]
     },
     "execution_count": 82,
     "metadata": {},
     "output_type": "execute_result"
    }
   ],
   "source": [
    "und_daata.replace([1,2],10) # all entries having value 1 and 2 are replaced by 10 "
   ]
  },
  {
   "cell_type": "code",
   "execution_count": 83,
   "metadata": {},
   "outputs": [
    {
     "data": {
      "text/html": [
       "<div>\n",
       "<style scoped>\n",
       "    .dataframe tbody tr th:only-of-type {\n",
       "        vertical-align: middle;\n",
       "    }\n",
       "\n",
       "    .dataframe tbody tr th {\n",
       "        vertical-align: top;\n",
       "    }\n",
       "\n",
       "    .dataframe thead th {\n",
       "        text-align: right;\n",
       "    }\n",
       "</style>\n",
       "<table border=\"1\" class=\"dataframe\">\n",
       "  <thead>\n",
       "    <tr style=\"text-align: right;\">\n",
       "      <th></th>\n",
       "      <th>days</th>\n",
       "      <th>apple</th>\n",
       "      <th>mango</th>\n",
       "    </tr>\n",
       "  </thead>\n",
       "  <tbody>\n",
       "    <tr>\n",
       "      <th>0</th>\n",
       "      <td>Mon</td>\n",
       "      <td>3.0</td>\n",
       "      <td>0.1</td>\n",
       "    </tr>\n",
       "    <tr>\n",
       "      <th>1</th>\n",
       "      <td>Tue</td>\n",
       "      <td>5.0</td>\n",
       "      <td>7.0</td>\n",
       "    </tr>\n",
       "    <tr>\n",
       "      <th>2</th>\n",
       "      <td>Wed</td>\n",
       "      <td>10.0</td>\n",
       "      <td>4.0</td>\n",
       "    </tr>\n",
       "    <tr>\n",
       "      <th>4</th>\n",
       "      <td>Thu</td>\n",
       "      <td>0.1</td>\n",
       "      <td>5.0</td>\n",
       "    </tr>\n",
       "  </tbody>\n",
       "</table>\n",
       "</div>"
      ],
      "text/plain": [
       "  days  apple  mango\n",
       "0  Mon    3.0    0.1\n",
       "1  Tue    5.0    7.0\n",
       "2  Wed   10.0    4.0\n",
       "4  Thu    0.1    5.0"
      ]
     },
     "execution_count": 83,
     "metadata": {},
     "output_type": "execute_result"
    }
   ],
   "source": [
    "und_daata.replace([1,2],[10,0.1])"
   ]
  },
  {
   "cell_type": "code",
   "execution_count": 84,
   "metadata": {},
   "outputs": [
    {
     "data": {
      "text/html": [
       "<div>\n",
       "<style scoped>\n",
       "    .dataframe tbody tr th:only-of-type {\n",
       "        vertical-align: middle;\n",
       "    }\n",
       "\n",
       "    .dataframe tbody tr th {\n",
       "        vertical-align: top;\n",
       "    }\n",
       "\n",
       "    .dataframe thead th {\n",
       "        text-align: right;\n",
       "    }\n",
       "</style>\n",
       "<table border=\"1\" class=\"dataframe\">\n",
       "  <thead>\n",
       "    <tr style=\"text-align: right;\">\n",
       "      <th></th>\n",
       "      <th>days</th>\n",
       "      <th>apple</th>\n",
       "      <th>mango</th>\n",
       "    </tr>\n",
       "  </thead>\n",
       "  <tbody>\n",
       "    <tr>\n",
       "      <th>0</th>\n",
       "      <td>Mon</td>\n",
       "      <td>30</td>\n",
       "      <td>20</td>\n",
       "    </tr>\n",
       "    <tr>\n",
       "      <th>1</th>\n",
       "      <td>Tue</td>\n",
       "      <td>50</td>\n",
       "      <td>70</td>\n",
       "    </tr>\n",
       "    <tr>\n",
       "      <th>2</th>\n",
       "      <td>Wed</td>\n",
       "      <td>10</td>\n",
       "      <td>40</td>\n",
       "    </tr>\n",
       "    <tr>\n",
       "      <th>4</th>\n",
       "      <td>Thu</td>\n",
       "      <td>20</td>\n",
       "      <td>50</td>\n",
       "    </tr>\n",
       "  </tbody>\n",
       "</table>\n",
       "</div>"
      ],
      "text/plain": [
       "  days  apple  mango\n",
       "0  Mon     30     20\n",
       "1  Tue     50     70\n",
       "2  Wed     10     40\n",
       "4  Thu     20     50"
      ]
     },
     "execution_count": 84,
     "metadata": {},
     "output_type": "execute_result"
    }
   ],
   "source": [
    "# Even a dictionary can be passed: in .replace()\n",
    "und_daata.replace({1:10,2:20,3:30,5:50,4:40,7:70})"
   ]
  },
  {
   "cell_type": "code",
   "execution_count": 85,
   "metadata": {},
   "outputs": [
    {
     "data": {
      "text/html": [
       "<div>\n",
       "<style scoped>\n",
       "    .dataframe tbody tr th:only-of-type {\n",
       "        vertical-align: middle;\n",
       "    }\n",
       "\n",
       "    .dataframe tbody tr th {\n",
       "        vertical-align: top;\n",
       "    }\n",
       "\n",
       "    .dataframe thead th {\n",
       "        text-align: right;\n",
       "    }\n",
       "</style>\n",
       "<table border=\"1\" class=\"dataframe\">\n",
       "  <thead>\n",
       "    <tr style=\"text-align: right;\">\n",
       "      <th></th>\n",
       "      <th>Device Name</th>\n",
       "      <th>Date</th>\n",
       "      <th>CHWR</th>\n",
       "      <th>CHWS</th>\n",
       "      <th>Flow</th>\n",
       "      <th>Load</th>\n",
       "    </tr>\n",
       "  </thead>\n",
       "  <tbody>\n",
       "    <tr>\n",
       "      <th>1</th>\n",
       "      <td>BTU-1</td>\n",
       "      <td>2/17/2017 23:55</td>\n",
       "      <td>21.8</td>\n",
       "      <td>18.69</td>\n",
       "      <td>96</td>\n",
       "      <td>22</td>\n",
       "    </tr>\n",
       "    <tr>\n",
       "      <th>2</th>\n",
       "      <td>BTU-2</td>\n",
       "      <td>2/17/2017 23:55</td>\n",
       "      <td>23.35</td>\n",
       "      <td>18.79</td>\n",
       "      <td>86.1</td>\n",
       "      <td>29</td>\n",
       "    </tr>\n",
       "    <tr>\n",
       "      <th>3</th>\n",
       "      <td>BTU-1</td>\n",
       "      <td>2/17/2017 23:50</td>\n",
       "      <td>22.83</td>\n",
       "      <td>19.57</td>\n",
       "      <td>93.5</td>\n",
       "      <td>22.5</td>\n",
       "    </tr>\n",
       "    <tr>\n",
       "      <th>4</th>\n",
       "      <td>BTU-2</td>\n",
       "      <td>2/17/2017 23:50</td>\n",
       "      <td>23.32</td>\n",
       "      <td>19.45</td>\n",
       "      <td>81.5</td>\n",
       "      <td>23.2</td>\n",
       "    </tr>\n",
       "    <tr>\n",
       "      <th>5</th>\n",
       "      <td>BTU-1</td>\n",
       "      <td>2/17/2017 23:45</td>\n",
       "      <td>22.79</td>\n",
       "      <td>19.4</td>\n",
       "      <td>98</td>\n",
       "      <td>24.5</td>\n",
       "    </tr>\n",
       "    <tr>\n",
       "      <th>...</th>\n",
       "      <td>...</td>\n",
       "      <td>...</td>\n",
       "      <td>...</td>\n",
       "      <td>...</td>\n",
       "      <td>...</td>\n",
       "      <td>...</td>\n",
       "    </tr>\n",
       "    <tr>\n",
       "      <th>570</th>\n",
       "      <td>BTU-2</td>\n",
       "      <td>2/17/2017 0:10</td>\n",
       "      <td>22.64</td>\n",
       "      <td>18.75</td>\n",
       "      <td>94.9</td>\n",
       "      <td>27.2</td>\n",
       "    </tr>\n",
       "    <tr>\n",
       "      <th>571</th>\n",
       "      <td>BTU-1</td>\n",
       "      <td>2/17/2017 0:05</td>\n",
       "      <td>22.1</td>\n",
       "      <td>18.79</td>\n",
       "      <td>112.4</td>\n",
       "      <td>27.4</td>\n",
       "    </tr>\n",
       "    <tr>\n",
       "      <th>572</th>\n",
       "      <td>BTU-2</td>\n",
       "      <td>2/17/2017 0:05</td>\n",
       "      <td>22.62</td>\n",
       "      <td>18.79</td>\n",
       "      <td>95.7</td>\n",
       "      <td>27</td>\n",
       "    </tr>\n",
       "    <tr>\n",
       "      <th>573</th>\n",
       "      <td>BTU-1</td>\n",
       "      <td>2/17/2017 0:00</td>\n",
       "      <td>21.97</td>\n",
       "      <td>18.79</td>\n",
       "      <td>111.2</td>\n",
       "      <td>26</td>\n",
       "    </tr>\n",
       "    <tr>\n",
       "      <th>574</th>\n",
       "      <td>BTU-2</td>\n",
       "      <td>2/17/2017 0:00</td>\n",
       "      <td>22.7</td>\n",
       "      <td>18.73</td>\n",
       "      <td>94.9</td>\n",
       "      <td>27.8</td>\n",
       "    </tr>\n",
       "  </tbody>\n",
       "</table>\n",
       "<p>574 rows × 6 columns</p>\n",
       "</div>"
      ],
      "text/plain": [
       "    Device Name             Date   CHWR   CHWS   Flow  Load\n",
       "1         BTU-1  2/17/2017 23:55   21.8  18.69     96    22\n",
       "2         BTU-2  2/17/2017 23:55  23.35  18.79   86.1    29\n",
       "3         BTU-1  2/17/2017 23:50  22.83  19.57   93.5  22.5\n",
       "4         BTU-2  2/17/2017 23:50  23.32  19.45   81.5  23.2\n",
       "5         BTU-1  2/17/2017 23:45  22.79   19.4     98  24.5\n",
       "..          ...              ...    ...    ...    ...   ...\n",
       "570       BTU-2   2/17/2017 0:10  22.64  18.75   94.9  27.2\n",
       "571       BTU-1   2/17/2017 0:05   22.1  18.79  112.4  27.4\n",
       "572       BTU-2   2/17/2017 0:05  22.62  18.79   95.7    27\n",
       "573       BTU-1   2/17/2017 0:00  21.97  18.79  111.2    26\n",
       "574       BTU-2   2/17/2017 0:00   22.7  18.73   94.9  27.8\n",
       "\n",
       "[574 rows x 6 columns]"
      ]
     },
     "execution_count": 85,
     "metadata": {},
     "output_type": "execute_result"
    }
   ],
   "source": [
    "## Revisting the data used intitially\n",
    "data"
   ]
  },
  {
   "cell_type": "code",
   "execution_count": 86,
   "metadata": {},
   "outputs": [
    {
     "data": {
      "text/html": [
       "<div>\n",
       "<style scoped>\n",
       "    .dataframe tbody tr th:only-of-type {\n",
       "        vertical-align: middle;\n",
       "    }\n",
       "\n",
       "    .dataframe tbody tr th {\n",
       "        vertical-align: top;\n",
       "    }\n",
       "\n",
       "    .dataframe thead th {\n",
       "        text-align: right;\n",
       "    }\n",
       "</style>\n",
       "<table border=\"1\" class=\"dataframe\">\n",
       "  <thead>\n",
       "    <tr style=\"text-align: right;\">\n",
       "      <th></th>\n",
       "      <th>Device Name</th>\n",
       "      <th>Date</th>\n",
       "      <th>CHWR</th>\n",
       "      <th>CHWS</th>\n",
       "      <th>Flow</th>\n",
       "      <th>Load</th>\n",
       "    </tr>\n",
       "  </thead>\n",
       "  <tbody>\n",
       "    <tr>\n",
       "      <th>1</th>\n",
       "      <td>BTU-1</td>\n",
       "      <td>2/17/2017 23:55</td>\n",
       "      <td>21.8</td>\n",
       "      <td>18.69</td>\n",
       "      <td>96</td>\n",
       "      <td>22</td>\n",
       "    </tr>\n",
       "    <tr>\n",
       "      <th>2</th>\n",
       "      <td>BTU-2</td>\n",
       "      <td>2/17/2017 23:55</td>\n",
       "      <td>23.35</td>\n",
       "      <td>18.79</td>\n",
       "      <td>86.1</td>\n",
       "      <td>29</td>\n",
       "    </tr>\n",
       "    <tr>\n",
       "      <th>3</th>\n",
       "      <td>BTU-1</td>\n",
       "      <td>2/17/2017 23:50</td>\n",
       "      <td>22.83</td>\n",
       "      <td>19.57</td>\n",
       "      <td>93.5</td>\n",
       "      <td>22.5</td>\n",
       "    </tr>\n",
       "    <tr>\n",
       "      <th>4</th>\n",
       "      <td>BTU-2</td>\n",
       "      <td>2/17/2017 23:50</td>\n",
       "      <td>23.32</td>\n",
       "      <td>19.45</td>\n",
       "      <td>81.5</td>\n",
       "      <td>23.2</td>\n",
       "    </tr>\n",
       "    <tr>\n",
       "      <th>5</th>\n",
       "      <td>BTU-1</td>\n",
       "      <td>2/17/2017 23:45</td>\n",
       "      <td>22.79</td>\n",
       "      <td>19.4</td>\n",
       "      <td>98</td>\n",
       "      <td>24.5</td>\n",
       "    </tr>\n",
       "    <tr>\n",
       "      <th>...</th>\n",
       "      <td>...</td>\n",
       "      <td>...</td>\n",
       "      <td>...</td>\n",
       "      <td>...</td>\n",
       "      <td>...</td>\n",
       "      <td>...</td>\n",
       "    </tr>\n",
       "    <tr>\n",
       "      <th>570</th>\n",
       "      <td>BTU-2</td>\n",
       "      <td>2/17/2017 0:10</td>\n",
       "      <td>22.64</td>\n",
       "      <td>18.75</td>\n",
       "      <td>94.9</td>\n",
       "      <td>27.2</td>\n",
       "    </tr>\n",
       "    <tr>\n",
       "      <th>571</th>\n",
       "      <td>BTU-1</td>\n",
       "      <td>2/17/2017 0:05</td>\n",
       "      <td>22.1</td>\n",
       "      <td>18.79</td>\n",
       "      <td>112.4</td>\n",
       "      <td>27.4</td>\n",
       "    </tr>\n",
       "    <tr>\n",
       "      <th>572</th>\n",
       "      <td>BTU-2</td>\n",
       "      <td>2/17/2017 0:05</td>\n",
       "      <td>22.62</td>\n",
       "      <td>18.79</td>\n",
       "      <td>95.7</td>\n",
       "      <td>27</td>\n",
       "    </tr>\n",
       "    <tr>\n",
       "      <th>573</th>\n",
       "      <td>BTU-1</td>\n",
       "      <td>2/17/2017 0:00</td>\n",
       "      <td>21.97</td>\n",
       "      <td>18.79</td>\n",
       "      <td>111.2</td>\n",
       "      <td>26</td>\n",
       "    </tr>\n",
       "    <tr>\n",
       "      <th>574</th>\n",
       "      <td>BTU-2</td>\n",
       "      <td>2/17/2017 0:00</td>\n",
       "      <td>22.7</td>\n",
       "      <td>18.73</td>\n",
       "      <td>94.9</td>\n",
       "      <td>27.8</td>\n",
       "    </tr>\n",
       "  </tbody>\n",
       "</table>\n",
       "<p>574 rows × 6 columns</p>\n",
       "</div>"
      ],
      "text/plain": [
       "    Device Name             Date   CHWR   CHWS   Flow  Load\n",
       "1         BTU-1  2/17/2017 23:55   21.8  18.69     96    22\n",
       "2         BTU-2  2/17/2017 23:55  23.35  18.79   86.1    29\n",
       "3         BTU-1  2/17/2017 23:50  22.83  19.57   93.5  22.5\n",
       "4         BTU-2  2/17/2017 23:50  23.32  19.45   81.5  23.2\n",
       "5         BTU-1  2/17/2017 23:45  22.79   19.4     98  24.5\n",
       "..          ...              ...    ...    ...    ...   ...\n",
       "570       BTU-2   2/17/2017 0:10  22.64  18.75   94.9  27.2\n",
       "571       BTU-1   2/17/2017 0:05   22.1  18.79  112.4  27.4\n",
       "572       BTU-2   2/17/2017 0:05  22.62  18.79   95.7    27\n",
       "573       BTU-1   2/17/2017 0:00  21.97  18.79  111.2    26\n",
       "574       BTU-2   2/17/2017 0:00   22.7  18.73   94.9  27.8\n",
       "\n",
       "[574 rows x 6 columns]"
      ]
     },
     "execution_count": 86,
     "metadata": {},
     "output_type": "execute_result"
    }
   ],
   "source": [
    "data.replace('--',np.nan) # This simply replace all the '--' with NaN.So simple"
   ]
  },
  {
   "cell_type": "markdown",
   "metadata": {},
   "source": [
    "### 15. Few Arguments to know while using pd.read_csv()\n",
    "* Replacing entries,that can't be converted into numerical, with NaN and changing the specific column dtypes can be done while data is loaded using pd.read_csv.\n",
    "* But for this we have to know all the entries on each column that can't be converted into numerical.\n",
    "* In this case we know: 2nd, 3rd, 4rth and 5th column contaion following entries.\n",
    "{2: ['--'], 3: ['hjkhk', '--'], 4: ['&', '##', '--'], 5: ['--']}\n",
    "\n",
    "* pd.read_csv: It has many other arguments like skiprows, na_values, dtypes as given below :\n",
    "* This one line of code can reduce lot of pain. We have skip the first row from the original csv file and thus second row wil appear as the zeroth row, and thus column name is changed.WOW!!!! See the code below (line number 159).\n",
    "* In 'skiprows' : We have passed 0, so first row will be skipped and second row automaically becomes the colum header.In csv file  we can see that in second row we have first and second cells are blank, thus they appear as 'Unnamed:0' and 'Unnamed:1' being column header.\n",
    "* In 'na_values' : we have passed dictionary, where keys are the name of columns and values are list of characters inside that column which can not be conveted into numeric.It converts all those entries into NaN at one go.\n",
    "* finally, in 'dtype' : we have passed dictionary, where keys are the name of columns and values are data types into which we want to converts those columns."
   ]
  },
  {
   "cell_type": "markdown",
   "metadata": {},
   "source": [
    "https://pandas.pydata.org/pandas-docs/stable/reference/api/pandas.read_csv.html"
   ]
  },
  {
   "cell_type": "code",
   "execution_count": 87,
   "metadata": {},
   "outputs": [
    {
     "data": {
      "text/html": [
       "<div>\n",
       "<style scoped>\n",
       "    .dataframe tbody tr th:only-of-type {\n",
       "        vertical-align: middle;\n",
       "    }\n",
       "\n",
       "    .dataframe tbody tr th {\n",
       "        vertical-align: top;\n",
       "    }\n",
       "\n",
       "    .dataframe thead th {\n",
       "        text-align: right;\n",
       "    }\n",
       "</style>\n",
       "<table border=\"1\" class=\"dataframe\">\n",
       "  <thead>\n",
       "    <tr style=\"text-align: right;\">\n",
       "      <th></th>\n",
       "      <th>Unnamed: 0</th>\n",
       "      <th>Unnamed: 1</th>\n",
       "      <th>CHWR</th>\n",
       "      <th>CHWS</th>\n",
       "      <th>Flow</th>\n",
       "      <th>Load</th>\n",
       "    </tr>\n",
       "  </thead>\n",
       "  <tbody>\n",
       "    <tr>\n",
       "      <th>0</th>\n",
       "      <td>BTU-1</td>\n",
       "      <td>2/17/2017 23:55</td>\n",
       "      <td>21.80</td>\n",
       "      <td>18.69</td>\n",
       "      <td>96.0</td>\n",
       "      <td>22.0</td>\n",
       "    </tr>\n",
       "    <tr>\n",
       "      <th>1</th>\n",
       "      <td>BTU-2</td>\n",
       "      <td>2/17/2017 23:55</td>\n",
       "      <td>23.35</td>\n",
       "      <td>18.79</td>\n",
       "      <td>86.1</td>\n",
       "      <td>29.0</td>\n",
       "    </tr>\n",
       "    <tr>\n",
       "      <th>2</th>\n",
       "      <td>BTU-1</td>\n",
       "      <td>2/17/2017 23:50</td>\n",
       "      <td>22.83</td>\n",
       "      <td>19.57</td>\n",
       "      <td>93.5</td>\n",
       "      <td>22.5</td>\n",
       "    </tr>\n",
       "    <tr>\n",
       "      <th>3</th>\n",
       "      <td>BTU-2</td>\n",
       "      <td>2/17/2017 23:50</td>\n",
       "      <td>23.32</td>\n",
       "      <td>19.45</td>\n",
       "      <td>81.5</td>\n",
       "      <td>23.2</td>\n",
       "    </tr>\n",
       "    <tr>\n",
       "      <th>4</th>\n",
       "      <td>BTU-1</td>\n",
       "      <td>2/17/2017 23:45</td>\n",
       "      <td>22.79</td>\n",
       "      <td>19.40</td>\n",
       "      <td>98.0</td>\n",
       "      <td>24.5</td>\n",
       "    </tr>\n",
       "  </tbody>\n",
       "</table>\n",
       "</div>"
      ],
      "text/plain": [
       "  Unnamed: 0       Unnamed: 1   CHWR   CHWS  Flow  Load\n",
       "0      BTU-1  2/17/2017 23:55  21.80  18.69  96.0  22.0\n",
       "1      BTU-2  2/17/2017 23:55  23.35  18.79  86.1  29.0\n",
       "2      BTU-1  2/17/2017 23:50  22.83  19.57  93.5  22.5\n",
       "3      BTU-2  2/17/2017 23:50  23.32  19.45  81.5  23.2\n",
       "4      BTU-1  2/17/2017 23:45  22.79  19.40  98.0  24.5"
      ]
     },
     "execution_count": 87,
     "metadata": {},
     "output_type": "execute_result"
    }
   ],
   "source": [
    "data1=pd.read_csv('BTU.csv',skiprows=[0],na_values={'CHWR':['--'],'CHWS':['hjkhk','--'],'Flow':['&', '##','--'],'Load':['--']}, dtype={'CHWR':float,'CHWS':float,'Flow':float,'TR':float})\n",
    "data1.head()"
   ]
  },
  {
   "cell_type": "code",
   "execution_count": 88,
   "metadata": {},
   "outputs": [
    {
     "data": {
      "text/plain": [
       "Unnamed: 0     0\n",
       "Unnamed: 1     0\n",
       "CHWR           8\n",
       "CHWS          11\n",
       "Flow          10\n",
       "Load           9\n",
       "dtype: int64"
      ]
     },
     "execution_count": 88,
     "metadata": {},
     "output_type": "execute_result"
    }
   ],
   "source": [
    "data1.isnull().sum()"
   ]
  },
  {
   "cell_type": "code",
   "execution_count": 89,
   "metadata": {},
   "outputs": [
    {
     "data": {
      "text/plain": [
       "Unnamed: 0     object\n",
       "Unnamed: 1     object\n",
       "CHWR          float64\n",
       "CHWS          float64\n",
       "Flow          float64\n",
       "Load          float64\n",
       "dtype: object"
      ]
     },
     "execution_count": 89,
     "metadata": {},
     "output_type": "execute_result"
    }
   ],
   "source": [
    "data1.dtypes"
   ]
  },
  {
   "cell_type": "markdown",
   "metadata": {},
   "source": [
    "#### This much for this module. Detecting outliers and removing them will be covered in coming modules.\n",
    "#### Feel Free to Share and Distribute.\n",
    "#### Don't forget to follow me.\n",
    "* https://github.com/Rami-RK/Python_Starter\n",
    "*  https://www.linkedin.com/in/ramendra-kumar-57334478"
   ]
  }
 ],
 "metadata": {
  "kernelspec": {
   "display_name": "Python 3",
   "language": "python",
   "name": "python3"
  },
  "language_info": {
   "codemirror_mode": {
    "name": "ipython",
    "version": 3
   },
   "file_extension": ".py",
   "mimetype": "text/x-python",
   "name": "python",
   "nbconvert_exporter": "python",
   "pygments_lexer": "ipython3",
   "version": "3.7.1"
  }
 },
 "nbformat": 4,
 "nbformat_minor": 2
}
