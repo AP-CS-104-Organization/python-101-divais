{
 "cells": [
  {
   "cell_type": "markdown",
   "metadata": {},
   "source": [
    "## NumPy Starter"
   ]
  },
  {
   "cell_type": "code",
   "execution_count": 1,
   "metadata": {},
   "outputs": [
    {
     "data": {
      "text/plain": [
       "'1.19.1'"
      ]
     },
     "execution_count": 1,
     "metadata": {},
     "output_type": "execute_result"
    }
   ],
   "source": [
    "import numpy as np  # Calling or importing numpy library\n",
    "np.__version__      # WE can check version of numpy"
   ]
  },
  {
   "cell_type": "markdown",
   "metadata": {},
   "source": [
    "#### Creating 1-Dimensional Array"
   ]
  },
  {
   "cell_type": "code",
   "execution_count": null,
   "metadata": {},
   "outputs": [],
   "source": [
    "a1=np.array([1,2,3,4,5,6]) # It is just like a list, coma seperated sequence of numbers or string or any other data type.\n",
    "# Notice Parenthesis after np.array and single openning square bracket and closing square brecket\n",
    "print(a1) # printing the array\n",
    "print(a1.shape)    # In 1-D array, shape gives counting of number of elements in forms of tuple here-->(6,)\n",
    "print(a1.ndim)     # It gives dimension of array , here it is 1D.\n",
    "print(np.size(a1)) # size always gives total number of elements in any array\n",
    "print(len(a1))     #  In 1D it gives counting of number of elements in array\n",
    "print(type(a1))    # It gives type of data structure, it is an object of class numpy ndarray .\n",
    "a1.dtype           # it gives type of data stored in array.For printing last variable we dont have to write print explicitly."
   ]
  },
  {
   "cell_type": "markdown",
   "metadata": {},
   "source": [
    "#### Creating 2-Dimensional Array"
   ]
  },
  {
   "cell_type": "code",
   "execution_count": null,
   "metadata": {},
   "outputs": [],
   "source": [
    "a2=np.array([[1,2,3],[4,5,6],[7,8,9],[10,11,12]]) \n",
    "# Notice there are multiple (here 4) openning & closing square brecket inside first and last openning & closing square bracket.\n",
    "# Each square bracket represents a row and each coma seperated number represents a column.\n",
    "print(a2,'\\n') # printing the array a2.\n",
    "print(a2.shape)    # In 2-D array, shape gives counting of number of rows and columns in forms of tuple(4 rows and 3 columns).\n",
    "print(a2.ndim)     # It gives dimension of array , here it is 2D.\n",
    "print(np.size(a2)) # size always gives total number of elements in any array.\n",
    "print(len(a2))     #  In 2D it gives counting of number of rows present in an array.\n",
    "print(type(a2))    # It gives type of data structure, it is an object of class numpy ndarray .\n",
    "a2.dtype           # it gives type of data stored in array"
   ]
  },
  {
   "cell_type": "markdown",
   "metadata": {},
   "source": [
    "### NOTE: In numpy, 1- Dimensional Array has no concept of rows and column, it is just a sequence. Though, 1D array can be conveted into 2D."
   ]
  },
  {
   "cell_type": "code",
   "execution_count": null,
   "metadata": {},
   "outputs": [],
   "source": [
    "ar1 = np.arange(12) # It generates 1D array.\n",
    "# In  --> arange--> 'a' for  array  nad 'range' is core python's--> range(start, end, increment/decrement)\n",
    "ar1 # for printing last variable we dont have to write print explicitly in Jupyter.\n",
    "# Here default start point is zero, default increment is 1 and end value is 12 which is not included as in range function.\n"
   ]
  },
  {
   "cell_type": "code",
   "execution_count": null,
   "metadata": {},
   "outputs": [],
   "source": [
    "ar1.shape # .shape > gives the shape of array ( row and column length)\n",
    "# ar1 is 1-Darray,thus it gives only counting of number of elements as there is no concept of rows and columns in 1D array"
   ]
  },
  {
   "cell_type": "code",
   "execution_count": null,
   "metadata": {},
   "outputs": [],
   "source": [
    "ar1.reshape(3,4) # Converts ar1 into two dimensional array of size : 3 rows and 4 columns.\n",
    "# Note number of elements must be same while reshaping, 3X4=12, counting of elements of reshaped array=initial array"
   ]
  },
  {
   "cell_type": "code",
   "execution_count": null,
   "metadata": {},
   "outputs": [],
   "source": [
    "ar1.reshape(4,3) # This is also possible"
   ]
  },
  {
   "cell_type": "code",
   "execution_count": null,
   "metadata": {},
   "outputs": [],
   "source": [
    "ar1.reshape(2,6)# This is also possible"
   ]
  },
  {
   "cell_type": "code",
   "execution_count": null,
   "metadata": {},
   "outputs": [],
   "source": [
    "ar1.reshape(6,2)# This is also possible"
   ]
  },
  {
   "cell_type": "code",
   "execution_count": null,
   "metadata": {},
   "outputs": [],
   "source": [
    "ar1_reshaped_r=ar1.reshape(1,12) # This is alos possible, Note it , a tricy one.\n",
    "# Converts ar1 into two dimensional array of size 1 row and 12 columns\n",
    "ar1_reshaped_r"
   ]
  },
  {
   "cell_type": "code",
   "execution_count": null,
   "metadata": {},
   "outputs": [],
   "source": [
    "# compare ar1 and ar1_reshaped_r\n",
    "print(ar1,'\\n') #1D Array, just a sequence of number, no rows and no columns.\n",
    "print(ar1_reshaped_r) # 2D Array, a pair of square bracket inside first and last openning and closing bracket.1 row & 12 columns."
   ]
  },
  {
   "cell_type": "code",
   "execution_count": null,
   "metadata": {},
   "outputs": [],
   "source": [
    "ar1_reshaped_c=ar1.reshape(12,1) # This is alos possible, Note it , a tricy one.\n",
    "# Converts ar1 into two dimensional array of size 12 rows and 1columns\n",
    "ar1_reshaped_c"
   ]
  },
  {
   "cell_type": "code",
   "execution_count": null,
   "metadata": {},
   "outputs": [],
   "source": [
    "# compare ar1 and ar1_reshaped_c\n",
    "print(ar1,'\\n') #1D Array, just a sequence of number, no rows and no columns.\n",
    "print(ar1_reshaped_c) # 2D Array, 12 pair of square bracket inside first and last openning and closing bracket.12 rows & 1 column."
   ]
  },
  {
   "cell_type": "code",
   "execution_count": null,
   "metadata": {},
   "outputs": [],
   "source": [
    "### Similar to np.arange,there is np.linspace, as given below:\n",
    "np.linspace(-5,5,11)"
   ]
  },
  {
   "cell_type": "markdown",
   "metadata": {},
   "source": [
    "##### Note: In above last two reshape operations, we have converted 1-D array into ---->1 row and multiple columns --> ar1.reshape(1,12)  or multiple rows and 1 columns --->ar1.reshape(12,1)\n",
    "* For doing this we must know number of elements in 1D array (here 12).\n",
    "* There is another way of doing this without knowing the number of elements in 1-D Array.As given below."
   ]
  },
  {
   "cell_type": "code",
   "execution_count": null,
   "metadata": {},
   "outputs": [],
   "source": [
    "ar2=ar1[np.newaxis,:] # This operation converts one dimensional array into 1 row  and multiple columns(here 12).\n",
    "print(ar2,'\\n')\n",
    "print(ar2.shape,'\\n')\n",
    "print(ar2.ndim,'\\n') ## Gives the dimension of matrix \n",
    "\n",
    "# In above syntax first argument 'np.newaxis' , inside square bracket before coma is for  row \n",
    "# and second argument ':' is for column.\n",
    "# ar1 is converted into 1 row as 'np.newaxis' is in place of row and stored in ar2 .See the result below.\n",
    "# Note ar1 itself doesn't get changed.\n",
    "ar1"
   ]
  },
  {
   "cell_type": "code",
   "execution_count": null,
   "metadata": {},
   "outputs": [],
   "source": [
    "ar3=ar1[:,np.newaxis] \n",
    "# ar1 is converted into 1 column as 'np.newaxis' is in place of column and stored in ar3 .See the result below.\n",
    "# Note ar1 itself doesn't get changed.Ten rows and one column\n",
    "print(ar3,'\\n')\n",
    "print(ar3.shape)\n",
    "ar3.ndim ## Gives the dimension of matrix "
   ]
  },
  {
   "cell_type": "markdown",
   "metadata": {},
   "source": [
    "### Arithmetic with NumPy Arrays"
   ]
  },
  {
   "cell_type": "code",
   "execution_count": null,
   "metadata": {},
   "outputs": [],
   "source": [
    "a=np.array([[1,2,3],[2,3,4],[5,6,7]])\n",
    "a"
   ]
  },
  {
   "cell_type": "code",
   "execution_count": null,
   "metadata": {},
   "outputs": [],
   "source": [
    "b=np.array([[4,5,6],[7,2,9],[10,5,12]])\n",
    "b"
   ]
  },
  {
   "cell_type": "code",
   "execution_count": null,
   "metadata": {},
   "outputs": [],
   "source": [
    "c1=a*b ## This is not  matrix multiplication but element-wise multiplication \n",
    "c1"
   ]
  },
  {
   "cell_type": "code",
   "execution_count": null,
   "metadata": {},
   "outputs": [],
   "source": [
    "c=a+b # Matrix addition\n",
    "c"
   ]
  },
  {
   "cell_type": "code",
   "execution_count": null,
   "metadata": {},
   "outputs": [],
   "source": [
    "1/a #This is not matrix inversiion, it is an element-wise inversion"
   ]
  },
  {
   "cell_type": "code",
   "execution_count": null,
   "metadata": {},
   "outputs": [],
   "source": [
    "a>b # element-Wise comparison"
   ]
  },
  {
   "cell_type": "markdown",
   "metadata": {},
   "source": [
    "### Matrix Multiplication"
   ]
  },
  {
   "cell_type": "code",
   "execution_count": null,
   "metadata": {},
   "outputs": [],
   "source": [
    "c2=np.dot(a,b) ## This is matrix multiplication between two array a & b (defined above).\n",
    "c2"
   ]
  },
  {
   "cell_type": "code",
   "execution_count": null,
   "metadata": {},
   "outputs": [],
   "source": [
    "c3=a.dot(b)# This is also matrix multiplication\n",
    "c3"
   ]
  },
  {
   "attachments": {
    "Matrix%20Multiplication.PNG": {
     "image/png": "[encoded data removed]"
    }
   },
   "cell_type": "markdown",
   "metadata": {},
   "source": [
    "![Matrix%20Multiplication.PNG](attachment:Matrix%20Multiplication.PNG)"
   ]
  },
  {
   "cell_type": "markdown",
   "metadata": {},
   "source": [
    "### Matrix Divison"
   ]
  },
  {
   "cell_type": "code",
   "execution_count": null,
   "metadata": {},
   "outputs": [],
   "source": [
    "A = np.array([[1,2,3],[4,-3,6],[7,8,0]])\n",
    "B = np.array([[1,1,1],[2,2,2],[3,3,3]])\n",
    "print(A,'\\n\\n',B,'\\n')\n",
    "print( 'Matrix Division (M/N) :\\n\\n' , A/B)\n",
    "# OR\n",
    "print(' Matrix Division (M/N)  \\n\\n ', np.divide(A,B)) \n",
    "## Basically A is multiplied with B inversed.Only valid if B inversed is defined."
   ]
  },
  {
   "cell_type": "markdown",
   "metadata": {},
   "source": [
    "### Linear Algebra Library\n",
    "* Few more on this topic at the last of this module."
   ]
  },
  {
   "cell_type": "code",
   "execution_count": null,
   "metadata": {},
   "outputs": [],
   "source": [
    "from numpy.linalg import inv,det\n",
    "## This is linear algebra library of numpy which contains many linear algebra  functions and operations. \n",
    "## We call it for inverse and determinant calculation of matrix"
   ]
  },
  {
   "cell_type": "code",
   "execution_count": null,
   "metadata": {},
   "outputs": [],
   "source": [
    "a=np.array([[2,3],[5,9]])\n",
    "a"
   ]
  },
  {
   "cell_type": "code",
   "execution_count": null,
   "metadata": {},
   "outputs": [],
   "source": [
    "det(a)  # Determinant is not equal to zero thus inverse is defined"
   ]
  },
  {
   "cell_type": "code",
   "execution_count": null,
   "metadata": {},
   "outputs": [],
   "source": [
    "b=inv(a) ##  b contain inverse of matrix a\n",
    "b"
   ]
  },
  {
   "cell_type": "code",
   "execution_count": null,
   "metadata": {},
   "outputs": [],
   "source": [
    "np.dot(a,b) # Multiplying a matrix with its inverse produce identity matrix ,like:a*a^-(1)=1"
   ]
  },
  {
   "attachments": {
    "numpy_linalg_function.PNG": {
     "image/png": "[encoded data removed]"
    },
    "numpy_linalg_function1.PNG": {
     "image/png": "[encoded data removed]"
    }
   },
   "cell_type": "markdown",
   "metadata": {},
   "source": [
    "### Commonly used numpy.linalg function\n",
    "![numpy_linalg_function.PNG](attachment:numpy_linalg_function.PNG)\n",
    "![numpy_linalg_function1.PNG](attachment:numpy_linalg_function1.PNG)"
   ]
  },
  {
   "cell_type": "markdown",
   "metadata": {},
   "source": [
    "###  Some standards array creation funcitons"
   ]
  },
  {
   "cell_type": "markdown",
   "metadata": {},
   "source": [
    "*  np.zeros(10)\n",
    "* np.zeros((3, 6))  --> note :> Tuple is passed\n",
    "* np.ones(4)\n",
    "* np.ones((3,4))\n",
    "* np.identity(3)      --> Produces Identity matrix of 3 by 3\n",
    "* np.eye(3)             --> Produces Identity matrix of 3 by 3\n",
    "* np.full((2,3),7)     --> It makes array of shape 2 by 3 having each element is as 7.\n",
    "* np.diag([22,33,44]) --> It makes square matrix with diagnal filled with value passed in list and all other elements remain 0."
   ]
  },
  {
   "cell_type": "code",
   "execution_count": null,
   "metadata": {},
   "outputs": [],
   "source": [
    "np.zeros((3,4))"
   ]
  },
  {
   "cell_type": "code",
   "execution_count": null,
   "metadata": {},
   "outputs": [],
   "source": [
    "np.ones((2,2))"
   ]
  },
  {
   "cell_type": "code",
   "execution_count": null,
   "metadata": {},
   "outputs": [],
   "source": [
    "np.full((2,3),7)  # It makes array of shape 2 by 3 having each element is as 7."
   ]
  },
  {
   "cell_type": "code",
   "execution_count": null,
   "metadata": {},
   "outputs": [],
   "source": [
    "np.eye(4)"
   ]
  },
  {
   "cell_type": "code",
   "execution_count": null,
   "metadata": {},
   "outputs": [],
   "source": [
    "np.diag([22,33,44])"
   ]
  },
  {
   "cell_type": "code",
   "execution_count": null,
   "metadata": {},
   "outputs": [],
   "source": [
    "a=np.array([[1,2,3],[2,3,4],[5,6,7]])\n",
    "a"
   ]
  },
  {
   "cell_type": "code",
   "execution_count": null,
   "metadata": {},
   "outputs": [],
   "source": [
    "np.diag(a)  # If we pass square matrix inside diag function, it gives its diagonal elements as 1 D Array."
   ]
  },
  {
   "cell_type": "markdown",
   "metadata": {},
   "source": [
    "### Concept of Broadcasting"
   ]
  },
  {
   "cell_type": "code",
   "execution_count": null,
   "metadata": {},
   "outputs": [],
   "source": [
    "M1=np.array([[1,2,3],[4,5,6]])\n",
    "print(M1)\n",
    "M1.shape"
   ]
  },
  {
   "cell_type": "code",
   "execution_count": null,
   "metadata": {},
   "outputs": [],
   "source": [
    "M2=np.array([[8],[9]])\n",
    "print(M2)\n",
    "M2.shape"
   ]
  },
  {
   "cell_type": "code",
   "execution_count": null,
   "metadata": {},
   "outputs": [],
   "source": [
    "### Mathematically M1 and M2 can not be added as shape doesn't match ,but in numpy they can be added.\n",
    "### M2 has same number of rows as that of M1. Its column gets repicated so that its shape becomes equal to M1.\n",
    "### And then, both added.see result below\n",
    "M1+M2\n",
    "## This process of replication is broadcasting actually M2 gets broadcasted along the columns.\n",
    "## We will see result after replication and sum operation, broadcasted M2 is not visible,it is hidden step."
   ]
  },
  {
   "cell_type": "code",
   "execution_count": null,
   "metadata": {},
   "outputs": [],
   "source": [
    "# Making another array M3\n",
    "M3=np.array([[10,20,30]])\n",
    "print(M3)\n",
    "M3.shape"
   ]
  },
  {
   "cell_type": "code",
   "execution_count": null,
   "metadata": {},
   "outputs": [],
   "source": [
    "### Mathematically M1 and M3 can not be added as shape doesn't match ,but in numpy they can be added.\n",
    "### M3 has same number of columnss as that of M1. Its row gets repicated so that its shape becomes equal to M1.\n",
    "### And then, both added.see result below\n",
    "M1+M3\n",
    "## This process of replication is broadcasting actually M3 gets broadcasted down the rows.\n",
    "## We will see result after replication and sum operation, broadcasted M3 is not visible,it is hidden step."
   ]
  },
  {
   "cell_type": "markdown",
   "metadata": {},
   "source": [
    "### Concept of Axis\n",
    "##### Row and Column wise operation"
   ]
  },
  {
   "cell_type": "code",
   "execution_count": null,
   "metadata": {},
   "outputs": [],
   "source": [
    "a=np.arange(1,13) ## Making 1D array.\n",
    "a"
   ]
  },
  {
   "cell_type": "code",
   "execution_count": null,
   "metadata": {},
   "outputs": [],
   "source": [
    "a.reshape(4,3) # Reshaping it"
   ]
  },
  {
   "cell_type": "code",
   "execution_count": null,
   "metadata": {},
   "outputs": [],
   "source": [
    "a1=np.arange(1,13).reshape(4,3) # above two operation can be done in one shot.Storing result into a1.\n",
    "a1"
   ]
  },
  {
   "cell_type": "code",
   "execution_count": null,
   "metadata": {},
   "outputs": [],
   "source": [
    "a1.sum()"
   ]
  },
  {
   "cell_type": "code",
   "execution_count": null,
   "metadata": {},
   "outputs": [],
   "source": [
    "np.sum(a1)"
   ]
  },
  {
   "attachments": {
    "Concept%20of%20Axis.PNG": {
     "image/png": "[encoded data removed]"
    }
   },
   "cell_type": "markdown",
   "metadata": {},
   "source": [
    "#### In 2D array axis=0 means, down the rows from top to bottom and axis=1 means along the columns from left to right as shown in figure below. Try running codes as written below.\n",
    "![Concept%20of%20Axis.PNG](attachment:Concept%20of%20Axis.PNG)"
   ]
  },
  {
   "cell_type": "code",
   "execution_count": null,
   "metadata": {},
   "outputs": [],
   "source": [
    "np.sum(a1,axis=0)"
   ]
  },
  {
   "cell_type": "code",
   "execution_count": null,
   "metadata": {},
   "outputs": [],
   "source": [
    "a1.sum(axis=0) # Above same operation can be done through this way as well."
   ]
  },
  {
   "cell_type": "code",
   "execution_count": null,
   "metadata": {},
   "outputs": [],
   "source": [
    "a1.sum(0)# This is also possible."
   ]
  },
  {
   "cell_type": "code",
   "execution_count": null,
   "metadata": {},
   "outputs": [],
   "source": [
    "np.sum(a1,axis=1)"
   ]
  },
  {
   "cell_type": "code",
   "execution_count": null,
   "metadata": {},
   "outputs": [],
   "source": [
    "a1.sum(axis=1) # Above same  operation can be done through this way as well."
   ]
  },
  {
   "cell_type": "code",
   "execution_count": null,
   "metadata": {},
   "outputs": [],
   "source": [
    "a1.sum(1) # This is also possible."
   ]
  },
  {
   "cell_type": "markdown",
   "metadata": {},
   "source": [
    "#### Many other staticatical Methods, you can try: np.std , np.var , np.cumsum , np.cumpod , np.min , np.max , np.argmin , np.argmax , ..."
   ]
  },
  {
   "cell_type": "code",
   "execution_count": null,
   "metadata": {},
   "outputs": [],
   "source": [
    "np.argmin(np.array([1,20,30,5,6,7,8,])) # Gives index of min valued element of array.\n",
    "## Note index starts from zero, thus value '1' of array has index of '0'."
   ]
  },
  {
   "cell_type": "code",
   "execution_count": null,
   "metadata": {},
   "outputs": [],
   "source": [
    "np.argmax(np.array([1,20,30,5,6,7,8,]))"
   ]
  },
  {
   "cell_type": "markdown",
   "metadata": {},
   "source": [
    "### Stacking of arrays\n",
    "* np.hstack\n",
    "* np.vstack\n",
    "* np.concatenate\n",
    "\n",
    "###### We will learn all above  3 concepts making following three matrix, v1, v2 and v3.\n"
   ]
  },
  {
   "cell_type": "code",
   "execution_count": null,
   "metadata": {},
   "outputs": [],
   "source": [
    "v1=np.array([[1,2,3],[4,5,6],[7,8,9]])\n",
    "print(v1,'\\n')\n",
    "v1.shape"
   ]
  },
  {
   "cell_type": "code",
   "execution_count": null,
   "metadata": {},
   "outputs": [],
   "source": [
    "v2=np.array([[10],[20],[30]])\n",
    "print(v2,'\\n')\n",
    "v2.shape"
   ]
  },
  {
   "cell_type": "code",
   "execution_count": null,
   "metadata": {},
   "outputs": [],
   "source": [
    "v3=np.array([[40,50,60]])\n",
    "print(v3,'\\n')\n",
    "v3.shape"
   ]
  },
  {
   "cell_type": "code",
   "execution_count": null,
   "metadata": {},
   "outputs": [],
   "source": [
    "np.hstack([v1,v2]) # Notice:v1 and v2 have same number of rows.\n",
    "# Thus v2 is stacked after v1,this is horizontal stacking.v2 can also be stacked before v1,check yourself-->np.hstack([v2,v1])"
   ]
  },
  {
   "cell_type": "code",
   "execution_count": null,
   "metadata": {},
   "outputs": [],
   "source": [
    "np.vstack([v1,v3]) # Notice v1 and v3 have same number of columns\n",
    "# Thus v3 is stacked below v1,this is vertical stacking.v3 can also be stacked before v1,check yourself-->np.vstack([v3,v1])"
   ]
  },
  {
   "cell_type": "markdown",
   "metadata": {},
   "source": [
    "##### Above two operations  can be done through np.concatenate as below, notice  value of axis."
   ]
  },
  {
   "cell_type": "code",
   "execution_count": null,
   "metadata": {},
   "outputs": [],
   "source": [
    "np.concatenate([v1,v2],axis=1) # v2 is added as a column, thus axis=1 is passed."
   ]
  },
  {
   "cell_type": "code",
   "execution_count": null,
   "metadata": {},
   "outputs": [],
   "source": [
    "np.concatenate([v1,v3],axis=0) # v3 is added as a row, thus axis=0 is passed."
   ]
  },
  {
   "cell_type": "markdown",
   "metadata": {},
   "source": [
    "### Data Types for ndarrays"
   ]
  },
  {
   "cell_type": "code",
   "execution_count": null,
   "metadata": {},
   "outputs": [],
   "source": [
    "arr1 = np.array([1, 2, 3], dtype=np.float64) # We have defined data type a float 64 for this matrix\n",
    "arr2 = np.array([1, 2, 3], dtype=np.int32)  # We have defined data type a int32 for this matrix\n",
    "print(arr1.dtype)\n",
    "print(arr2.dtype) "
   ]
  },
  {
   "attachments": {
    "Data%20Type%20numpy.PNG": {
     "image/png": "[encoded data removed]"
    }
   },
   "cell_type": "markdown",
   "metadata": {},
   "source": [
    "#### Following are the integer and float data types are there in numpy.\n",
    "![Data%20Type%20numpy.PNG](attachment:Data%20Type%20numpy.PNG)"
   ]
  },
  {
   "cell_type": "code",
   "execution_count": null,
   "metadata": {},
   "outputs": [],
   "source": [
    "a = np.array([1, 2, 3, 4, 5]) ## type of this array is by default integer\n",
    "print(a)\n",
    "print(a.dtype)\n",
    "float_a = a.astype(np.float64) # type casting of array 'a' into float by using  astype() and storing to a variable-->floa_a \n",
    "print(float_a) ## we can see dot added in every element of array\n",
    "float_a.dtype"
   ]
  },
  {
   "cell_type": "code",
   "execution_count": null,
   "metadata": {},
   "outputs": [],
   "source": [
    "a1 = np.array([6.9, 10.2, -0.6, 0.5, 12.9, 10.1])\n",
    "print(a1)\n",
    "a1.astype(np.int32)# this is just a display a1 remains unchanged. We have to assign it into a new variable to store the chage\n",
    "## Converting float into integer will truncate the value after decimal point. "
   ]
  },
  {
   "cell_type": "markdown",
   "metadata": {},
   "source": [
    "##### There are many other data type, like : bool(True, False), object(any python object), complex, string_, unicode. Explore on your own."
   ]
  },
  {
   "cell_type": "code",
   "execution_count": null,
   "metadata": {},
   "outputs": [],
   "source": [
    "ar_s = np.array(['1.25', '-9.6', '42'], dtype=np.string_)\n",
    "print(ar_s)\n",
    "ar_s.astype(float) # Conveting back into float data type"
   ]
  },
  {
   "cell_type": "code",
   "execution_count": null,
   "metadata": {},
   "outputs": [],
   "source": [
    "ar_s = np.array([1.25, -9.6, 42], dtype=str) ## This will also work\n",
    "print(ar_s)\n",
    "ar_s.astype(float) # Conveting back into float data type"
   ]
  },
  {
   "cell_type": "code",
   "execution_count": null,
   "metadata": {},
   "outputs": [],
   "source": [
    "ar_s = np.array(['1.25', '-9.6', '42']) ## Any character inside quotation is converted into string.\n",
    "print(ar_s)\n",
    "ar_s.astype(float) # Conveting back into float data type"
   ]
  },
  {
   "cell_type": "code",
   "execution_count": null,
   "metadata": {},
   "outputs": [],
   "source": [
    "ar_int = np.arange(10)\n",
    "print(ar_int)\n",
    "ar_float = np.array([1.2, 2.70, 3.5, 4.8], dtype=np.float64)\n",
    "ar_int.astype(ar_float.dtype) # we are conveting data type of ar_int to that of type of ar_float.This could be a way as well!! "
   ]
  },
  {
   "cell_type": "markdown",
   "metadata": {},
   "source": [
    "## Basic Indexing and Slicing\n",
    "#### 1-D Array"
   ]
  },
  {
   "cell_type": "code",
   "execution_count": null,
   "metadata": {},
   "outputs": [],
   "source": [
    "a1 = np.arange(1,6)\n",
    "a1  # This is 1D array. Index starts from zero(starting from left) ,i.e. zero indexed member of the array is 1."
   ]
  },
  {
   "cell_type": "code",
   "execution_count": null,
   "metadata": {},
   "outputs": [],
   "source": [
    "a1[1] ## Square bracket is applied on arry to slice it. 1 is passed inside bracket to slice 1 indexed member of the array."
   ]
  },
  {
   "cell_type": "code",
   "execution_count": null,
   "metadata": {},
   "outputs": [],
   "source": [
    "a1[1:3] ## It gives sliced array taking 1 indexed element utpo 2 indexex element as any value after colon is not included.\n",
    "# Note: Any value after colon is not included.One element before this is included only.\n",
    "# Note Any value before colon is always included."
   ]
  },
  {
   "cell_type": "code",
   "execution_count": null,
   "metadata": {},
   "outputs": [],
   "source": [
    "a1[1:3] =12 # This is assignment operation, i.e. 1st and 2nd indexed value of the array is replaced with 12\n",
    "print(a1)   # See the result"
   ]
  },
  {
   "cell_type": "code",
   "execution_count": null,
   "metadata": {},
   "outputs": [],
   "source": [
    "a1[2:] # 2nd indexed to last indexed element sliced. "
   ]
  },
  {
   "cell_type": "code",
   "execution_count": null,
   "metadata": {},
   "outputs": [],
   "source": [
    "a1[:5] # From the very beginning to 4rth indexed elements are sliced, 5th indexed element not included."
   ]
  },
  {
   "cell_type": "code",
   "execution_count": null,
   "metadata": {},
   "outputs": [],
   "source": [
    "a1"
   ]
  },
  {
   "cell_type": "code",
   "execution_count": null,
   "metadata": {},
   "outputs": [],
   "source": [
    "a_new=a1[2:] # It takes  2 indexed value till the last indexed value of the array and assign it in new varible a_new\n",
    "a_new"
   ]
  },
  {
   "cell_type": "code",
   "execution_count": null,
   "metadata": {},
   "outputs": [],
   "source": [
    "a_new[0]=99 ## Now replacing 0 indexed value of the array by 99 and displaying it.\n",
    "a_new"
   ]
  },
  {
   "cell_type": "code",
   "execution_count": null,
   "metadata": {},
   "outputs": [],
   "source": [
    "# Now lets check the initial array a1, This also gets changed.\n",
    "a1"
   ]
  },
  {
   "cell_type": "markdown",
   "metadata": {},
   "source": [
    "* Thus any change on sliced array will cause corresponding change in initial array as well.To stop this we use .copy() "
   ]
  },
  {
   "cell_type": "code",
   "execution_count": null,
   "metadata": {},
   "outputs": [],
   "source": [
    "a1"
   ]
  },
  {
   "cell_type": "code",
   "execution_count": null,
   "metadata": {},
   "outputs": [],
   "source": [
    "a1_copy=a1[3:].copy()# now sliced array is independently copied and change will not be reflected in original array a1.\n",
    "a1_copy"
   ]
  },
  {
   "cell_type": "code",
   "execution_count": null,
   "metadata": {},
   "outputs": [],
   "source": [
    "a1_copy[0]=444 # We are updating 0 indexed value to 444 and displaying it.\n",
    "a1_copy"
   ]
  },
  {
   "cell_type": "code",
   "execution_count": null,
   "metadata": {},
   "outputs": [],
   "source": [
    "a1 # Now checking original aary a1, and no changes on it."
   ]
  },
  {
   "cell_type": "code",
   "execution_count": null,
   "metadata": {},
   "outputs": [],
   "source": [
    "a1[:] = 64 # ':' -- change all element\n",
    "a1"
   ]
  },
  {
   "cell_type": "code",
   "execution_count": null,
   "metadata": {},
   "outputs": [],
   "source": [
    "a1"
   ]
  },
  {
   "cell_type": "code",
   "execution_count": null,
   "metadata": {},
   "outputs": [],
   "source": [
    "a1[::2] # starting  from very begnning, it picks elements leaving one element in between."
   ]
  },
  {
   "cell_type": "code",
   "execution_count": null,
   "metadata": {},
   "outputs": [],
   "source": [
    "a1[-1] # negative index stars with -1  from  right to left  "
   ]
  },
  {
   "cell_type": "code",
   "execution_count": null,
   "metadata": {},
   "outputs": [],
   "source": [
    "a1[:-3] # See what happens!"
   ]
  },
  {
   "cell_type": "code",
   "execution_count": null,
   "metadata": {},
   "outputs": [],
   "source": [
    "a1[-3:] ## See what happens!"
   ]
  },
  {
   "cell_type": "code",
   "execution_count": null,
   "metadata": {},
   "outputs": [],
   "source": [
    "a1[::-1] # it will reverse the 1D array, like list"
   ]
  },
  {
   "cell_type": "markdown",
   "metadata": {},
   "source": [
    "#### Slicing and indexing continue : 2-D Array"
   ]
  },
  {
   "cell_type": "code",
   "execution_count": null,
   "metadata": {},
   "outputs": [],
   "source": [
    "a2d = np.array([[1, 2, 3, 4], [4, 5, 6, 7], [7, 8, 9, 10]]) ## Creating a 2D array\n",
    "a2d  # column and row index starts from zero.Three rows ( with index :0,1,2;starting from top)\n",
    "     # and four columns (with index:0,1,2,3; starting from left)\n",
    "     # Negative indexing also valid: for rows from bottom to top :-1,-2,-3\n",
    "     # For columns from right to left :-1,-2,-3,-4"
   ]
  },
  {
   "attachments": {
    "indexing%20and%20slicing.PNG": {
     "image/png": "[encoded data removed]"
    }
   },
   "cell_type": "markdown",
   "metadata": {},
   "source": [
    "#### Go through the codes below and compare the result with this image.\n",
    "![indexing%20and%20slicing.PNG](attachment:indexing%20and%20slicing.PNG)"
   ]
  },
  {
   "cell_type": "code",
   "execution_count": null,
   "metadata": {},
   "outputs": [],
   "source": [
    "a2d[2] # On passing single integer value inside square bracket select corresponding indexed row. 2nd indexed row sliced"
   ]
  },
  {
   "cell_type": "code",
   "execution_count": null,
   "metadata": {},
   "outputs": [],
   "source": [
    "a2d[0] # zeroth row sliced."
   ]
  },
  {
   "cell_type": "code",
   "execution_count": null,
   "metadata": {},
   "outputs": [],
   "source": [
    "a2d[1,3] # first value before coma is for row index and second value after coma is for column index."
   ]
  },
  {
   "cell_type": "code",
   "execution_count": null,
   "metadata": {},
   "outputs": [],
   "source": [
    "a2d[1][3] # This way also possible"
   ]
  },
  {
   "cell_type": "code",
   "execution_count": null,
   "metadata": {},
   "outputs": [],
   "source": [
    "a2d[-2,-3] ## Using negative index"
   ]
  },
  {
   "cell_type": "code",
   "execution_count": null,
   "metadata": {},
   "outputs": [],
   "source": [
    "a2d[-2:,-3:]"
   ]
  },
  {
   "cell_type": "code",
   "execution_count": null,
   "metadata": {},
   "outputs": [],
   "source": [
    "a2d[:-1,:-2] ### from very beginning to -2 indexed row (i.e -3 and -2 indexed row) and -3,-4 indexed columns are sliced "
   ]
  },
  {
   "cell_type": "code",
   "execution_count": null,
   "metadata": {},
   "outputs": [],
   "source": [
    "a2d[-1,:] # last(bottom) row and all columns "
   ]
  },
  {
   "cell_type": "code",
   "execution_count": null,
   "metadata": {},
   "outputs": [],
   "source": [
    "a2d[:,-1] # All rows and last column(right most columns)"
   ]
  },
  {
   "cell_type": "code",
   "execution_count": null,
   "metadata": {},
   "outputs": [],
   "source": [
    "print(a2d)\n",
    "a2d[:2] ## from very beginning to 1 indexed row, i.e 0 and 1 index row sliced. 2 is not included."
   ]
  },
  {
   "cell_type": "code",
   "execution_count": null,
   "metadata": {},
   "outputs": [],
   "source": [
    "a2d[:2, 2:] # ( 0 ,1 ) indexed rows and 2 to last indexed columns are sliced."
   ]
  },
  {
   "cell_type": "code",
   "execution_count": null,
   "metadata": {},
   "outputs": [],
   "source": [
    "a2d[1, :2] # 1 indexed row and (0,1) indexed columns are sliced ."
   ]
  },
  {
   "cell_type": "code",
   "execution_count": null,
   "metadata": {},
   "outputs": [],
   "source": [
    "a2d[:2, 2] # Explain yourself?"
   ]
  },
  {
   "cell_type": "code",
   "execution_count": null,
   "metadata": {},
   "outputs": [],
   "source": [
    "a2d[:, :1] # All rows and 0 column ( from very beginning, but 1 not included i.e. zeroth column ) sliced."
   ]
  },
  {
   "cell_type": "code",
   "execution_count": null,
   "metadata": {},
   "outputs": [],
   "source": [
    "a2d"
   ]
  },
  {
   "cell_type": "code",
   "execution_count": null,
   "metadata": {},
   "outputs": [],
   "source": [
    "a2d[:2, 1:] = 0 ## This is assignment operation, a2d  itself gets changed.\n",
    "a2d"
   ]
  },
  {
   "cell_type": "markdown",
   "metadata": {},
   "source": [
    "### Matrix Multiplication from scratch\n",
    "* Iterating over  an array"
   ]
  },
  {
   "cell_type": "code",
   "execution_count": null,
   "metadata": {},
   "outputs": [],
   "source": [
    "x=np.array([[1,3,2,7],[0,4,5,8]])\n",
    "x"
   ]
  },
  {
   "cell_type": "code",
   "execution_count": null,
   "metadata": {},
   "outputs": [],
   "source": [
    "n1=x.shape[0] ## number of rows\n",
    "n2=x.shape[1] ## number of columns\n",
    "#a=[]\n",
    "for i in range(n1):   #iterating over rows\n",
    "    for j in range(n2):  ## iterating over colums\n",
    "        #a.append(x[i,j])\n",
    "        print(x[i,j])"
   ]
  },
  {
   "cell_type": "code",
   "execution_count": null,
   "metadata": {},
   "outputs": [],
   "source": [
    "for i in np.nditer(x):\n",
    "    print(i)"
   ]
  },
  {
   "cell_type": "code",
   "execution_count": null,
   "metadata": {},
   "outputs": [],
   "source": [
    "a=np.array([[1,2,3],[4,1,3]])\n",
    "b=np.array([[1,3],[2,3],[4,5]])\n",
    "print(a,'\\n\\n',b)"
   ]
  },
  {
   "cell_type": "code",
   "execution_count": null,
   "metadata": {},
   "outputs": [],
   "source": [
    "a.dot(b) ## Matrix Multiplicatin of  a  and b."
   ]
  },
  {
   "cell_type": "code",
   "execution_count": null,
   "metadata": {},
   "outputs": [],
   "source": [
    "# Making a Function for matrix Multiplication\n",
    "def matrix_mul(a,b):\n",
    "    n1=a.shape[0] #number of rows of first matirx \n",
    "    n2=a.shape[1] #number of columns of first matirx \n",
    "    n3=b.shape[0] #number of rows of second matirx \n",
    "    n4=b.shape[1] #number of columns of second matirx \n",
    "    if n2==n3:\n",
    "        c=np.zeros((n1,n4))\n",
    "        for i in range(n1):# iterating over rows of first matrix,\n",
    "            for j in range(n4):#iterating over column of second matrix\n",
    "                sum1=0\n",
    "                for k in range(n3):#iterating over rows of second matirx\n",
    "                    sum1=sum1+a[i,k]*b[k,j]\n",
    "                    c[i,j]=sum1\n",
    "        return c\n",
    "    else:\n",
    "        print('Ops! Matrix order mismatch.')"
   ]
  },
  {
   "cell_type": "code",
   "execution_count": null,
   "metadata": {},
   "outputs": [],
   "source": [
    "matrix_mul(a,b) # calling function for calculating matrix multiplication of a and b."
   ]
  },
  {
   "cell_type": "markdown",
   "metadata": {},
   "source": [
    "### Concept of 3-D Array"
   ]
  },
  {
   "cell_type": "code",
   "execution_count": null,
   "metadata": {},
   "outputs": [],
   "source": [
    "a3d = np.array([[[1, 2, 3], [4, 5, 6]], [[7, 8, 9], [10, 11, 12]]])\n",
    "a3d ## Three dimensional array"
   ]
  },
  {
   "attachments": {
    "3D%20array%20Image%20Print.PNG": {
     "image/png": "[encoded data removed]"
    }
   },
   "cell_type": "markdown",
   "metadata": {},
   "source": [
    "#### Notice in above result there are  two 2-D array each having shape of 2 by 3 stacked one after another.\n",
    "#### Thus in 3-D array, multiple 2-D arrays are stacked one after another.\n",
    "\n",
    "![3D%20array%20Image%20Print.PNG](attachment:3D%20array%20Image%20Print.PNG)"
   ]
  },
  {
   "attachments": {
    "3D%20Array%20image.PNG": {
     "image/png": "[encoded data removed]"
    }
   },
   "cell_type": "markdown",
   "metadata": {},
   "source": [
    "#### Imagine k number of 2D arrays each having i numbers of  rows and j number of columns, stacked one after another. As in figure below: \n",
    "![3D%20Array%20image.PNG](attachment:3D%20Array%20image.PNG)"
   ]
  },
  {
   "cell_type": "code",
   "execution_count": null,
   "metadata": {},
   "outputs": [],
   "source": [
    "a3d.shape ## first element gives number of 2D array and 2nd, 3rd element give number of rows and columns of each 2D array.\n",
    "# In this case two  2D  array each having shape (2,3)."
   ]
  },
  {
   "cell_type": "code",
   "execution_count": null,
   "metadata": {},
   "outputs": [],
   "source": [
    "np.size(a3d) # np.size always gives number of total elements in any array"
   ]
  },
  {
   "cell_type": "code",
   "execution_count": null,
   "metadata": {},
   "outputs": [],
   "source": [
    "a3d[0] # First 2d Array is zeroth indexed array, that we get after slicing."
   ]
  },
  {
   "cell_type": "code",
   "execution_count": null,
   "metadata": {},
   "outputs": [],
   "source": [
    "a3d[1] # "
   ]
  },
  {
   "cell_type": "code",
   "execution_count": null,
   "metadata": {},
   "outputs": [],
   "source": [
    "a3d[0,1,0] # This gives first indexed row and zeroth indexed column element of zeroth indexed 2D array, i.e. 4."
   ]
  },
  {
   "cell_type": "code",
   "execution_count": null,
   "metadata": {},
   "outputs": [],
   "source": [
    "a3d[1, 0] ## zeroth row of  1 indexed 2D array gets sliced from a3d."
   ]
  },
  {
   "cell_type": "code",
   "execution_count": null,
   "metadata": {},
   "outputs": [],
   "source": [
    "x = a3d[1] # This way is also possible\n",
    "x[0]"
   ]
  },
  {
   "cell_type": "markdown",
   "metadata": {},
   "source": [
    "### Boolean Indexing"
   ]
  },
  {
   "cell_type": "code",
   "execution_count": null,
   "metadata": {},
   "outputs": [],
   "source": [
    "names = np.array(['Mango', 'Apple', 'Banana', 'Mango', 'Banana', 'Apple', 'Apple'])\n",
    "data = np.arange(1,29).reshape(7,4)\n",
    "print(data,'\\n')\n",
    "print(names)"
   ]
  },
  {
   "cell_type": "code",
   "execution_count": null,
   "metadata": {},
   "outputs": [],
   "source": [
    "names == 'Apple'"
   ]
  },
  {
   "cell_type": "code",
   "execution_count": null,
   "metadata": {},
   "outputs": [],
   "source": [
    "data[names == 'Apple']"
   ]
  },
  {
   "cell_type": "code",
   "execution_count": null,
   "metadata": {},
   "outputs": [],
   "source": [
    "data[names == 'Apple', 2:]\n",
    "data[names == 'Apple', 3]"
   ]
  },
  {
   "cell_type": "code",
   "execution_count": null,
   "metadata": {},
   "outputs": [],
   "source": [
    "#names != 'Apple'\n",
    "data[~(names == 'Apple')]"
   ]
  },
  {
   "cell_type": "code",
   "execution_count": null,
   "metadata": {},
   "outputs": [],
   "source": [
    "cond = names == 'Apple'\n",
    "data[~cond]"
   ]
  },
  {
   "cell_type": "code",
   "execution_count": null,
   "metadata": {},
   "outputs": [],
   "source": [
    "cond1 = (names == 'Apple') | (names == 'Mango') ## '|'--> OR operator \n",
    "cond1\n",
    "data[cond1]"
   ]
  },
  {
   "cell_type": "code",
   "execution_count": null,
   "metadata": {},
   "outputs": [],
   "source": [
    "mask = (names == 'Apple') & (names == 'Mango') # '&' --> AND operator \n",
    "data[mask] ## Explaing why the result is empty array."
   ]
  },
  {
   "cell_type": "code",
   "execution_count": null,
   "metadata": {},
   "outputs": [],
   "source": [
    "data[data < 13] = 0\n",
    "data"
   ]
  },
  {
   "cell_type": "code",
   "execution_count": null,
   "metadata": {},
   "outputs": [],
   "source": [
    "data[names != 'Mango'] = 7\n",
    "data"
   ]
  },
  {
   "cell_type": "markdown",
   "metadata": {},
   "source": [
    "### Fancy Indexing"
   ]
  },
  {
   "cell_type": "code",
   "execution_count": null,
   "metadata": {},
   "outputs": [],
   "source": [
    "a1 = np.empty((8, 4))\n",
    "for i in range(8):\n",
    "    a1[i] = i\n",
    "a1"
   ]
  },
  {
   "cell_type": "code",
   "execution_count": null,
   "metadata": {},
   "outputs": [],
   "source": [
    "a1[[4, 3, 0, 6]] # This will slice corresponding rows"
   ]
  },
  {
   "cell_type": "code",
   "execution_count": null,
   "metadata": {},
   "outputs": [],
   "source": [
    "a1[[-3, -5, -7]]"
   ]
  },
  {
   "cell_type": "code",
   "execution_count": null,
   "metadata": {},
   "outputs": [],
   "source": [
    "a2 = np.arange(32).reshape((8, 4))\n",
    "a2\n",
    "#a2[[1, 5, 7, 2], [0, 3, 1, 2]]"
   ]
  },
  {
   "cell_type": "code",
   "execution_count": null,
   "metadata": {},
   "outputs": [],
   "source": [
    "a2[[1, 5, 7, 2], [0, 3, 1, 2]]"
   ]
  },
  {
   "cell_type": "code",
   "execution_count": null,
   "metadata": {},
   "outputs": [],
   "source": [
    "a2[[1, 5], [0, 3]]"
   ]
  },
  {
   "cell_type": "code",
   "execution_count": null,
   "metadata": {},
   "outputs": [],
   "source": [
    "a2[[1, 5, 7, 2], [0, 3, 1, 2]]"
   ]
  },
  {
   "cell_type": "code",
   "execution_count": null,
   "metadata": {},
   "outputs": [],
   "source": [
    "a2[[1, 5, 7, 2]][:, [0, 3, 1, 2]]# first extracting the rows and then resuffling the column of that extracted matrix"
   ]
  },
  {
   "cell_type": "code",
   "execution_count": null,
   "metadata": {},
   "outputs": [],
   "source": [
    "a2[[1, 5, 7, 2]]"
   ]
  },
  {
   "cell_type": "code",
   "execution_count": null,
   "metadata": {},
   "outputs": [],
   "source": [
    "a2"
   ]
  },
  {
   "cell_type": "code",
   "execution_count": null,
   "metadata": {},
   "outputs": [],
   "source": [
    "a2[[1, 5, 7, 2]]"
   ]
  },
  {
   "cell_type": "markdown",
   "metadata": {},
   "source": [
    "## Universal Function : Element-Wise Array Operation"
   ]
  },
  {
   "cell_type": "code",
   "execution_count": null,
   "metadata": {},
   "outputs": [],
   "source": [
    "a5 = np.arange(10)\n",
    "a5"
   ]
  },
  {
   "cell_type": "code",
   "execution_count": null,
   "metadata": {},
   "outputs": [],
   "source": [
    "np.power(a5,2) ## It calcualtes square of each element and array of same shape as original is obtained."
   ]
  },
  {
   "cell_type": "code",
   "execution_count": null,
   "metadata": {},
   "outputs": [],
   "source": [
    "np.sqrt(a5) #np.sqrt(a5)# square root"
   ]
  },
  {
   "cell_type": "code",
   "execution_count": null,
   "metadata": {},
   "outputs": [],
   "source": [
    "np.exp(a5) #np.exp(a5) # Exponential"
   ]
  },
  {
   "cell_type": "markdown",
   "metadata": {},
   "source": [
    "###### Note : In all above three operation, we are able to operate on each element of array in on shot. This is fast and called universal function, which  is element-wise opeation."
   ]
  },
  {
   "cell_type": "code",
   "execution_count": null,
   "metadata": {},
   "outputs": [],
   "source": [
    "x = np.arange(8)*1.25\n",
    "y = np.arange(8)\n",
    "print(x)\n",
    "print(y)\n",
    "np.maximum(x, y)# minimum"
   ]
  },
  {
   "cell_type": "code",
   "execution_count": null,
   "metadata": {},
   "outputs": [],
   "source": [
    "x"
   ]
  },
  {
   "cell_type": "code",
   "execution_count": null,
   "metadata": {},
   "outputs": [],
   "source": [
    "a,b=np.modf(x) ### first variable gives after decimal values"
   ]
  },
  {
   "cell_type": "code",
   "execution_count": null,
   "metadata": {},
   "outputs": [],
   "source": [
    "a"
   ]
  },
  {
   "cell_type": "code",
   "execution_count": null,
   "metadata": {},
   "outputs": [],
   "source": [
    "b"
   ]
  },
  {
   "cell_type": "code",
   "execution_count": null,
   "metadata": {},
   "outputs": [],
   "source": [
    "y"
   ]
  },
  {
   "cell_type": "code",
   "execution_count": null,
   "metadata": {},
   "outputs": [],
   "source": [
    "np.max((x,y)) # gives maximum of all element from both x and y"
   ]
  },
  {
   "cell_type": "code",
   "execution_count": null,
   "metadata": {},
   "outputs": [],
   "source": [
    "a6 = np.random.randn(7) * 5\n",
    "a6\n",
    "#remainder, whole_part = np.modf(arr)\n",
    "#remainder\n",
    "#whole_part"
   ]
  },
  {
   "cell_type": "code",
   "execution_count": null,
   "metadata": {},
   "outputs": [],
   "source": [
    "remainder, whole_part = np.modf(a6)\n",
    "remainder"
   ]
  },
  {
   "cell_type": "code",
   "execution_count": null,
   "metadata": {},
   "outputs": [],
   "source": [
    "whole_part"
   ]
  },
  {
   "attachments": {
    "Unary%20Universal%20functions.PNG": {
     "image/png": "[encoded data removed]"
    }
   },
   "cell_type": "markdown",
   "metadata": {},
   "source": [
    "##### Many other universal functions are there. Try on your own.\n",
    "![Unary%20Universal%20functions.PNG](attachment:Unary%20Universal%20functions.PNG)"
   ]
  },
  {
   "cell_type": "markdown",
   "metadata": {},
   "source": [
    "### Array-Oriented operations with Arrays\n",
    "* meshgrid"
   ]
  },
  {
   "cell_type": "code",
   "execution_count": null,
   "metadata": {},
   "outputs": [],
   "source": [
    "x=np.linspace(-3,3,7) \n",
    "y=np.linspace(-3,3,7)\n",
    "print(x,'\\n')\n",
    "print(y,'\\n')"
   ]
  },
  {
   "attachments": {
    "Meshgrid.PNG": {
     "image/png": "[encoded data removed]"
    }
   },
   "cell_type": "markdown",
   "metadata": {},
   "source": [
    "#### np.meshgrid\n",
    "* It is a function which generates x and y co-ordinates  of all possible points on graph paper composed by given x an y axis values. In this case x and y both have 7/7 values from -3 to 3 so there are 7X7=49 data points on  graph paper thus meshgrid generate 49 x-cordinate and 49 y-conrdinate of each 49 data points as  given below. \n",
    "![Meshgrid.PNG](attachment:Meshgrid.PNG)\n",
    "#####  Now check this code below."
   ]
  },
  {
   "cell_type": "code",
   "execution_count": null,
   "metadata": {},
   "outputs": [],
   "source": [
    "xs,ys = np.meshgrid(x, y)\n",
    "print(xs,'\\n')\n",
    "print(ys)"
   ]
  },
  {
   "cell_type": "code",
   "execution_count": null,
   "metadata": {},
   "outputs": [],
   "source": [
    "xs.shape"
   ]
  },
  {
   "cell_type": "code",
   "execution_count": null,
   "metadata": {},
   "outputs": [],
   "source": [
    "ys.shape"
   ]
  },
  {
   "cell_type": "code",
   "execution_count": null,
   "metadata": {},
   "outputs": [],
   "source": [
    "x1=xs.ravel() # Convert 2D into 1D\n",
    "x1"
   ]
  },
  {
   "cell_type": "code",
   "execution_count": null,
   "metadata": {},
   "outputs": [],
   "source": [
    "y1=ys.ravel() # Convert 2D into 1D\n",
    "y1"
   ]
  },
  {
   "cell_type": "code",
   "execution_count": null,
   "metadata": {},
   "outputs": [],
   "source": [
    "import matplotlib.pyplot as plt ## Importing matplotlib library for plotting\n",
    "plt.plot(x1,y1,'ro') # For plotting data points we have to pass x and y coordinates of each point as seperate 1D array or list. \n",
    "# 'r'-->for red color and alphabet'o'--> for dot representing each point.\n",
    "plt.grid(True) # It make graph paper like grid when True is passed.\n",
    "plt.axhline() # Plot horizontal line at y=0, i.e. x-asis.\n",
    "plt.axvline() # Plot vertical line at x=0, i.e. y-axis.\n",
    "plt.show()"
   ]
  },
  {
   "cell_type": "code",
   "execution_count": null,
   "metadata": {},
   "outputs": [],
   "source": [
    "Each_points=np.c_[x1,y1] ## check youself, what np.c_ is doing here.\n",
    "Each_points"
   ]
  },
  {
   "cell_type": "code",
   "execution_count": null,
   "metadata": {},
   "outputs": [],
   "source": [
    "Each_points = np.c_[xs.ravel(), ys.ravel()]\n",
    "Each_points"
   ]
  },
  {
   "cell_type": "markdown",
   "metadata": {},
   "source": [
    "### Expressing Conditional Logic as Array Operations"
   ]
  },
  {
   "cell_type": "code",
   "execution_count": null,
   "metadata": {},
   "outputs": [],
   "source": [
    "x = np.array([1.1, 1.2, 1.3, 1.4, 1.5])\n",
    "y = np.array([2.1, 2.2, 2.3, 2.4, 2.5])\n",
    "cond = np.array([True, False, True, True, False])"
   ]
  },
  {
   "cell_type": "code",
   "execution_count": null,
   "metadata": {},
   "outputs": [],
   "source": [
    "d=zip(x, y, cond)\n",
    "for i in d:\n",
    "    print(i)"
   ]
  },
  {
   "cell_type": "code",
   "execution_count": null,
   "metadata": {},
   "outputs": [],
   "source": [
    "result = [(x if c else y) for x, y, c in zip(x, y, cond)]  ## Comprehension\n",
    "result"
   ]
  },
  {
   "cell_type": "code",
   "execution_count": null,
   "metadata": {},
   "outputs": [],
   "source": [
    "result = np.where(cond, x, y) ## inside np.where forTrue value of cond, x is chosen else y is chosen\n",
    "result"
   ]
  },
  {
   "cell_type": "code",
   "execution_count": null,
   "metadata": {},
   "outputs": [],
   "source": [
    "arr = np.array([[4, 4,5],[1,2,3],[0,1,2,]]) \n",
    "arr"
   ]
  },
  {
   "cell_type": "code",
   "execution_count": null,
   "metadata": {},
   "outputs": [],
   "source": [
    "np.where(arr <= 2, arr*10, arr) \n",
    "# If conditional statement is True, then corresponding value  of 'arr' is multiplied by 10\n",
    "# and if False then corresponding  value of 'arr' remains as it is.\n",
    "# Note 'arr' itself doesn't chang. This is just a display. To use it we have to store it in another variable."
   ]
  },
  {
   "cell_type": "code",
   "execution_count": null,
   "metadata": {},
   "outputs": [],
   "source": [
    "arr # It remains same"
   ]
  },
  {
   "cell_type": "code",
   "execution_count": null,
   "metadata": {},
   "outputs": [],
   "source": [
    "(arr >=4).sum() ## Explain what is happening here?"
   ]
  },
  {
   "cell_type": "code",
   "execution_count": null,
   "metadata": {},
   "outputs": [],
   "source": [
    "arr[arr>=4].sum() ## Explain what is happening here?"
   ]
  },
  {
   "cell_type": "markdown",
   "metadata": {},
   "source": [
    "### Sorting"
   ]
  },
  {
   "cell_type": "code",
   "execution_count": null,
   "metadata": {},
   "outputs": [],
   "source": [
    "arr = np.array([20,5,6,-1,2,30,8,9,10])\n",
    "arr\n",
    "# arr.sort()\n",
    "# arr"
   ]
  },
  {
   "cell_type": "code",
   "execution_count": null,
   "metadata": {},
   "outputs": [],
   "source": [
    "arr.sort()\n",
    "arr"
   ]
  },
  {
   "cell_type": "code",
   "execution_count": null,
   "metadata": {},
   "outputs": [],
   "source": [
    "np.random.seed(0)\n",
    "arr = np.random.choice(np.arange(15),15).reshape(5, 3) # Check random topic given below for np.random.choice\n",
    "arr\n"
   ]
  },
  {
   "cell_type": "code",
   "execution_count": null,
   "metadata": {},
   "outputs": [],
   "source": [
    "arr.sort() #  By defalut it sorts according to axis 1\n",
    "arr  # Note array itselt gets sorted"
   ]
  },
  {
   "cell_type": "code",
   "execution_count": null,
   "metadata": {},
   "outputs": [],
   "source": [
    "arr.sort(0)\n",
    "arr"
   ]
  },
  {
   "cell_type": "markdown",
   "metadata": {},
   "source": [
    "### Unique and Other Set Logic for 1-D Array"
   ]
  },
  {
   "cell_type": "code",
   "execution_count": null,
   "metadata": {},
   "outputs": [],
   "source": [
    "names = np.array(['Bob', 'Joe', 'Will', 'Bob', 'Will', 'Joe', 'Joe'])\n",
    "\n",
    "tup=np.unique(names,return_counts=True)\n",
    "print(tup,'\\n\\n')\n",
    "# This will return a tuple containg two array, first arry is composed of all the unique names\n",
    "# Second array is composed of counting of each unique name\n",
    "# Below is the code for unpacking the tuple and storing two array in two different array which can be used further\n",
    "u_name,count_name=np.unique(names,return_counts=True)\n",
    "print(u_name)\n",
    "print(count_name)"
   ]
  },
  {
   "cell_type": "code",
   "execution_count": null,
   "metadata": {},
   "outputs": [],
   "source": [
    "ints = np.array([3, 3, 3, 2, 2, 1, 1, 4, 4,3,3])\n",
    "unique_value,count=np.unique(ints,return_counts=True)\n",
    "print(unique_value)\n",
    "print(count)"
   ]
  },
  {
   "cell_type": "markdown",
   "metadata": {},
   "source": [
    " There are two useful function np.argmax  and np.argmin.\n",
    "* np.argmax --> It gives index of largest value in any array.\n",
    "* np.argmin --> It gives index of samllest value in any array."
   ]
  },
  {
   "cell_type": "code",
   "execution_count": null,
   "metadata": {},
   "outputs": [],
   "source": [
    "ind=np.argmax(count) ## It gives index of largest value in 'count', i.e index of value '5'.\n",
    "ind"
   ]
  },
  {
   "cell_type": "code",
   "execution_count": null,
   "metadata": {},
   "outputs": [],
   "source": [
    "unique_value[ind] ## This gives the unique value which is repeated maximum times."
   ]
  },
  {
   "cell_type": "code",
   "execution_count": null,
   "metadata": {},
   "outputs": [],
   "source": [
    "# Above operation in one shot\n",
    "ints = np.array([3, 3, 3, 2, 2, 1, 1, 4, 4,3,3])\n",
    "unique_value,count=np.unique(ints,return_counts=True)\n",
    "print(unique_value[np.argmax(count)]) ## This gives maximum repeated numbe of array 'ints'."
   ]
  },
  {
   "cell_type": "code",
   "execution_count": null,
   "metadata": {},
   "outputs": [],
   "source": [
    "# set also gives unique value.\n",
    "names = np.array(['Mango','Bob', 'Joe', 'Will', 'Bob', 'Will', 'Joe', 'Joe','Apple'])\n",
    "set(names) ## It automatically gives sorted result."
   ]
  },
  {
   "cell_type": "code",
   "execution_count": null,
   "metadata": {},
   "outputs": [],
   "source": [
    "list(set(names)) # conveting set inot list"
   ]
  },
  {
   "cell_type": "code",
   "execution_count": null,
   "metadata": {},
   "outputs": [],
   "source": [
    "values = np.array([6, 0, 0, 3, 2, 5, 6])\n",
    "np.in1d(values, [2, 3, 6]) # Gives boolean indicating whether each element of array 'values' is contained in array [2,3,6]"
   ]
  },
  {
   "cell_type": "markdown",
   "metadata": {},
   "source": [
    "Many other set Operationa are there: np.intersect1d(x,y), np.union(x,y)....Check youself!!"
   ]
  },
  {
   "cell_type": "markdown",
   "metadata": {},
   "source": [
    "### Saving and loading   Array data"
   ]
  },
  {
   "cell_type": "code",
   "execution_count": null,
   "metadata": {},
   "outputs": [],
   "source": [
    "a1 = np.array([[10,20],[40,50]]) ## Creating an array named a1\n",
    "np.save('data_mat', a1)          #saving this array a1 with name as 'data_mat'\n",
    "# destination of location where we want to store can be passed as given below\n",
    "np.save(r'C:\\Users\\hP\\Desktop\\Test_Folder\\data_mat2',a1)"
   ]
  },
  {
   "cell_type": "code",
   "execution_count": null,
   "metadata": {},
   "outputs": [],
   "source": [
    "np.load('data_mat.npy') # Loading that array again"
   ]
  },
  {
   "cell_type": "code",
   "execution_count": null,
   "metadata": {},
   "outputs": [],
   "source": [
    "np.load(r'C:\\Users\\hP\\Desktop\\Test_Folder\\data_mat2.npy')# Complete path should be passed where 'data_mat2' is saved."
   ]
  },
  {
   "cell_type": "code",
   "execution_count": null,
   "metadata": {},
   "outputs": [],
   "source": [
    "b1=np.array([[1,2,3,4],[5,6,7,8]])"
   ]
  },
  {
   "cell_type": "code",
   "execution_count": null,
   "metadata": {},
   "outputs": [],
   "source": [
    "np.savez('array_archive.npz', a=a1, b=b1) # Multiple array can be saved as archive using savez"
   ]
  },
  {
   "cell_type": "code",
   "execution_count": null,
   "metadata": {},
   "outputs": [],
   "source": [
    "arch = np.load('array_archive.npz') # This is the way it can be load.\n",
    "arch['b']                           # Applying square bracket each array can be loaded seperately, her b i loaded"
   ]
  },
  {
   "cell_type": "code",
   "execution_count": null,
   "metadata": {},
   "outputs": [],
   "source": [
    "arch['a']                           # a is loaded."
   ]
  },
  {
   "cell_type": "markdown",
   "metadata": {},
   "source": [
    "### Random Number Generation\n",
    "* Note :These are random numbers and changed every time we run.\n",
    "* seed is used for fixing a set of random numbers.\n",
    "* Don't forget to see documentation."
   ]
  },
  {
   "cell_type": "markdown",
   "metadata": {},
   "source": [
    "###### np.random.normal"
   ]
  },
  {
   "cell_type": "code",
   "execution_count": null,
   "metadata": {},
   "outputs": [],
   "source": [
    "samples = np.random.normal(loc=0,scale=1,size=100) # It generated 10(size) random number from normal distribution\n",
    "#print(samples)       # Having mean(loc)=0 and standard deviation(scale)=1, (Default value if not passed by user).\n",
    "                                                  # any value can be passed for mean,std, and size."
   ]
  },
  {
   "cell_type": "code",
   "execution_count": null,
   "metadata": {},
   "outputs": [],
   "source": [
    "print(np.mean(samples), np.std(samples))  \n",
    "# Checking for mean  and std, (approx mean=0 and std=1 ,as we increse the size).Check it by incresing value of size."
   ]
  },
  {
   "cell_type": "code",
   "execution_count": null,
   "metadata": {},
   "outputs": [],
   "source": [
    "samples = np.random.normal(loc=10,scale=5.5,size=1000) # It generated 1000 (size) random number from normal distribution\n",
    "#print(samples)                                    # Having mean(loc)=10 and standard deviation(scale)=5.5\n",
    "print(np.mean(samples), np.std(samples))\n",
    "# Checking for mean  and std, (approx  mean=10 and std=5.5 ,as we increse the size)"
   ]
  },
  {
   "cell_type": "code",
   "execution_count": null,
   "metadata": {},
   "outputs": [],
   "source": [
    "A_norm = np.random.normal(size=(4, 4)) # It generates a 4X4 2-D array where values are normally distributed \n",
    "                                        # with mean=0 and std=1 (default values,if not passed by user)\n",
    "A_norm"
   ]
  },
  {
   "cell_type": "markdown",
   "metadata": {},
   "source": [
    "##### numpy.random.randn"
   ]
  },
  {
   "cell_type": "code",
   "execution_count": null,
   "metadata": {},
   "outputs": [],
   "source": [
    "np.random.randn(10) #Return a sample (or samples) from the “standard normal” distribution, i.e. mean is always 0 ans std=1."
   ]
  },
  {
   "cell_type": "code",
   "execution_count": null,
   "metadata": {},
   "outputs": [],
   "source": [
    "# For random samples from Normally distribution with mean= mu and standard deviation=sigma   we can use:\n",
    "# sigma * np.random.randn(size) + mu\n",
    "\n",
    "ar1=5.5*np.random.randn(10000)+10 ## sigma=5.5, mu=10\n",
    "ar1"
   ]
  },
  {
   "cell_type": "code",
   "execution_count": null,
   "metadata": {},
   "outputs": [],
   "source": [
    "print(np.mean(ar1),np.std(ar1))"
   ]
  },
  {
   "cell_type": "code",
   "execution_count": null,
   "metadata": {},
   "outputs": [],
   "source": [
    "## for 2D array:\n",
    "5.5*np.random.randn(3,5)+10 "
   ]
  },
  {
   "cell_type": "markdown",
   "metadata": {},
   "source": [
    "##### np.random.randint"
   ]
  },
  {
   "cell_type": "code",
   "execution_count": null,
   "metadata": {},
   "outputs": [],
   "source": [
    "np.random.randint(low=3, high=16, size=10) # Return random integers from low (inclusive) to high (exclusive)."
   ]
  },
  {
   "cell_type": "code",
   "execution_count": null,
   "metadata": {},
   "outputs": [],
   "source": [
    "np.random.randint(3,16,10)"
   ]
  },
  {
   "cell_type": "code",
   "execution_count": null,
   "metadata": {},
   "outputs": [],
   "source": [
    "np.random.seed(0) ## Seed is used to fix a set of random number.Now same random numbers are generated for every run.\n",
    "#Different set of random numbers for differetn seed value\n",
    "np.random.randint(3,16,10)"
   ]
  },
  {
   "cell_type": "markdown",
   "metadata": {},
   "source": [
    "##### np.random.choice"
   ]
  },
  {
   "cell_type": "code",
   "execution_count": null,
   "metadata": {},
   "outputs": [],
   "source": [
    "Name=np.array(['Ram','Sita','Laxman','Bharat','Satrudhan'])\n",
    "np.random.choice(Name, size=3, replace=True) # Generates 3 random sample from a given 1-D array 'Name',samples can be repeated."
   ]
  },
  {
   "cell_type": "code",
   "execution_count": null,
   "metadata": {},
   "outputs": [],
   "source": [
    "a=np.array(['Ram','Sita','Laxman','Bharat','Satrudhan'])\n",
    "np.random.choice(a, size=3, replace=False) # If replace=False, Sample can not be repeated"
   ]
  },
  {
   "cell_type": "markdown",
   "metadata": {},
   "source": [
    "######  There are may others random functions in Numpy--> Explore on your own."
   ]
  },
  {
   "cell_type": "markdown",
   "metadata": {},
   "source": [
    "### Random Walks\n",
    "* Try to explain  code below yourself"
   ]
  },
  {
   "cell_type": "code",
   "execution_count": null,
   "metadata": {},
   "outputs": [],
   "source": [
    "nsteps = 1000\n",
    "draws = np.random.randint(0, 2, size=nsteps)\n",
    "steps = np.where(draws > 0, 1, -1)\n",
    "walk = steps.cumsum()\n",
    "plt.plot(walk[:100])\n",
    "plt.show()"
   ]
  },
  {
   "cell_type": "markdown",
   "metadata": {},
   "source": [
    "### Few more on linear Algebra"
   ]
  },
  {
   "attachments": {
    "Capture.PNG": {
     "image/png": "[encoded data removed]"
    }
   },
   "cell_type": "markdown",
   "metadata": {},
   "source": [
    "##### Solving Equations\n",
    "* AX = B\n",
    "![Capture.PNG](attachment:Capture.PNG)\n",
    "* We have to frame above eqution in array as below:"
   ]
  },
  {
   "cell_type": "code",
   "execution_count": null,
   "metadata": {},
   "outputs": [],
   "source": [
    "A=np.array([[4,-2,3],[1,3,-4],[3,1,2]]) # This is matrix of coefficient\n",
    "A"
   ]
  },
  {
   "cell_type": "code",
   "execution_count": null,
   "metadata": {},
   "outputs": [],
   "source": [
    "B=np.array([[1],[-7],[5]])  # Matrix for representing RHS Values of above three equations\n",
    "B"
   ]
  },
  {
   "cell_type": "code",
   "execution_count": null,
   "metadata": {},
   "outputs": [],
   "source": [
    "var_values = np.linalg.solve(A,B)\n",
    "var_values"
   ]
  },
  {
   "cell_type": "markdown",
   "metadata": {},
   "source": [
    "###### Thus x=-1,y=2 and z=3 are the answers of above three  linear equations in x,y,z."
   ]
  },
  {
   "cell_type": "markdown",
   "metadata": {},
   "source": [
    "###### Transpose of an array"
   ]
  },
  {
   "cell_type": "code",
   "execution_count": null,
   "metadata": {},
   "outputs": [],
   "source": [
    "A = np.array([[1,2,3],[4,-3,6],[7,8,0]])\n",
    "print( A,'\\n')\n",
    "print('Transpose of A : \\n\\n', A.T)"
   ]
  },
  {
   "cell_type": "markdown",
   "metadata": {},
   "source": [
    "###### Rank of an array"
   ]
  },
  {
   "cell_type": "code",
   "execution_count": null,
   "metadata": {},
   "outputs": [],
   "source": [
    "print(\"Rank of array A: \", np.linalg.matrix_rank(A))"
   ]
  },
  {
   "cell_type": "markdown",
   "metadata": {},
   "source": [
    "###### Trace of an array"
   ]
  },
  {
   "cell_type": "code",
   "execution_count": null,
   "metadata": {},
   "outputs": [],
   "source": [
    "print('Trace of Array A:  ', np.trace(A))"
   ]
  },
  {
   "cell_type": "markdown",
   "metadata": {},
   "source": [
    "###### Length of vector"
   ]
  },
  {
   "cell_type": "code",
   "execution_count": null,
   "metadata": {},
   "outputs": [],
   "source": [
    "V= np.array([5,7,3,4,5,6])\n",
    "length = np.sqrt(np.dot(V,V))\n",
    "length ## If more than 2D then we call this  norm of vector rather than lenght."
   ]
  },
  {
   "cell_type": "code",
   "execution_count": null,
   "metadata": {},
   "outputs": [],
   "source": [
    "np.linalg.norm(V) # This is direct way of getting norm"
   ]
  },
  {
   "cell_type": "markdown",
   "metadata": {},
   "source": [
    "#### Normalized Vector"
   ]
  },
  {
   "cell_type": "code",
   "execution_count": null,
   "metadata": {},
   "outputs": [],
   "source": [
    "V1 = [5,6]\n",
    "length_V1 = np.sqrt(np.dot(V1,V1))\n",
    "norm_V1 = V1/length_V1\n",
    "print('length : ',length_V1)\n",
    "print('Normalized vector :', norm_V1) # Unit vector\n",
    "theta=np.degrees(np.arctan(norm_V1[1]/norm_V1[0]))\n",
    "print('Angle of vector V1 :', theta)"
   ]
  },
  {
   "cell_type": "markdown",
   "metadata": {},
   "source": [
    "##### Plotting above vector"
   ]
  },
  {
   "cell_type": "code",
   "execution_count": null,
   "metadata": {},
   "outputs": [],
   "source": [
    "plt.plot([0,V1[0]] , [0,V1[1]] , 'r' , label = 'v1')\n",
    "plt.axhline(c='k') # For plotting x axis\n",
    "plt.axvline(c='k') # For plotting y axis\n",
    "plt.grid()\n",
    "plt.axis((-3, 6, -3, 7)) ## first two value is min and max limit of x axis and second two value is min and max limit of y axis\n",
    "plt.legend()\n",
    "plt.title(f'Angle between Vectors v1 &v2 is :{theta}')\n",
    "plt.show()"
   ]
  },
  {
   "cell_type": "markdown",
   "metadata": {},
   "source": [
    "##### Angle between vectors"
   ]
  },
  {
   "cell_type": "code",
   "execution_count": null,
   "metadata": {},
   "outputs": [],
   "source": [
    "v1 = np.array([4,3])\n",
    "v2 = np.array([-3,4])\n",
    "lengthV1 = np.sqrt(np.dot(v1,v1))\n",
    "lengthV2 = np.sqrt(np.dot(v2,v2))\n",
    "ang = np.degrees(np.arccos( np.dot(v1,v2) / (lengthV1 * lengthV2)))\n",
    "print('Angle between Vectors:  %s' %ang)"
   ]
  },
  {
   "cell_type": "markdown",
   "metadata": {},
   "source": [
    "##### Plotting above vectors :"
   ]
  },
  {
   "cell_type": "code",
   "execution_count": null,
   "metadata": {},
   "outputs": [],
   "source": [
    "v1 = np.array([4,3])\n",
    "v2 = np.array([-3,4])\n",
    "plt.plot([0,v1[0]] , [0,v1[1]] , 'r' , label = 'v1')\n",
    "plt.plot([0,v2[0]],[0,v2[1]], 'b' , label = 'v2')\n",
    "plt.axhline(c='k') # For plotting x axis\n",
    "plt.axvline(c='k') # For plotting y axis\n",
    "plt.grid()\n",
    "plt.axis((-5, 5, -3, 5)) ## first two value is min and max limit of x axis and second two value is min and max limit of y axis\n",
    "plt.legend()\n",
    "plt.title(f'Angle between Vectors v1 &v2 is :{ang}')\n",
    "plt.show()"
   ]
  },
  {
   "cell_type": "markdown",
   "metadata": {},
   "source": [
    "####  Note: For plotting part: Go through my plotting module. Will be published soon. "
   ]
  },
  {
   "cell_type": "markdown",
   "metadata": {},
   "source": [
    "#### Few  simple functions at last "
   ]
  },
  {
   "cell_type": "code",
   "execution_count": null,
   "metadata": {},
   "outputs": [],
   "source": [
    "b=np.array([3.234566777005670000,2.6756757657567,3.675675643,4.78687667868768,5.7656756756])\n",
    "b"
   ]
  },
  {
   "cell_type": "code",
   "execution_count": null,
   "metadata": {},
   "outputs": [],
   "source": [
    "np.round(b)"
   ]
  },
  {
   "cell_type": "code",
   "execution_count": null,
   "metadata": {},
   "outputs": [],
   "source": [
    "np.round(b,3)"
   ]
  },
  {
   "cell_type": "code",
   "execution_count": null,
   "metadata": {},
   "outputs": [],
   "source": [
    "np.ceil(b)"
   ]
  },
  {
   "cell_type": "code",
   "execution_count": null,
   "metadata": {},
   "outputs": [],
   "source": [
    "np.floor(b)"
   ]
  },
  {
   "cell_type": "markdown",
   "metadata": {},
   "source": [
    "##### np.tile"
   ]
  },
  {
   "cell_type": "code",
   "execution_count": null,
   "metadata": {},
   "outputs": [],
   "source": [
    "M1= np.array([[1, 2], [3, 4]])\n",
    "print(M1)\n",
    "np.tile(M1, 2)"
   ]
  },
  {
   "cell_type": "markdown",
   "metadata": {},
   "source": [
    "#### np.repeat"
   ]
  },
  {
   "cell_type": "code",
   "execution_count": null,
   "metadata": {},
   "outputs": [],
   "source": [
    "x = np.array([[1,2],[3,4]])\n",
    "print(x)\n",
    "np.repeat(x, 2)\n"
   ]
  },
  {
   "cell_type": "code",
   "execution_count": null,
   "metadata": {},
   "outputs": [],
   "source": [
    "np.repeat(x, 3, axis=1)   # Explain what happens."
   ]
  },
  {
   "cell_type": "code",
   "execution_count": null,
   "metadata": {},
   "outputs": [],
   "source": [
    "np.repeat(x, 3, axis=0)   # Explain what happens."
   ]
  },
  {
   "cell_type": "code",
   "execution_count": null,
   "metadata": {},
   "outputs": [],
   "source": [
    "np.repeat(x, [1, 2], axis=0) # Explain what happens"
   ]
  },
  {
   "cell_type": "code",
   "execution_count": null,
   "metadata": {},
   "outputs": [],
   "source": [
    "np.repeat(x, [3, 2], axis=0) # Explain what happens."
   ]
  },
  {
   "cell_type": "markdown",
   "metadata": {},
   "source": [
    "##### Reference:Python for Data Analysis: Wes Mickinney"
   ]
  },
  {
   "cell_type": "markdown",
   "metadata": {},
   "source": [
    "#### This much for this module.\n",
    "#### Feel Free to Share and Distribute.\n",
    "#### Don't forget to follow me for more such stuff.\n",
    "#### https://github.com/Rami-RK/Python_Starter\n",
    "#### https://www.linkedin.com/in/ramendra-kumar-57334478"
   ]
  },
  {
   "cell_type": "markdown",
   "metadata": {},
   "source": [
    "### Thank You !"
   ]
  }
 ],
 "metadata": {
  "kernelspec": {
   "display_name": "Python 3",
   "language": "python",
   "name": "python3"
  },
  "language_info": {
   "codemirror_mode": {
    "name": "ipython",
    "version": 3
   },
   "file_extension": ".py",
   "mimetype": "text/x-python",
   "name": "python",
   "nbconvert_exporter": "python",
   "pygments_lexer": "ipython3",
   "version": "3.7.1"
  }
 },
 "nbformat": 4,
 "nbformat_minor": 1
}
