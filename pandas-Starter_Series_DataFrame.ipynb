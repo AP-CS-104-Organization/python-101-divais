{
 "cells": [
  {
   "cell_type": "markdown",
   "metadata": {},
   "source": [
    "## Pandas Starter "
   ]
  },
  {
   "cell_type": "code",
   "execution_count": null,
   "metadata": {},
   "outputs": [],
   "source": [
    "import pandas as pd           # importing pandas \n",
    "import numpy as np            # importing numpy\n",
    "print(np.__version__)         # Checking version of numpy\n",
    "print(pd.__version__)         # checking version of pandas\n",
    "# @ Author: Ramendra Kumar"
   ]
  },
  {
   "cell_type": "markdown",
   "metadata": {},
   "source": [
    "### Two Data Structures in Pandas: A. Series & B. DataFrame"
   ]
  },
  {
   "cell_type": "markdown",
   "metadata": {},
   "source": [
    "## A. Series\n",
    "* It is NumPy 1D array like data structure with index attached for each member/element.\n",
    "* It is like dictionary and can be used in many contexts where dictionary might be used.\n",
    "### 1. Making Series"
   ]
  },
  {
   "cell_type": "code",
   "execution_count": null,
   "metadata": {},
   "outputs": [],
   "source": [
    "s1=pd.Series([10,20,30,40,50])  # Series with Default index starting from zero.\n",
    "print(s1)\n",
    "print(s1.index)"
   ]
  },
  {
   "cell_type": "code",
   "execution_count": null,
   "metadata": {},
   "outputs": [],
   "source": [
    "# Making Series with user defind index values.\n",
    "s2=pd.Series([4.5,7.2,-5.3,3.6],index=['d','b','a','c'])\n",
    "s2"
   ]
  },
  {
   "cell_type": "code",
   "execution_count": null,
   "metadata": {},
   "outputs": [],
   "source": [
    "# Making Series from Dictionary\n",
    "fruit={'Apple':5,'Mango':10,'Banana':3,'Grape':8,'Orange':3}\n",
    "print(fruit)\n",
    "s_fruit1=pd.Series(fruit)\n",
    "print(s_fruit1)"
   ]
  },
  {
   "cell_type": "code",
   "execution_count": null,
   "metadata": {},
   "outputs": [],
   "source": [
    "s_fruit1=pd.Series(fruit)\n",
    "s_fruit1"
   ]
  },
  {
   "cell_type": "markdown",
   "metadata": {},
   "source": [
    "### 2. Changing the index of Series and Naming Series and its index"
   ]
  },
  {
   "cell_type": "code",
   "execution_count": null,
   "metadata": {},
   "outputs": [],
   "source": [
    "s1=pd.Series([1,2,3,4,5])\n",
    "print(s1)\n",
    "s1.index=['Bob','John','Adam','Mathew','Smith'] ## Define new index by simply applyiing index on series and assigning new index.\n",
    "s1.index.name='Name of student'\n",
    "s1.name='Number of absentism of students'\n",
    "s1"
   ]
  },
  {
   "cell_type": "markdown",
   "metadata": {},
   "source": [
    "### 3. Changing order of index value pair --->  .reindex "
   ]
  },
  {
   "cell_type": "code",
   "execution_count": null,
   "metadata": {},
   "outputs": [],
   "source": [
    "# Using above list s1 we want to display this seris with sorted Name of student\n",
    "s1"
   ]
  },
  {
   "cell_type": "code",
   "execution_count": null,
   "metadata": {},
   "outputs": [],
   "source": [
    "name_list=['Bob','John','Adam','Mathew','Smith']\n",
    "sorted(name_list)"
   ]
  },
  {
   "cell_type": "code",
   "execution_count": null,
   "metadata": {},
   "outputs": [],
   "source": [
    "name_list.sort() ## We can use this as well. list itself get sorted."
   ]
  },
  {
   "cell_type": "code",
   "execution_count": null,
   "metadata": {},
   "outputs": [],
   "source": [
    "s1.reindex(sorted(name_list)) # Display only, we have to save it in another variable to use or assign it to s1 to update it."
   ]
  },
  {
   "cell_type": "code",
   "execution_count": null,
   "metadata": {},
   "outputs": [],
   "source": [
    "# OR we can write the index in order we want making list as given below. \n",
    "# Only existing index are allowed, else there will be a nan value.NaN for 'Ramen', which was not available initially. \n",
    "s1.reindex(['Mathew','Smith','Adam','John','Bob','Ramen'])"
   ]
  },
  {
   "cell_type": "markdown",
   "metadata": {},
   "source": [
    "### 4. Few operations in Series"
   ]
  },
  {
   "cell_type": "code",
   "execution_count": null,
   "metadata": {},
   "outputs": [],
   "source": [
    "# Getting index  and value. Using above series s1:\n",
    "print(s1,'\\n')\n",
    "print(s1.index,'\\n')  #  \n",
    "print(s1.values)  # It gives values in the form of 1D numpy array"
   ]
  },
  {
   "cell_type": "code",
   "execution_count": null,
   "metadata": {},
   "outputs": [],
   "source": [
    "print(type(s1.index)) ## Checking data type of result obtained\n",
    "print(type(s1.values))"
   ]
  },
  {
   "cell_type": "code",
   "execution_count": null,
   "metadata": {},
   "outputs": [],
   "source": [
    "print(s1.index[2])   #  Slicing opertion like 1D array can be used in result of s1.index and s1.values \n",
    "print(s1.values[3])  #  "
   ]
  },
  {
   "cell_type": "code",
   "execution_count": null,
   "metadata": {},
   "outputs": [],
   "source": [
    "# Slicing of Series: Passing index on square bracket applied on series name, we can get corresponding value of index.\n",
    "print(s1['Smith'])    # For getting single index value\n",
    "s1[['Bob','Mathew']]  # For getting value of multiple index pass as list of index"
   ]
  },
  {
   "cell_type": "code",
   "execution_count": null,
   "metadata": {},
   "outputs": [],
   "source": [
    "'Bob' in s1   # Checking for any index available in series or not"
   ]
  },
  {
   "cell_type": "code",
   "execution_count": null,
   "metadata": {},
   "outputs": [],
   "source": [
    "'Ramen' in s2  # Checking for any index available in series or not"
   ]
  },
  {
   "cell_type": "code",
   "execution_count": null,
   "metadata": {},
   "outputs": [],
   "source": [
    "### Assigning new value to any index of  a series\n",
    "print(s1,'\\n')\n",
    "s1['Adam']=333 # Assigning 333 to Adam, now its previous value 3 is replaced with 333 \n",
    "print(s1)  ## Check with previous printed s1"
   ]
  },
  {
   "cell_type": "code",
   "execution_count": null,
   "metadata": {},
   "outputs": [],
   "source": [
    "### Multiple index can be assigned at onece. pass list of index to be assigned in square bracket \n",
    "s1[['Bob','Smith']]=[111,555] # for right side both list and tuple will work\n",
    "print(s1)"
   ]
  },
  {
   "cell_type": "markdown",
   "metadata": {},
   "source": [
    "### 5. Arithmetic and Data Alignment"
   ]
  },
  {
   "cell_type": "code",
   "execution_count": null,
   "metadata": {},
   "outputs": [],
   "source": [
    "# Two Series addition \n",
    "s1=pd.Series(np.arange(5),index=['a','b','c','d','e'])\n",
    "s2=pd.Series(np.arange(1,10,2),index=['a','c','e','g','i'])\n",
    "print('s1 =\\n', s1,'\\n')\n",
    "print('s2 =\\n', s2,'\\n')\n",
    "print('sum of above two =\\n',s1+s2)# Internal data alignment introduces missing values in the label that don't overlap.\n",
    "# Resulting index will be the union of the index pair. But addition operation is on intersection"
   ]
  },
  {
   "cell_type": "code",
   "execution_count": null,
   "metadata": {},
   "outputs": [],
   "source": [
    "# Same above operatin can be done with .add function.\n",
    "s1.add(s2,fill_value=0) # we can pass andy value to  'fill value'   for all NaN replaced with that\n",
    "# Compare the result with above s1+s2 operation"
   ]
  },
  {
   "cell_type": "markdown",
   "metadata": {},
   "source": [
    "#### Arithmetic methods : Try own your own.\n",
    "    add  : for  -->(+)\n",
    "    \n",
    "    sub  : for -->(-)   Ex. --> s1.sub(s2) --> this gives s1-s2\n",
    "    rsub : s1.rsub(s2) -->this gives s2-s1 : 'r' for reversing the order of subtraction\n",
    "    div, rdiv : for --> (/)  : 'r' for reversing the order of division\n",
    "    floordiv, rfloordiv >(//)\n",
    "    mul , rmul >(*)\n",
    "    pow , rpow >(**)"
   ]
  },
  {
   "cell_type": "markdown",
   "metadata": {},
   "source": [
    "###  6. Numpy functions on Series\n",
    "* Series supports  Numpy functions or NumPy-like operations, such as filtering with a boolean array, scalar multiplication, or applying math functions with preserving the index-value link."
   ]
  },
  {
   "cell_type": "code",
   "execution_count": null,
   "metadata": {},
   "outputs": [],
   "source": [
    "s2=pd.Series([5,4.5,7.2,5.3,3.6,2.5],index=['d','b','a','c','e','f'])\n",
    "s2"
   ]
  },
  {
   "cell_type": "code",
   "execution_count": null,
   "metadata": {},
   "outputs": [],
   "source": [
    "s2>=4.5 ## Comparison Statement it compare with each value of series like NumPy array.Result will be boolean series"
   ]
  },
  {
   "cell_type": "code",
   "execution_count": null,
   "metadata": {},
   "outputs": [],
   "source": [
    "s2[s2>=4.5] ## Slicing with  above boolean series, only index value paired with True will be in sliced Series"
   ]
  },
  {
   "cell_type": "code",
   "execution_count": null,
   "metadata": {},
   "outputs": [],
   "source": [
    "s2*6 ## Multiplied to each value as in  array"
   ]
  },
  {
   "cell_type": "code",
   "execution_count": null,
   "metadata": {},
   "outputs": [],
   "source": [
    "np.exp(s2) ## Exponential of each value is calculated as in array"
   ]
  },
  {
   "cell_type": "markdown",
   "metadata": {},
   "source": [
    "## B. DataFrame \n",
    "* It is rectangular table of data and contains an ordered collection of columns, each of which can be a different value type:numeric, string, boolean, etc.It has both a row and column index.\n",
    "### 1. Making DataFrame "
   ]
  },
  {
   "cell_type": "code",
   "execution_count": null,
   "metadata": {},
   "outputs": [],
   "source": [
    "# Dictiionary of equal lenght list can be used to construct a DataFrame\n",
    "data={'Name':['Ramen','Ankur','Vinayak','Rahul','Divya','Sarthak','Adam'],\n",
    "      'Subject Stream':['English','Maths','Biology','Physics',\n",
    "                        'Computing','English','Math'],\n",
    "      'Score':[435,234,986,562,12,600,900]}\n",
    "data"
   ]
  },
  {
   "cell_type": "code",
   "execution_count": null,
   "metadata": {},
   "outputs": [],
   "source": [
    "f1=pd.DataFrame(data) #Passing the above dict to make DataFrame,index is automatically added, can be edited as in Series\n",
    "f1        # Keys of dictionary became the columns header and each value (list) become rows of that column. "
   ]
  },
  {
   "cell_type": "code",
   "execution_count": null,
   "metadata": {},
   "outputs": [],
   "source": [
    "### Making DataFrame by passing data, columns and index seperately\n",
    "\n",
    "data=np.arange(1,13).reshape(3,4) ## Using numpy function for making an array of shape(3,4) \n",
    "print(data,'\\n')\n",
    "f2=pd.DataFrame(data, columns=['A','B','C','D'],index=['X','Y','Z'])# Assigning column and index for making DataFrame\n",
    "f2"
   ]
  },
  {
   "cell_type": "markdown",
   "metadata": {},
   "source": [
    "### 2. Getting row and column index and converting it into a list."
   ]
  },
  {
   "cell_type": "code",
   "execution_count": null,
   "metadata": {},
   "outputs": [],
   "source": [
    "f2.index"
   ]
  },
  {
   "cell_type": "code",
   "execution_count": null,
   "metadata": {},
   "outputs": [],
   "source": [
    "f2.index.to_list()"
   ]
  },
  {
   "cell_type": "code",
   "execution_count": null,
   "metadata": {},
   "outputs": [],
   "source": [
    "f2.columns"
   ]
  },
  {
   "cell_type": "code",
   "execution_count": null,
   "metadata": {},
   "outputs": [],
   "source": [
    "f2.columns.to_list()"
   ]
  },
  {
   "cell_type": "markdown",
   "metadata": {},
   "source": [
    "##### Similarly .values gives all the data except column and row index as 2D NumPy array."
   ]
  },
  {
   "cell_type": "code",
   "execution_count": null,
   "metadata": {},
   "outputs": [],
   "source": [
    "f2.values"
   ]
  },
  {
   "cell_type": "markdown",
   "metadata": {},
   "source": [
    "### 3. Renaming Column and  Row index:  .rename()"
   ]
  },
  {
   "cell_type": "code",
   "execution_count": null,
   "metadata": {},
   "outputs": [],
   "source": [
    "f2=pd.DataFrame(np.arange(1,13).reshape(3,4), columns=['A','B','C','D'],index=['X','Y','Z'])# Assigning column and index for making DataFrame\n",
    "f2"
   ]
  },
  {
   "cell_type": "code",
   "execution_count": null,
   "metadata": {},
   "outputs": [],
   "source": [
    "# Changing column name\n",
    "f2.rename({'A':'Apple','B':'Banana','C':'Cherry','D':'Dates'},axis=1,inplace=True)\n",
    "f2   # Pass a dictionary with key as old index name and value as new index to be changed,axis=1 for columns.\n",
    "     # inplace = True--> it permanently changes the initial DataFrame. Without this argument, the operation only create\n",
    "     # a display and initial DataFrame remains unchanged."
   ]
  },
  {
   "cell_type": "code",
   "execution_count": null,
   "metadata": {},
   "outputs": [],
   "source": [
    "# changing row name, similar as above, axis=0 for rows.\n",
    "f2.rename({'X':'X-Man','Y':'Yo-Yo','Z':'Zen_Monk'},axis=0,inplace=True)\n",
    "f2"
   ]
  },
  {
   "cell_type": "markdown",
   "metadata": {},
   "source": [
    "### 4. Reshuffles the existing columns/rows index : .reindex()\n",
    "* Note : reindex only reshuffles the existing columns or rows as given below. for any new index, a NaN value is generated."
   ]
  },
  {
   "cell_type": "code",
   "execution_count": null,
   "metadata": {},
   "outputs": [],
   "source": [
    "f2.reindex(['Dates','Banana','Apple','Cherry'],axis=1) \n",
    "# It is just a display.Initial f2 remains unchanged untill assigned with this result like written below:\n",
    "# f2=f2.reindex(['Dates','Banana','Apple','Cherry'],axis=1)"
   ]
  },
  {
   "cell_type": "code",
   "execution_count": null,
   "metadata": {},
   "outputs": [],
   "source": [
    "f2.reindex(['Zen_Monk','X-Man','Yo-Yo']) # By default axis=0 is applied, thus row index is reshuffled"
   ]
  },
  {
   "cell_type": "markdown",
   "metadata": {},
   "source": [
    "### 5. Adding  column to existing DataFrame"
   ]
  },
  {
   "cell_type": "code",
   "execution_count": null,
   "metadata": {},
   "outputs": [],
   "source": [
    "# Using f1 DataFrame again:\n",
    "# Using dictionary for making DataFrame f1\n",
    "data={'Name':['Ramen','Ankur','Vinayak','Rahul','Divya','Sarthak','Adam'],\n",
    "      'Subject Stream':['English','Maths','Biology','Physics',\n",
    "                        'Computing','English','Math'],\n",
    "      'Score':[435,234,986,562,12,600,900]}\n",
    "f1=pd.DataFrame(data) #Passing the above dict to make DataFrame,index is automatically added, can be edited as in Series\n",
    "f1 "
   ]
  },
  {
   "cell_type": "markdown",
   "metadata": {},
   "source": [
    "##### Adding single column"
   ]
  },
  {
   "cell_type": "code",
   "execution_count": null,
   "metadata": {},
   "outputs": [],
   "source": [
    "f1['Remarks']=['G','BA','Exceptional','Average','Fail','AA','Excellent']\n",
    "f1"
   ]
  },
  {
   "cell_type": "markdown",
   "metadata": {},
   "source": [
    "######  Adding Multiple columns"
   ]
  },
  {
   "cell_type": "code",
   "execution_count": null,
   "metadata": {},
   "outputs": [],
   "source": [
    "f1[['Grade','CGPA']]=pd.DataFrame(np.array([['C+','C','A+','B','F','B+','A'],[6,5,10,7,4,8,9]]).T)\n",
    "f1"
   ]
  },
  {
   "cell_type": "markdown",
   "metadata": {},
   "source": [
    "##### RHS of above operation is explained  below in three step:"
   ]
  },
  {
   "cell_type": "code",
   "execution_count": null,
   "metadata": {},
   "outputs": [],
   "source": [
    "np.array([['C+','C','A+','B','F','B+','A'],[6,5,10,7,4,8,9]]) # Making array for value of Grade and CGPA"
   ]
  },
  {
   "cell_type": "code",
   "execution_count": null,
   "metadata": {},
   "outputs": [],
   "source": [
    "np.array([['C+','C','A+','B','F','B+','A'],[6,5,10,7,4,8,9]]).T # transposing it to make two column "
   ]
  },
  {
   "cell_type": "code",
   "execution_count": null,
   "metadata": {},
   "outputs": [],
   "source": [
    "## Converting into DataFrame to assign with new columns name in existing DataFrame f1.\n",
    "pd.DataFrame(np.array([['C+','C','A+','B','F','B+','A'],[6,5,10,7,4,8,9]]).T)"
   ]
  },
  {
   "cell_type": "markdown",
   "metadata": {},
   "source": [
    "### 6. Making a different  unique columns as row index: .set_index(  'column index to be set' )\n",
    "###  & Resetting it again: .reset_index"
   ]
  },
  {
   "cell_type": "code",
   "execution_count": null,
   "metadata": {},
   "outputs": [],
   "source": [
    "# Using f1 DataFrame for this operation\n",
    "df=f1.copy()  # Note in this DataFrame default index is applied.Now we want to change it with another unique column."
   ]
  },
  {
   "cell_type": "code",
   "execution_count": null,
   "metadata": {},
   "outputs": [],
   "source": [
    "df"
   ]
  },
  {
   "cell_type": "code",
   "execution_count": null,
   "metadata": {},
   "outputs": [],
   "source": [
    "df['Name'].is_unique # Checking whethe the column Name has unique entries or not"
   ]
  },
  {
   "cell_type": "code",
   "execution_count": null,
   "metadata": {},
   "outputs": [],
   "source": [
    "# DataFrame.set_index(keys, drop=True, append=False, inplace=False, verify_integrity=False)\n",
    "# drop--> Delete columns to be used as the new index. default True\n",
    "# append-->, default False : Whether to append columns to existing index."
   ]
  },
  {
   "cell_type": "code",
   "execution_count": null,
   "metadata": {},
   "outputs": [],
   "source": [
    "df.set_index('Name',drop=True,append=False,inplace=True) # Now making Name column as index"
   ]
  },
  {
   "cell_type": "code",
   "execution_count": null,
   "metadata": {},
   "outputs": [],
   "source": [
    "df"
   ]
  },
  {
   "cell_type": "code",
   "execution_count": null,
   "metadata": {},
   "outputs": [],
   "source": [
    "df.set_index('Grade',drop=False,append=False)#,inplace=True)"
   ]
  },
  {
   "cell_type": "code",
   "execution_count": null,
   "metadata": {},
   "outputs": [],
   "source": [
    "df"
   ]
  },
  {
   "cell_type": "markdown",
   "metadata": {},
   "source": [
    "##### Resetting again"
   ]
  },
  {
   "cell_type": "code",
   "execution_count": null,
   "metadata": {},
   "outputs": [],
   "source": [
    "df.reset_index(drop=False,inplace=True)\n",
    "# It again reset the index, drop is False by default, if True,it drops the index columns"
   ]
  },
  {
   "cell_type": "code",
   "execution_count": null,
   "metadata": {},
   "outputs": [],
   "source": [
    "df"
   ]
  },
  {
   "cell_type": "markdown",
   "metadata": {},
   "source": [
    "##### Note: Like series index of DataFrame can be changed like this as well :"
   ]
  },
  {
   "cell_type": "code",
   "execution_count": null,
   "metadata": {},
   "outputs": [],
   "source": [
    "df.index=['one','two','three','four','five','six','seven'] ## We are changing index \n",
    "df"
   ]
  },
  {
   "cell_type": "markdown",
   "metadata": {},
   "source": [
    "### 7. Making DataFrame from nested dictionary"
   ]
  },
  {
   "cell_type": "code",
   "execution_count": null,
   "metadata": {},
   "outputs": [],
   "source": [
    "#Nested dictionary can be passed to form DataFrame, \n",
    "#where outer keys form the column name and inner key becomes the rows\n",
    "int_rate={'SBI':{2001:5,2005:7,2009:12},'PNB':{2001:6,2005:7,2010:9}}\n",
    "# This is nested dictionary\n",
    "print(int_rate)\n",
    "Int_rate=pd.DataFrame(int_rate)\n",
    "Int_rate"
   ]
  },
  {
   "cell_type": "markdown",
   "metadata": {},
   "source": [
    "##### Any DataFrame can be transpose like NumPy array by applying .T"
   ]
  },
  {
   "cell_type": "code",
   "execution_count": null,
   "metadata": {},
   "outputs": [],
   "source": [
    "Int_rate.T"
   ]
  },
  {
   "cell_type": "markdown",
   "metadata": {},
   "source": [
    "### 8. Getting information about the DataFrame"
   ]
  },
  {
   "cell_type": "code",
   "execution_count": null,
   "metadata": {},
   "outputs": [],
   "source": [
    "df.head()"
   ]
  },
  {
   "cell_type": "code",
   "execution_count": null,
   "metadata": {},
   "outputs": [],
   "source": [
    "df.tail()"
   ]
  },
  {
   "cell_type": "code",
   "execution_count": null,
   "metadata": {},
   "outputs": [],
   "source": [
    "df.info()"
   ]
  },
  {
   "cell_type": "code",
   "execution_count": null,
   "metadata": {},
   "outputs": [],
   "source": [
    "df.dtypes"
   ]
  },
  {
   "cell_type": "code",
   "execution_count": null,
   "metadata": {},
   "outputs": [],
   "source": [
    "type(df)"
   ]
  },
  {
   "cell_type": "markdown",
   "metadata": {},
   "source": [
    "### 9. Retrieving and Manipulating Rows , Columns"
   ]
  },
  {
   "cell_type": "code",
   "execution_count": null,
   "metadata": {},
   "outputs": [],
   "source": [
    "## Using above DataFrame\n",
    "df"
   ]
  },
  {
   "cell_type": "code",
   "execution_count": null,
   "metadata": {},
   "outputs": [],
   "source": [
    "# Retrieval of a column: Passing column name as a string inside square bracket applied on DataFrame.\n",
    "df['Name'] # or >> f1.Name # But for later, 'column name' should be a valid variable name.\n",
    "# Assignment is also valid : f2=f1['Name']"
   ]
  },
  {
   "cell_type": "code",
   "execution_count": null,
   "metadata": {},
   "outputs": [],
   "source": [
    "# Retrieval of multiple columns: pass list of columns to be retrive or slice inside square bracket\n",
    "df[['Name','Score','CGPA']]"
   ]
  },
  {
   "cell_type": "code",
   "execution_count": null,
   "metadata": {},
   "outputs": [],
   "source": [
    "# Applying .values will result in 2D arrays of values only (Except rows and column index) of that sliced DataFrame.\n",
    "df[['Name','Score','CGPA']].values"
   ]
  },
  {
   "cell_type": "markdown",
   "metadata": {},
   "source": [
    "##### Slicing rows having specific value in any column using comparison statement :"
   ]
  },
  {
   "cell_type": "code",
   "execution_count": null,
   "metadata": {},
   "outputs": [],
   "source": [
    "df['Subject Stream']=='English'  ## Comparison statement\n",
    "# Results in boolean series : having True for those rows having \"English\" on 'Subject Stream'  and 'False ' for all else."
   ]
  },
  {
   "cell_type": "code",
   "execution_count": null,
   "metadata": {},
   "outputs": [],
   "source": [
    "df[df['Subject Stream']=='English'] \n",
    "# Passing the boolean inside the square bracket gives only rows paired with True ,\n",
    "# i.e. rows having 'Subject Stream' is 'English'  "
   ]
  },
  {
   "cell_type": "markdown",
   "metadata": {},
   "source": [
    "####    Using   --> .loc[ ]   and   .iloc[ ]   -->    for slicing and retrieval of any rows and columns or combination of both.\n",
    "* .loc[ ]  : Used for label based index for getting rows and columns\n",
    "* .iloc[ ]  : Used for default integer  based index for getting location of rows or columns"
   ]
  },
  {
   "cell_type": "code",
   "execution_count": null,
   "metadata": {},
   "outputs": [],
   "source": [
    "# Using above DataFrame \n",
    "df"
   ]
  },
  {
   "cell_type": "code",
   "execution_count": null,
   "metadata": {},
   "outputs": [],
   "source": [
    "df.to_excel(r'C:\\Users\\Ramendra\\Desktop\\df.xlsx')"
   ]
  },
  {
   "cell_type": "markdown",
   "metadata": {},
   "source": [
    "#### Getting Rows"
   ]
  },
  {
   "cell_type": "code",
   "execution_count": null,
   "metadata": {},
   "outputs": [],
   "source": [
    "# Getting Single row: Pass row as a string inside square bracket\n",
    "df.loc['one'] # Here 'one' is label of first row  , but its default integer index is 0 and increses by 1 for next rows."
   ]
  },
  {
   "cell_type": "code",
   "execution_count": null,
   "metadata": {},
   "outputs": [],
   "source": [
    "# Getting Mutiple rows : Pass the list of rows you want.\n",
    "df.loc[['one','three','six']] "
   ]
  },
  {
   "cell_type": "markdown",
   "metadata": {},
   "source": [
    "* Above two operation using .iloc [ ]"
   ]
  },
  {
   "cell_type": "code",
   "execution_count": null,
   "metadata": {},
   "outputs": [],
   "source": [
    "# Getting Single row: Pass default integer index for  first  row which is 0 \n",
    "df.iloc[0] # Here 'one' is label of first row  , but its default integer index is 0 and increses by 1 for next rows."
   ]
  },
  {
   "cell_type": "code",
   "execution_count": null,
   "metadata": {},
   "outputs": [],
   "source": [
    "# Getting Multiple row: Pass list of default integer index for  rows you want.\n",
    "df.iloc[[0,2,5]] # Here 0,2,5 are the default integer indexes for 'one','three' and 'six' labelled rows, \n",
    "# thus passed as list inside square bracket of .iloc[ ]"
   ]
  },
  {
   "cell_type": "markdown",
   "metadata": {},
   "source": [
    "#### Getting both Rows and Columns "
   ]
  },
  {
   "cell_type": "code",
   "execution_count": null,
   "metadata": {},
   "outputs": [],
   "source": [
    "# Getting single row and single column: Pass row label  and column label inside square with coma in between\n",
    "df.loc['three','Score'] # Note values before coma(',') is for rows and values after coma (',') is for columns (Always)."
   ]
  },
  {
   "cell_type": "code",
   "execution_count": null,
   "metadata": {
    "scrolled": true
   },
   "outputs": [],
   "source": [
    "# Getting Multiple rows and Multiple columns: Pass list of rows label  and list of  columns label inside square with coma in between\n",
    "df.loc[['three','seven'],['Name','Score']] \n",
    "# Note values before coma(',') is for rows and values after coma (',') is for columns (Always)."
   ]
  },
  {
   "cell_type": "markdown",
   "metadata": {},
   "source": [
    "* Above two operation using .iloc [ ]"
   ]
  },
  {
   "cell_type": "code",
   "execution_count": null,
   "metadata": {},
   "outputs": [],
   "source": [
    "# Getting single row and single column: Pass default row and column label index inside square with coma in between.\n",
    "# Default row and column index starts from 0. For 'Score' column default index is 2 and for row-'three' default index is 2.\n",
    "df.iloc[2,2] # Note values before coma(',') is for rows and values after coma (',') is for columns (Always)."
   ]
  },
  {
   "cell_type": "code",
   "execution_count": null,
   "metadata": {},
   "outputs": [],
   "source": [
    "# Getting Multiple rows and Multiple columns: \n",
    "# Pass list of default indexes of rows and columns  inside square with coma in between\n",
    "df.iloc[[2,6],[0,2]] "
   ]
  },
  {
   "attachments": {
    "loc%20&%20iloc.PNG": {
     "image/png": "[encoded data removed]"
    }
   },
   "cell_type": "markdown",
   "metadata": {},
   "source": [
    "#### Visualization & Understanding . loc [  ]  &  . iloc[  ]\n",
    "![loc%20&%20iloc.PNG](attachment:loc%20&%20iloc.PNG)\n",
    "##### Note: Default indexes of columns from right to left  are : -1 (Right most column),-2 (Second right most column) ,-3....and so on.\n",
    "##### Note: Default indexes or rows from bottom to top are : -1,-2,-3... and so on."
   ]
  },
  {
   "cell_type": "markdown",
   "metadata": {},
   "source": [
    "###### Try following syntax and check on image above"
   ]
  },
  {
   "cell_type": "code",
   "execution_count": null,
   "metadata": {},
   "outputs": [],
   "source": [
    "df.iloc[:,4] ## All rows (:) and 4rth column . Default index --> .iloc"
   ]
  },
  {
   "cell_type": "code",
   "execution_count": null,
   "metadata": {},
   "outputs": [],
   "source": [
    "df.iloc[4,:] ## 4rth row and all columns(:) . Default index --> .iloc"
   ]
  },
  {
   "cell_type": "code",
   "execution_count": null,
   "metadata": {},
   "outputs": [],
   "source": [
    "df.iloc[:5,:]  # from the very beginning to 4rth row only (value after colon (:) is not included) and all columns. \n",
    "# Default index --> .iloc"
   ]
  },
  {
   "cell_type": "code",
   "execution_count": null,
   "metadata": {},
   "outputs": [],
   "source": [
    "df.iloc[4:,:] # from 4rth rows to last rows and all columns,value before colon is always included.\n",
    "# Default index --> .iloc"
   ]
  },
  {
   "cell_type": "code",
   "execution_count": null,
   "metadata": {},
   "outputs": [],
   "source": [
    "df.iloc[2:5,:] # from 2nd row to 4 rth row and all column\n",
    "# Default index --> .iloc"
   ]
  },
  {
   "cell_type": "code",
   "execution_count": null,
   "metadata": {},
   "outputs": [],
   "source": [
    "df.iloc[2:5,3:6] ## Explain yourself"
   ]
  },
  {
   "cell_type": "code",
   "execution_count": null,
   "metadata": {},
   "outputs": [],
   "source": [
    "df.loc[:,'Grade'] ## All rows (:) and 'Grade' labelled  column"
   ]
  },
  {
   "cell_type": "code",
   "execution_count": null,
   "metadata": {},
   "outputs": [],
   "source": [
    "df.loc['five',:] # five labelled row all column"
   ]
  },
  {
   "cell_type": "code",
   "execution_count": null,
   "metadata": {},
   "outputs": [],
   "source": [
    "df.loc[:'five',:]  # from the very beginning to 5th row  (value after colon (:) is also  included in case of labelled row) and all columns. "
   ]
  },
  {
   "cell_type": "code",
   "execution_count": null,
   "metadata": {},
   "outputs": [],
   "source": [
    "df.iloc[-1] # Gives last row"
   ]
  },
  {
   "cell_type": "code",
   "execution_count": null,
   "metadata": {},
   "outputs": [],
   "source": [
    "df.iloc[:,-1] # Gives last column"
   ]
  },
  {
   "cell_type": "markdown",
   "metadata": {},
   "source": [
    "##### Similary you can try on your own : various combination of rows and columns."
   ]
  },
  {
   "cell_type": "code",
   "execution_count": null,
   "metadata": {},
   "outputs": [],
   "source": [
    "df"
   ]
  },
  {
   "cell_type": "markdown",
   "metadata": {},
   "source": [
    "* Check below a little different one but very useful:"
   ]
  },
  {
   "cell_type": "code",
   "execution_count": null,
   "metadata": {},
   "outputs": [],
   "source": [
    "df['Subject Stream']=='English' ## This is comparison statment gives boolean Series"
   ]
  },
  {
   "cell_type": "code",
   "execution_count": null,
   "metadata": {},
   "outputs": [],
   "source": [
    "df.loc[df['Subject Stream']=='English','Grade']\n",
    "# inside .loc , first argument could be boolean series or array  which selects rows paired with True.\n",
    "# Gives values of those rows of 'Grade column' which paired with True i.e. 'Grade' of rows with 'English' subject stream."
   ]
  },
  {
   "cell_type": "markdown",
   "metadata": {},
   "source": [
    "### 10. Exception in Slicing\n",
    "*  What we have seen till now:--> Column is sliced by passing column name as string inside square bracket when applied on DataFrame. \n",
    "###### BUT\n",
    "*  If we pass numerical values with colon, inside square bracket in any Dataframe it gives corresponding rows.\n",
    "*  See Examples below:"
   ]
  },
  {
   "cell_type": "code",
   "execution_count": null,
   "metadata": {},
   "outputs": [],
   "source": [
    "# For slicing column\n",
    "df['Remarks']"
   ]
  },
  {
   "cell_type": "markdown",
   "metadata": {},
   "source": [
    "###### BUT"
   ]
  },
  {
   "cell_type": "code",
   "execution_count": null,
   "metadata": {},
   "outputs": [],
   "source": [
    "df[2:5] ## from second to 4rth row"
   ]
  },
  {
   "cell_type": "code",
   "execution_count": null,
   "metadata": {},
   "outputs": [],
   "source": [
    "df[4:] # from 4rth to last row"
   ]
  },
  {
   "cell_type": "code",
   "execution_count": null,
   "metadata": {},
   "outputs": [],
   "source": [
    "df[:5] # from very beginning to the 4rth row"
   ]
  },
  {
   "cell_type": "markdown",
   "metadata": {},
   "source": [
    "* Note above operation of slicing is only valid when there is a colon with number."
   ]
  },
  {
   "cell_type": "markdown",
   "metadata": {},
   "source": [
    "### 11. Deleting Rows and Columns:   . drop( )"
   ]
  },
  {
   "cell_type": "code",
   "execution_count": null,
   "metadata": {},
   "outputs": [],
   "source": [
    "# Again using above DataFrame:--> df\n",
    "df"
   ]
  },
  {
   "cell_type": "code",
   "execution_count": null,
   "metadata": {},
   "outputs": [],
   "source": [
    "df.drop(['one','five'],axis=0)# for multiple row put the list of rows inside parenthesis.\n",
    "# for single row put the row index only given below.\n",
    "# axis=0 for deleting rows\n",
    "# This is a display only, and df will not be changed.Can be assigned to another variable.\n",
    "# passing an argument:  inplace=True , permanently deletes selected rows from df"
   ]
  },
  {
   "cell_type": "code",
   "execution_count": null,
   "metadata": {},
   "outputs": [],
   "source": [
    "df.drop('one',axis=0)# Deleting single row\n",
    "# This is a display only, and df will not be changed \n",
    "# passing an argument:  inplace=True ,permanently deletes selected rows from df"
   ]
  },
  {
   "cell_type": "code",
   "execution_count": null,
   "metadata": {},
   "outputs": [],
   "source": [
    "df.drop(['Name','Score','CGPA'],axis=1)# for multiple columns put the list of columns inside parenthesis.\n",
    "# for single column put the colum index only.given below\n",
    "# axis=0 for deleting rows\n",
    "# This is a display only, and df will not be changed \n",
    "# passing an argument:  inplace=True ,permanently deletes selected columns"
   ]
  },
  {
   "cell_type": "code",
   "execution_count": null,
   "metadata": {},
   "outputs": [],
   "source": [
    "df.drop('Score',axis=1) # Deleting single column."
   ]
  },
  {
   "cell_type": "markdown",
   "metadata": {},
   "source": [
    "##### del  is also used but it deletes only one column permanently at a time."
   ]
  },
  {
   "cell_type": "code",
   "execution_count": null,
   "metadata": {},
   "outputs": [],
   "source": [
    "del df['CGPA'] # 'CGPA' column permanently deleted from df column"
   ]
  },
  {
   "cell_type": "code",
   "execution_count": null,
   "metadata": {},
   "outputs": [],
   "source": [
    "df "
   ]
  },
  {
   "cell_type": "markdown",
   "metadata": {},
   "source": [
    "### 12. Arithmetic and Data Alignment"
   ]
  },
  {
   "cell_type": "code",
   "execution_count": null,
   "metadata": {},
   "outputs": [],
   "source": [
    "# DataFrame Addition\n",
    "df1=pd.DataFrame(np.arange(9).reshape((3,3)),\n",
    "                 columns=['apple','mango','banana'],\n",
    "                 index=['John','Jack','Jil'])\n",
    "df2=pd.DataFrame(np.arange(12).reshape((4,3)),\n",
    "                 columns=['apple','guava','banana'],\n",
    "                 index=['Adam','John','Jack','Jil'])\n",
    "print(df1,'\\n')\n",
    "print(df2,'\\n')\n",
    "print(df1+df2) ## Results sum for intersected elements only\n",
    "# Adding these together results in NaN values in the locations that don't overlap.\n",
    "# Another way of doing addition :\n",
    "df1.add(df2,fill_value=0) \n",
    "# we can put fill_value=0, which makes value zero for any entry not found in any one table\n",
    "# Thus avoids resulting NaN and retain all the previous informtion."
   ]
  },
  {
   "cell_type": "markdown",
   "metadata": {},
   "source": [
    "* There is still NaN for Adam in mango column as there is no value of mango for Adam in any table."
   ]
  },
  {
   "cell_type": "code",
   "execution_count": null,
   "metadata": {},
   "outputs": [],
   "source": [
    "df1.sub(df2,fill_value=0)"
   ]
  },
  {
   "cell_type": "code",
   "execution_count": null,
   "metadata": {},
   "outputs": [],
   "source": [
    "df1.rsub(df2,fill_value=0)# adding 'r' infront of 'sub', argument flipped as :>  df2-df1"
   ]
  },
  {
   "cell_type": "markdown",
   "metadata": {},
   "source": [
    "### 13. NumPy Element-wise array methods and Descriptive statistics with pandas objects"
   ]
  },
  {
   "cell_type": "code",
   "execution_count": null,
   "metadata": {},
   "outputs": [],
   "source": [
    "df1=pd.DataFrame((np.random.randint(1,20,12).reshape(4,3)),\n",
    "                 columns=['Mon','Tue','Wed'],\n",
    "                 index=['Mango','Jackfruit','W.Melon','Pineapple'])\n",
    "df1 "
   ]
  },
  {
   "cell_type": "code",
   "execution_count": null,
   "metadata": {},
   "outputs": [],
   "source": [
    "np.mean(df1,axis=1)"
   ]
  },
  {
   "cell_type": "code",
   "execution_count": null,
   "metadata": {},
   "outputs": [],
   "source": [
    "# OR\n",
    "df1.mean(axis=1)"
   ]
  },
  {
   "cell_type": "code",
   "execution_count": null,
   "metadata": {},
   "outputs": [],
   "source": [
    "df1.sum()  # by default axis=0"
   ]
  },
  {
   "cell_type": "code",
   "execution_count": null,
   "metadata": {},
   "outputs": [],
   "source": [
    "df1.sum(axis=1)"
   ]
  },
  {
   "cell_type": "code",
   "execution_count": null,
   "metadata": {},
   "outputs": [],
   "source": [
    "df1.cumsum() # calculates cumulative sum"
   ]
  },
  {
   "cell_type": "code",
   "execution_count": null,
   "metadata": {},
   "outputs": [],
   "source": [
    "np.min(df1)  # by default axis=0"
   ]
  },
  {
   "cell_type": "code",
   "execution_count": null,
   "metadata": {},
   "outputs": [],
   "source": [
    "np.min(df1,axis=1)"
   ]
  },
  {
   "cell_type": "code",
   "execution_count": null,
   "metadata": {},
   "outputs": [],
   "source": [
    "np.max(df1,axis=1)"
   ]
  },
  {
   "cell_type": "code",
   "execution_count": null,
   "metadata": {},
   "outputs": [],
   "source": [
    "np.power(df1,2)"
   ]
  },
  {
   "cell_type": "code",
   "execution_count": null,
   "metadata": {},
   "outputs": [],
   "source": [
    "np.exp(df1)"
   ]
  },
  {
   "cell_type": "code",
   "execution_count": null,
   "metadata": {},
   "outputs": [],
   "source": [
    "df1.describe()#this doesn't accept axis argument, describe can be used after Transposing ( .T ).check next syntax below:"
   ]
  },
  {
   "cell_type": "code",
   "execution_count": null,
   "metadata": {},
   "outputs": [],
   "source": [
    "(df1.T).describe()"
   ]
  },
  {
   "cell_type": "markdown",
   "metadata": {},
   "source": [
    "### 14. .apply() and .applymap()\n",
    "* Anonymous or Lambda Functions:"
   ]
  },
  {
   "cell_type": "code",
   "execution_count": null,
   "metadata": {},
   "outputs": [],
   "source": [
    "# General function for calculatng square of any number.\n",
    "def sqr_f(x):    \n",
    "    return x**2"
   ]
  },
  {
   "cell_type": "code",
   "execution_count": null,
   "metadata": {},
   "outputs": [],
   "source": [
    "# Calling function:\n",
    "sqr_f(6)"
   ]
  },
  {
   "cell_type": "code",
   "execution_count": null,
   "metadata": {},
   "outputs": [],
   "source": [
    "# Same above operation can be achieved using lambda function as given below:\n",
    "f1=lambda x:x**2\n",
    "# lambda is key word for making lambda function(also known as anonymous function) and x before colon is argument to be passed\n",
    "# expression after colon is operation performed on argument and returned"
   ]
  },
  {
   "cell_type": "code",
   "execution_count": null,
   "metadata": {},
   "outputs": [],
   "source": [
    "# Calling lambda function\n",
    "f1(6)"
   ]
  },
  {
   "cell_type": "code",
   "execution_count": null,
   "metadata": {},
   "outputs": [],
   "source": [
    "f_sum=lambda a,b:a+b # lambda function can take multiple argument as well"
   ]
  },
  {
   "cell_type": "code",
   "execution_count": null,
   "metadata": {},
   "outputs": [],
   "source": [
    "f_sum(3,4)"
   ]
  },
  {
   "cell_type": "code",
   "execution_count": null,
   "metadata": {},
   "outputs": [],
   "source": [
    "f2=lambda x:x.max()-x.min() # This is a lambda function which operates on series or array as argument.\n",
    "# It returns difference between  maximum and minimum value of a series passed as an argument. "
   ]
  },
  {
   "cell_type": "code",
   "execution_count": null,
   "metadata": {},
   "outputs": [],
   "source": [
    "S1=pd.Series([1,2,3,4,4,9])\n",
    "print(S1)\n",
    "f2(S1)  # calling lambda function f2 and passing S1 as an argument"
   ]
  },
  {
   "cell_type": "markdown",
   "metadata": {},
   "source": [
    "###### Note: ' apply ' --> method is used to applying a function on one dimensional array to each column or row as given below.\n",
    "* Each row and column can be think as of one dimensional array.\n",
    "* Note: apply acts on either row/rows or on column/columns."
   ]
  },
  {
   "cell_type": "code",
   "execution_count": null,
   "metadata": {},
   "outputs": [],
   "source": [
    "# using previous DataFrame df1\n",
    "df1"
   ]
  },
  {
   "cell_type": "code",
   "execution_count": null,
   "metadata": {},
   "outputs": [],
   "source": [
    "df1.apply(f2) # apply method is applied in DataFrame and function is passed\n",
    "# We haven't declared the axis thus it applies to axis zero(row-wise)automatically. \n",
    "# It gives maximum - minimum of each columns"
   ]
  },
  {
   "cell_type": "code",
   "execution_count": null,
   "metadata": {},
   "outputs": [],
   "source": [
    "df1.apply(f2,axis=1) # apply method is applied in DataFrame and function is passed\n",
    "# We have declared the axis=1 thus column-wise . \n",
    "# It gives maximum - minimum of each rows."
   ]
  },
  {
   "cell_type": "code",
   "execution_count": null,
   "metadata": {},
   "outputs": [],
   "source": [
    "f1=lambda x: pd.Series([x.min(),x.max()],index=['min','max'])\n",
    "df1.apply(f1,axis=0)"
   ]
  },
  {
   "cell_type": "code",
   "execution_count": null,
   "metadata": {},
   "outputs": [],
   "source": [
    "f=lambda x:pd.Series([x.min(), x.max()],index=['Max','Min'])\n",
    "df1.apply(f,axis=1)"
   ]
  },
  {
   "cell_type": "markdown",
   "metadata": {},
   "source": [
    "######  Note :  applymap --> method is another method for Element-wise python functions application."
   ]
  },
  {
   "cell_type": "code",
   "execution_count": null,
   "metadata": {},
   "outputs": [],
   "source": [
    "f3=lambda x: '%.2f' % x # this is a function which truncate any floating point to 2 decimal point\n",
    "## but returns as a string"
   ]
  },
  {
   "cell_type": "code",
   "execution_count": null,
   "metadata": {},
   "outputs": [],
   "source": [
    "a=3.5678910\n",
    "f3(a) # Notice the result is string"
   ]
  },
  {
   "cell_type": "code",
   "execution_count": null,
   "metadata": {},
   "outputs": [],
   "source": [
    "data=df1*2.5678910\n",
    "data \n",
    "# Now this is a table and we want only two points after decimal.applymap is used in such situation.See in next Syntax."
   ]
  },
  {
   "cell_type": "code",
   "execution_count": null,
   "metadata": {},
   "outputs": [],
   "source": [
    "data.applymap(f3)# f3 function is passed in applymap which acts on each element"
   ]
  },
  {
   "cell_type": "markdown",
   "metadata": {},
   "source": [
    "### 15. Sorting"
   ]
  },
  {
   "cell_type": "code",
   "execution_count": null,
   "metadata": {},
   "outputs": [],
   "source": [
    "# Using df1\n",
    "print(df1,'\\n\\n')\n",
    "df1.sort_index() # axis can be passed, default axis=0.\n",
    "## Sorted based on rows label.Sorted in alphabetical ."
   ]
  },
  {
   "cell_type": "code",
   "execution_count": null,
   "metadata": {},
   "outputs": [],
   "source": [
    "# Data is sorted in ascending order by default which can be made descending by passing ascending =False\n",
    "df1.sort_index(axis=1,ascending=False) # columns label are sorted according to alphabetical order"
   ]
  },
  {
   "cell_type": "code",
   "execution_count": null,
   "metadata": {},
   "outputs": [],
   "source": [
    "df1.sort_values(by=['Tue'],ascending=False) # only applies for column name\n",
    "# We can sort by selecting any column. "
   ]
  },
  {
   "cell_type": "markdown",
   "metadata": {},
   "source": [
    "##### Reference : Pandas documentation\n",
    "#### Thanks! This much for this module.Don't Miss Next Module.... Coming Soon..."
   ]
  }
 ],
 "metadata": {
  "kernelspec": {
   "display_name": "Python 3",
   "language": "python",
   "name": "python3"
  },
  "language_info": {
   "codemirror_mode": {
    "name": "ipython",
    "version": 3
   },
   "file_extension": ".py",
   "mimetype": "text/x-python",
   "name": "python",
   "nbconvert_exporter": "python",
   "pygments_lexer": "ipython3",
   "version": "3.7.1"
  }
 },
 "nbformat": 4,
 "nbformat_minor": 4
}
